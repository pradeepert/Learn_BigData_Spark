{
 "cells": [
  {
   "cell_type": "code",
   "execution_count": 1,
   "metadata": {},
   "outputs": [],
   "source": [
    "# Tricky question numbers good to refer below: \n",
    "\n",
    "# 101, 102, 103, 104, 105, 106, 107, 108, 120, 121, 123, 124, 125, 130, 131, 139, 141, 148, 149, 150\n",
    "# 151, 154, 159, 160, 161, 164, 165, 178, 179, 180, 194, 197, 206(*), 216, 218, 219, 224, 226"
   ]
  },
  {
   "cell_type": "code",
   "execution_count": 2,
   "metadata": {},
   "outputs": [],
   "source": [
    "from pyspark import SparkContext, SparkConf\n",
    "from pyspark import sql\n",
    "from pyspark.sql import Row                       # To use Row method for column\n",
    "#from pyspark.sql import functions as F\n",
    "from pyspark.sql.functions import *\n",
    "from pyspark.sql import Window\n",
    "from pyspark.sql.types import *"
   ]
  },
  {
   "cell_type": "code",
   "execution_count": 3,
   "metadata": {},
   "outputs": [],
   "source": [
    "conf = SparkConf()\n",
    "sc = SparkContext(conf=conf)\n",
    "sqlContext = sql.SQLContext(sc)"
   ]
  },
  {
   "cell_type": "code",
   "execution_count": 4,
   "metadata": {},
   "outputs": [],
   "source": [
    "empRDD = sc.textFile(\"emp.txt\",4)\n",
    "depRDD = sc.textFile(\"dept.txt\")\n",
    "salRDD = sc.textFile(\"salgrade.txt\")"
   ]
  },
  {
   "cell_type": "code",
   "execution_count": 5,
   "metadata": {},
   "outputs": [],
   "source": [
    "emp_col = Row('EMPNO', 'ENAME', 'JOB', 'MGR', 'HIREDATE', 'SAL', 'COMM', 'DEPTNO')\n",
    "dep_col = Row('DEPTNO', 'DNAME', 'DLOC')\n",
    "sal_col = Row('GRADE', 'LOSAL', 'HISAL')"
   ]
  },
  {
   "cell_type": "code",
   "execution_count": 6,
   "metadata": {},
   "outputs": [],
   "source": [
    "empROW = empRDD.map(lambda x: x.split(',')).map(lambda r: emp_col(*r))\n",
    "depRow = depRDD.map(lambda x: x.split(',')).map(lambda r: dep_col(*r))\n",
    "salROW = salRDD.map(lambda x: x.split(',')).map(lambda r: sal_col(*r))"
   ]
  },
  {
   "cell_type": "code",
   "execution_count": 7,
   "metadata": {},
   "outputs": [],
   "source": [
    "empDF = sqlContext.createDataFrame(empROW)\n",
    "depDF = sqlContext.createDataFrame(depRow)\n",
    "salDF = sqlContext.createDataFrame(salROW)"
   ]
  },
  {
   "cell_type": "code",
   "execution_count": 8,
   "metadata": {},
   "outputs": [],
   "source": [
    "def toInt(i):\n",
    "    return i.cast(\"integer\")\n",
    "\n",
    "def toDouble(d):\n",
    "    return d.cast(\"double\")\n",
    "\n",
    "emp = empDF.withColumn(\"EMPNO\", toInt(empDF.EMPNO)).withColumn(\"MGR\", toInt(empDF.MGR)).withColumn(\"HIREDATE\",to_date('HIREDATE')).withColumn(\"SAL\", toDouble(empDF.SAL)).withColumn('COMM', when(empDF.COMM == 'NULL', lit(None)).otherwise(empDF.COMM)).withColumn(\"DEPTNO\", toInt(empDF.DEPTNO)).filter('ENAME != \"ENAME\"')\n",
    "dept = depDF.withColumn(\"DEPTNO\", toInt(depDF.DEPTNO))\n",
    "sal = salDF.withColumn(\"GRADE\", toInt(salDF.GRADE)).withColumn(\"LOSAL\", toDouble(salDF.LOSAL)).withColumn(\"HISAL\", toDouble(salDF.HISAL)).na.drop()\n",
    "\n",
    "sqlContext.registerDataFrameAsTable(emp, \"emptab\")\n",
    "sqlContext.registerDataFrameAsTable(dept, \"depttab\")\n",
    "sqlContext.registerDataFrameAsTable(sal, \"saltab\")"
   ]
  },
  {
   "cell_type": "code",
   "execution_count": 9,
   "metadata": {},
   "outputs": [
    {
     "name": "stdout",
     "output_type": "stream",
     "text": [
      "+-----+-----+---+---+--------+---+----+------+\n",
      "|EMPNO|ENAME|JOB|MGR|HIREDATE|SAL|COMM|DEPTNO|\n",
      "+-----+-----+---+---+--------+---+----+------+\n",
      "+-----+-----+---+---+--------+---+----+------+\n",
      "\n"
     ]
    }
   ],
   "source": [
    "# 101 List the emp whose sal<his manager but more than any other manager.\n",
    "\n",
    "e = emp.alias(\"e\")\n",
    "m = emp.alias(\"m\")\n",
    "\n",
    "cond = [col(\"e.MGR\") == col(\"m.EMPNO\"), col(\"e.SAL\") > col(\"m.SAL\"), col(\"e.SAL\") < col(\"m.SAL\")]\n",
    "\n",
    "e.join(m, cond).select(\"e.*\").show()"
   ]
  },
  {
   "cell_type": "code",
   "execution_count": 10,
   "metadata": {},
   "outputs": [
    {
     "name": "stdout",
     "output_type": "stream",
     "text": [
      "+------+------+------------------+\n",
      "| ENAME|DEPTNO|            avgSAL|\n",
      "+------+------+------------------+\n",
      "| SMITH|    20|            2175.0|\n",
      "| JONES|    20|            2175.0|\n",
      "| SCOTT|    20|            2175.0|\n",
      "| ADAMS|    20|            2175.0|\n",
      "|  FORD|    20|            2175.0|\n",
      "| CLARK|    10|2916.6666666666665|\n",
      "|  KING|    10|2916.6666666666665|\n",
      "|MILLER|    10|2916.6666666666665|\n",
      "| ALLEN|    30|1566.6666666666667|\n",
      "|  WARD|    30|1566.6666666666667|\n",
      "|MARTIN|    30|1566.6666666666667|\n",
      "| BLAKE|    30|1566.6666666666667|\n",
      "|TURNER|    30|1566.6666666666667|\n",
      "| JAMES|    30|1566.6666666666667|\n",
      "+------+------+------------------+\n",
      "\n"
     ]
    }
   ],
   "source": [
    "# 102 List the employee names and his average salary department wise.\n",
    "\n",
    "empAvgSalDept = emp.join((emp.groupBy(\"DEPTNO\").agg(avg(\"SAL\").alias(\"avgSAL\"))), \"DEPTNO\")\n",
    "\n",
    "empAvgSalDept.select(\"ENAME\", \"DEPTNO\", \"avgSAL\").show()"
   ]
  },
  {
   "cell_type": "code",
   "execution_count": 11,
   "metadata": {},
   "outputs": [
    {
     "name": "stdout",
     "output_type": "stream",
     "text": [
      "+-----+------+--------+----+----------+------+-------+------+----+\n",
      "|EMPNO| ENAME|     JOB| MGR|  HIREDATE|   SAL|   COMM|DEPTNO|rank|\n",
      "+-----+------+--------+----+----------+------+-------+------+----+\n",
      "| 7369| SMITH|   CLERK|7902|1980-12-17| 800.0|   null|    20|   1|\n",
      "| 7900| JAMES|   CLERK|7698|1981-12-03| 950.0|   null|    30|   2|\n",
      "| 7876| ADAMS|   CLERK|7788|1983-01-12|1100.0|   null|    20|   3|\n",
      "| 7521|  WARD|SALESMAN|7698|1981-02-22|1250.0| 500.00|    30|   4|\n",
      "| 7654|MARTIN|SALESMAN|7698|1981-09-28|1250.0|1400.00|    30|   4|\n",
      "| 7934|MILLER|   CLERK|7782|1982-01-23|1300.0|   null|    10|   5|\n",
      "+-----+------+--------+----+----------+------+-------+------+----+\n",
      "\n"
     ]
    }
   ],
   "source": [
    "# 103. Find out least 5 earners of the company\n",
    "\n",
    "emp.withColumn(\"rank\", dense_rank().over(Window.orderBy(asc(\"SAL\")))).filter(\"rank < 6\").show()"
   ]
  },
  {
   "cell_type": "code",
   "execution_count": 12,
   "metadata": {},
   "outputs": [
    {
     "name": "stdout",
     "output_type": "stream",
     "text": [
      "+-----+-----+-------+----+----------+------+----+------+-----+-----+-------+----+----------+------+----+------+\n",
      "|EMPNO|ENAME|    JOB| MGR|  HIREDATE|   SAL|COMM|DEPTNO|EMPNO|ENAME|    JOB| MGR|  HIREDATE|   SAL|COMM|DEPTNO|\n",
      "+-----+-----+-------+----+----------+------+----+------+-----+-----+-------+----+----------+------+----+------+\n",
      "| 7788|SCOTT|ANALYST|7566|1982-12-09|3000.0|null|    20| 7566|JONES|MANAGER|7839|1981-04-02|2975.0|null|    20|\n",
      "| 7902| FORD|ANALYST|7566|1981-12-03|3000.0|null|    20| 7566|JONES|MANAGER|7839|1981-04-02|2975.0|null|    20|\n",
      "+-----+-----+-------+----+----------+------+----+------+-----+-----+-------+----+----------+------+----+------+\n",
      "\n"
     ]
    }
   ],
   "source": [
    "# 104. Find out emps whose salaries greater than salaries of their managers.\n",
    "\n",
    "emp.alias(\"e\").join(emp.alias(\"m\"), [col(\"e.MGR\") == col(\"m.EMPNO\"), col(\"e.SAL\") > col(\"m.SAL\")]).show()"
   ]
  },
  {
   "cell_type": "code",
   "execution_count": 13,
   "metadata": {},
   "outputs": [
    {
     "name": "stdout",
     "output_type": "stream",
     "text": [
      "+-----+-----+-------+----+----------+------+----+------+\n",
      "|EMPNO|ENAME|    JOB| MGR|  HIREDATE|   SAL|COMM|DEPTNO|\n",
      "+-----+-----+-------+----+----------+------+----+------+\n",
      "| 7788|SCOTT|ANALYST|7566|1982-12-09|3000.0|null|    20|\n",
      "| 7902| FORD|ANALYST|7566|1981-12-03|3000.0|null|    20|\n",
      "| 7566|JONES|MANAGER|7839|1981-04-02|2975.0|null|    20|\n",
      "| 7698|BLAKE|MANAGER|7839|1981-05-01|2850.0|null|    30|\n",
      "| 7782|CLARK|MANAGER|7839|1981-06-09|2450.0|null|    10|\n",
      "+-----+-----+-------+----+----------+------+----+------+\n",
      "\n"
     ]
    }
   ],
   "source": [
    "# 105. List the managers who are not working under the president\n",
    "\n",
    "emp.alias(\"e\").join(emp.alias(\"m\"), col(\"e.MGR\") == col(\"m.EMPNO\"))\\\n",
    ".select(\"m.*\").filter(col(\"e.MGR\") != 7839).distinct().show()"
   ]
  },
  {
   "cell_type": "code",
   "execution_count": 14,
   "metadata": {},
   "outputs": [
    {
     "name": "stdout",
     "output_type": "stream",
     "text": [
      "+-----+-----+---+---+--------+---+----+------+\n",
      "|EMPNO|ENAME|JOB|MGR|HIREDATE|SAL|COMM|DEPTNO|\n",
      "+-----+-----+---+---+--------+---+----+------+\n",
      "+-----+-----+---+---+--------+---+----+------+\n",
      "\n"
     ]
    }
   ],
   "source": [
    "# 106. List the records from emp whose deptno isnot in dept.\n",
    "\n",
    "deptno = dept.select(\"DEPTNO\").rdd.map(lambda x: x[0]).collect()\n",
    "\n",
    "emp.filter(~(emp.DEPTNO.isin(deptno))).show()"
   ]
  },
  {
   "cell_type": "code",
   "execution_count": 15,
   "metadata": {},
   "outputs": [
    {
     "name": "stdout",
     "output_type": "stream",
     "text": [
      "+-----+------+--------+----+----------+------+-------+------+-----+------+\n",
      "|EMPNO| ENAME|     JOB| MGR|  HIREDATE|   SAL|   COMM|DEPTNO|EMPNO|   SAL|\n",
      "+-----+------+--------+----+----------+------+-------+------+-----+------+\n",
      "| 7499| ALLEN|SALESMAN|7698|1981-02-20|1600.0| 300.00|    30| 7369| 800.0|\n",
      "| 7499| ALLEN|SALESMAN|7698|1981-02-20|1600.0| 300.00|    30| 7521|1250.0|\n",
      "| 7521|  WARD|SALESMAN|7698|1981-02-22|1250.0| 500.00|    30| 7369| 800.0|\n",
      "| 7499| ALLEN|SALESMAN|7698|1981-02-20|1600.0| 300.00|    30| 7654|1250.0|\n",
      "| 7499| ALLEN|SALESMAN|7698|1981-02-20|1600.0| 300.00|    30| 7844|1500.0|\n",
      "| 7499| ALLEN|SALESMAN|7698|1981-02-20|1600.0| 300.00|    30| 7876|1100.0|\n",
      "| 7521|  WARD|SALESMAN|7698|1981-02-22|1250.0| 500.00|    30| 7876|1100.0|\n",
      "| 7499| ALLEN|SALESMAN|7698|1981-02-20|1600.0| 300.00|    30| 7900| 950.0|\n",
      "| 7499| ALLEN|SALESMAN|7698|1981-02-20|1600.0| 300.00|    30| 7934|1300.0|\n",
      "| 7521|  WARD|SALESMAN|7698|1981-02-22|1250.0| 500.00|    30| 7900| 950.0|\n",
      "| 7566| JONES| MANAGER|7839|1981-04-02|2975.0|   null|    20| 7369| 800.0|\n",
      "| 7566| JONES| MANAGER|7839|1981-04-02|2975.0|   null|    20| 7499|1600.0|\n",
      "| 7566| JONES| MANAGER|7839|1981-04-02|2975.0|   null|    20| 7521|1250.0|\n",
      "| 7654|MARTIN|SALESMAN|7698|1981-09-28|1250.0|1400.00|    30| 7369| 800.0|\n",
      "| 7698| BLAKE| MANAGER|7839|1981-05-01|2850.0|   null|    30| 7369| 800.0|\n",
      "| 7698| BLAKE| MANAGER|7839|1981-05-01|2850.0|   null|    30| 7499|1600.0|\n",
      "| 7698| BLAKE| MANAGER|7839|1981-05-01|2850.0|   null|    30| 7521|1250.0|\n",
      "| 7782| CLARK| MANAGER|7839|1981-06-09|2450.0|   null|    10| 7369| 800.0|\n",
      "| 7782| CLARK| MANAGER|7839|1981-06-09|2450.0|   null|    10| 7499|1600.0|\n",
      "| 7782| CLARK| MANAGER|7839|1981-06-09|2450.0|   null|    10| 7521|1250.0|\n",
      "+-----+------+--------+----+----------+------+-------+------+-----+------+\n",
      "only showing top 20 rows\n",
      "\n"
     ]
    }
   ],
   "source": [
    "# 107. List the Name , Salary, Comm and Net Pay is more than any other employee.\n",
    "\n",
    "emp.alias(\"e\").join(emp.alias(\"a\"), [col(\"e.SAL\") > col(\"a.SAL\")]).select(\"e.*\", \"a.EMPNO\", \"a.SAL\").show()"
   ]
  },
  {
   "cell_type": "code",
   "execution_count": 16,
   "metadata": {},
   "outputs": [
    {
     "name": "stdout",
     "output_type": "stream",
     "text": [
      "+-----+------+---------+----+----------+------+-------+------+\n",
      "|EMPNO| ENAME|      JOB| MGR|  HIREDATE|   SAL|   COMM|DEPTNO|\n",
      "+-----+------+---------+----+----------+------+-------+------+\n",
      "| 7499| ALLEN| SALESMAN|7698|1981-02-20|1600.0| 300.00|    30|\n",
      "| 7521|  WARD| SALESMAN|7698|1981-02-22|1250.0| 500.00|    30|\n",
      "| 7566| JONES|  MANAGER|7839|1981-04-02|2975.0|   null|    20|\n",
      "| 7654|MARTIN| SALESMAN|7698|1981-09-28|1250.0|1400.00|    30|\n",
      "| 7698| BLAKE|  MANAGER|7839|1981-05-01|2850.0|   null|    30|\n",
      "| 7782| CLARK|  MANAGER|7839|1981-06-09|2450.0|   null|    10|\n",
      "| 7788| SCOTT|  ANALYST|7566|1982-12-09|3000.0|   null|    20|\n",
      "| 7839|  KING|PRESIDENT|null|1981-11-17|5000.0|   null|    10|\n",
      "| 7844|TURNER| SALESMAN|7698|1981-09-08|1500.0|   0.00|    30|\n",
      "| 7876| ADAMS|    CLERK|7788|1983-01-12|1100.0|   null|    20|\n",
      "| 7900| JAMES|    CLERK|7698|1981-12-03| 950.0|   null|    30|\n",
      "| 7902|  FORD|  ANALYST|7566|1981-12-03|3000.0|   null|    20|\n",
      "| 7934|MILLER|    CLERK|7782|1982-01-23|1300.0|   null|    10|\n",
      "+-----+------+---------+----+----------+------+-------+------+\n",
      "\n"
     ]
    }
   ],
   "source": [
    "# 108.List the Enames who are retiring after 31-Dec-2000 the max Job period is 20Y.\n",
    "\n",
    "emp.filter(add_months(\"HIREDATE\", 240) > \"2000-12-31\").show()"
   ]
  },
  {
   "cell_type": "code",
   "execution_count": 17,
   "metadata": {},
   "outputs": [
    {
     "name": "stdout",
     "output_type": "stream",
     "text": [
      "+-----+-----+-------+----+----------+------+----+------+\n",
      "|EMPNO|ENAME|    JOB| MGR|  HIREDATE|   SAL|COMM|DEPTNO|\n",
      "+-----+-----+-------+----+----------+------+----+------+\n",
      "| 7566|JONES|MANAGER|7839|1981-04-02|2975.0|null|    20|\n",
      "+-----+-----+-------+----+----------+------+----+------+\n",
      "\n"
     ]
    }
   ],
   "source": [
    "#109. List those Emps whose Salary is odd value\n",
    "\n",
    "emp.filter(emp.SAL%2 == 1).show()"
   ]
  },
  {
   "cell_type": "code",
   "execution_count": 18,
   "metadata": {},
   "outputs": [
    {
     "name": "stdout",
     "output_type": "stream",
     "text": [
      "+-----+-----+-----+----+----------+-----+----+------+\n",
      "|EMPNO|ENAME|  JOB| MGR|  HIREDATE|  SAL|COMM|DEPTNO|\n",
      "+-----+-----+-----+----+----------+-----+----+------+\n",
      "| 7369|SMITH|CLERK|7902|1980-12-17|800.0|null|    20|\n",
      "| 7900|JAMES|CLERK|7698|1981-12-03|950.0|null|    30|\n",
      "+-----+-----+-----+----+----------+-----+----+------+\n",
      "\n"
     ]
    }
   ],
   "source": [
    "# 110. List the emp’s whose Salary contain 3 digits.\n",
    "\n",
    "emp.filter(length(emp.SAL) == 5).show() #due double value added 3+2 to contain(. and 0)"
   ]
  },
  {
   "cell_type": "code",
   "execution_count": 19,
   "metadata": {},
   "outputs": [
    {
     "name": "stdout",
     "output_type": "stream",
     "text": [
      "+-----+-----+-------+----+----------+------+----+------+\n",
      "|EMPNO|ENAME|    JOB| MGR|  HIREDATE|   SAL|COMM|DEPTNO|\n",
      "+-----+-----+-------+----+----------+------+----+------+\n",
      "| 7369|SMITH|  CLERK|7902|1980-12-17| 800.0|null|    20|\n",
      "| 7788|SCOTT|ANALYST|7566|1982-12-09|3000.0|null|    20|\n",
      "| 7900|JAMES|  CLERK|7698|1981-12-03| 950.0|null|    30|\n",
      "| 7902| FORD|ANALYST|7566|1981-12-03|3000.0|null|    20|\n",
      "+-----+-----+-------+----+----------+------+----+------+\n",
      "\n"
     ]
    }
   ],
   "source": [
    "# 111. List the emps who joined in the month of DEC.\n",
    "\n",
    "emp.filter(month(\"HIREDATE\") == 12).show()"
   ]
  },
  {
   "cell_type": "code",
   "execution_count": 20,
   "metadata": {},
   "outputs": [
    {
     "name": "stdout",
     "output_type": "stream",
     "text": [
      "+-----+------+--------+----+----------+------+-------+------+\n",
      "|EMPNO| ENAME|     JOB| MGR|  HIREDATE|   SAL|   COMM|DEPTNO|\n",
      "+-----+------+--------+----+----------+------+-------+------+\n",
      "| 7499| ALLEN|SALESMAN|7698|1981-02-20|1600.0| 300.00|    30|\n",
      "| 7521|  WARD|SALESMAN|7698|1981-02-22|1250.0| 500.00|    30|\n",
      "| 7654|MARTIN|SALESMAN|7698|1981-09-28|1250.0|1400.00|    30|\n",
      "| 7698| BLAKE| MANAGER|7839|1981-05-01|2850.0|   null|    30|\n",
      "| 7782| CLARK| MANAGER|7839|1981-06-09|2450.0|   null|    10|\n",
      "| 7876| ADAMS|   CLERK|7788|1983-01-12|1100.0|   null|    20|\n",
      "| 7900| JAMES|   CLERK|7698|1981-12-03| 950.0|   null|    30|\n",
      "+-----+------+--------+----+----------+------+-------+------+\n",
      "\n"
     ]
    }
   ],
   "source": [
    "# 112. List the emps whose names contains ‘A’.\n",
    "\n",
    "emp.filter(emp.ENAME.contains('A')).show()"
   ]
  },
  {
   "cell_type": "code",
   "execution_count": 21,
   "metadata": {},
   "outputs": [
    {
     "name": "stdout",
     "output_type": "stream",
     "text": [
      "+-----+-----+---+---+--------+---+----+------+\n",
      "|EMPNO|ENAME|JOB|MGR|HIREDATE|SAL|COMM|DEPTNO|\n",
      "+-----+-----+---+---+--------+---+----+------+\n",
      "+-----+-----+---+---+--------+---+----+------+\n",
      "\n"
     ]
    }
   ],
   "source": [
    "# 113. List the emps whose Deptno is available in his Salary.\n",
    "\n",
    "emp.filter(instr(\"SAL\", \"DEPTNO\") > 0).show()"
   ]
  },
  {
   "cell_type": "code",
   "execution_count": 22,
   "metadata": {},
   "outputs": [
    {
     "name": "stdout",
     "output_type": "stream",
     "text": [
      "+-----+-----+---+---+--------+---+----+------+\n",
      "|EMPNO|ENAME|JOB|MGR|HIREDATE|SAL|COMM|DEPTNO|\n",
      "+-----+-----+---+---+--------+---+----+------+\n",
      "+-----+-----+---+---+--------+---+----+------+\n",
      "\n"
     ]
    }
   ],
   "source": [
    "# 115. List the emps Whose 10% of Salary is equal to year of joining.\n",
    "\n",
    "emp.filter(emp.SAL*10/100 == year(\"HIREDATE\")).show()"
   ]
  },
  {
   "cell_type": "code",
   "execution_count": 23,
   "metadata": {},
   "outputs": [
    {
     "name": "stdout",
     "output_type": "stream",
     "text": [
      "case 1 result\n",
      "+-----+-----+---------+----+----------+------+----+------+\n",
      "|EMPNO|ENAME|      JOB| MGR|  HIREDATE|   SAL|COMM|DEPTNO|\n",
      "+-----+-----+---------+----+----------+------+----+------+\n",
      "| 7566|JONES|  MANAGER|7839|1981-04-02|2975.0|null|    20|\n",
      "| 7698|BLAKE|  MANAGER|7839|1981-05-01|2850.0|null|    30|\n",
      "| 7782|CLARK|  MANAGER|7839|1981-06-09|2450.0|null|    10|\n",
      "| 7788|SCOTT|  ANALYST|7566|1982-12-09|3000.0|null|    20|\n",
      "| 7839| KING|PRESIDENT|null|1981-11-17|5000.0|null|    10|\n",
      "| 7902| FORD|  ANALYST|7566|1981-12-03|3000.0|null|    20|\n",
      "+-----+-----+---------+----+----------+------+----+------+\n",
      "\n",
      "case 2 result\n",
      "+-----+-----+---------+----+----------+------+----+------+\n",
      "|EMPNO|ENAME|      JOB| MGR|  HIREDATE|   SAL|COMM|DEPTNO|\n",
      "+-----+-----+---------+----+----------+------+----+------+\n",
      "| 7788|SCOTT|  ANALYST|7566|1982-12-09|3000.0|null|    20|\n",
      "| 7902| FORD|  ANALYST|7566|1981-12-03|3000.0|null|    20|\n",
      "| 7566|JONES|  MANAGER|7839|1981-04-02|2975.0|null|    20|\n",
      "| 7698|BLAKE|  MANAGER|7839|1981-05-01|2850.0|null|    30|\n",
      "| 7839| KING|PRESIDENT|null|1981-11-17|5000.0|null|    10|\n",
      "| 7782|CLARK|  MANAGER|7839|1981-06-09|2450.0|null|    10|\n",
      "+-----+-----+---------+----+----------+------+----+------+\n",
      "\n"
     ]
    }
   ],
   "source": [
    "# 120. List the emps who are working as Managers.\n",
    "\n",
    "# case 1:\n",
    "print('case 1 result')\n",
    "mgrID = emp.select(\"MGR\").distinct().rdd.map(lambda x:x[0]).collect()\n",
    "\n",
    "emp.filter(emp.EMPNO.isin(mgrID)).show()\n",
    "\n",
    "# case 2:\n",
    "print('case 2 result')\n",
    "emp.alias(\"e\").join(emp.alias(\"m\"), col(\"e.MGR\") == col(\"m.EMPNO\")).select(\"m.*\").distinct().show()"
   ]
  },
  {
   "cell_type": "code",
   "execution_count": 24,
   "metadata": {},
   "outputs": [
    {
     "name": "stdout",
     "output_type": "stream",
     "text": [
      "+------+-----+----+\n",
      "|DEPTNO|count|rank|\n",
      "+------+-----+----+\n",
      "|    30|    6|   1|\n",
      "+------+-----+----+\n",
      "\n"
     ]
    }
   ],
   "source": [
    "# 121. List THE Name of dept where highest no.of emps are working.\n",
    "\n",
    "emp.groupBy(\"DEPTNO\").agg(count(\"EMPNO\").alias(\"count\"))\\\n",
    "    .withColumn(\"rank\", dense_rank().over(Window.orderBy(desc(\"count\"))))\\\n",
    "    .filter(\"rank = 1\").show()"
   ]
  },
  {
   "cell_type": "code",
   "execution_count": 25,
   "metadata": {},
   "outputs": [
    {
     "data": {
      "text/plain": [
       "6"
      ]
     },
     "execution_count": 25,
     "metadata": {},
     "output_type": "execute_result"
    }
   ],
   "source": [
    "# 122. Count the No.of emps who are working as ‘Managers’(using set option).\n",
    "\n",
    "mgrID = emp.select(\"MGR\").distinct().rdd.map(lambda x:x[0]).collect()\n",
    "\n",
    "emp.filter(emp.EMPNO.isin(mgrID)).count()"
   ]
  },
  {
   "cell_type": "code",
   "execution_count": 26,
   "metadata": {},
   "outputs": [
    {
     "name": "stdout",
     "output_type": "stream",
     "text": [
      "+-----+-----+-------+----+----------+------+----+------+-----+-----+-------+----+----------+------+----+------+\n",
      "|EMPNO|ENAME|    JOB| MGR|  HIREDATE|   SAL|COMM|DEPTNO|EMPNO|ENAME|    JOB| MGR|  HIREDATE|   SAL|COMM|DEPTNO|\n",
      "+-----+-----+-------+----+----------+------+----+------+-----+-----+-------+----+----------+------+----+------+\n",
      "| 7900|JAMES|  CLERK|7698|1981-12-03| 950.0|null|    30| 7902| FORD|ANALYST|7566|1981-12-03|3000.0|null|    20|\n",
      "| 7902| FORD|ANALYST|7566|1981-12-03|3000.0|null|    20| 7900|JAMES|  CLERK|7698|1981-12-03| 950.0|null|    30|\n",
      "+-----+-----+-------+----+----------+------+----+------+-----+-----+-------+----+----------+------+----+------+\n",
      "\n"
     ]
    }
   ],
   "source": [
    "# 123. List the emps who joined in the company on the same date.\n",
    "\n",
    "cond = [col(\"e.HIREDATE\") == col(\"h.HIREDATE\"), col(\"e.EMPNO\") != col(\"e.EMPNO\")]\n",
    "\n",
    "emp.alias(\"e\").join(emp.alias(\"h\"), cond)\\\n",
    ".show()"
   ]
  },
  {
   "cell_type": "code",
   "execution_count": 27,
   "metadata": {},
   "outputs": [
    {
     "name": "stdout",
     "output_type": "stream",
     "text": [
      "+------+-----+------+--------+----+----------+------+------+-----+------+------+-----+-------+\n",
      "|DEPTNO|EMPNO| ENAME|     JOB| MGR|  HIREDATE|   SAL|  COMM|GRADE| LOSAL| HISAL|DNAME|   DLOC|\n",
      "+------+-----+------+--------+----+----------+------+------+-----+------+------+-----+-------+\n",
      "|    30| 7499| ALLEN|SALESMAN|7698|1981-02-20|1600.0|300.00|    3|1401.0|2000.0|SALES|CHICAGO|\n",
      "|    30| 7844|TURNER|SALESMAN|7698|1981-09-08|1500.0|  0.00|    3|1401.0|2000.0|SALES|CHICAGO|\n",
      "+------+-----+------+--------+----+----------+------+------+-----+------+------+-----+-------+\n",
      "\n"
     ]
    }
   ],
   "source": [
    "# 124. List the details of the emps whose Grade is equal to one tenth of Sales Dept.\n",
    "\n",
    "emp.join(sal, emp.SAL.between(sal.LOSAL, sal.HISAL))\\\n",
    "    .join(dept, \"DEPTNO\").filter('GRADE = 0.1*30').show() #30 means sales dept value"
   ]
  },
  {
   "cell_type": "code",
   "execution_count": 28,
   "metadata": {},
   "outputs": [
    {
     "name": "stdout",
     "output_type": "stream",
     "text": [
      "+------+-----+\n",
      "|DEPTNO|count|\n",
      "+------+-----+\n",
      "|    20|    5|\n",
      "|    30|    6|\n",
      "+------+-----+\n",
      "\n"
     ]
    }
   ],
   "source": [
    "# 125. List the name of the dept where more than average no. of emps are working.\n",
    "\n",
    "empCount = emp.groupBy(\"DEPTNO\").agg(count(\"EMPNO\").alias(\"count\"))\n",
    "\n",
    "avgEmpCount = empCount.agg(avg(\"count\")).head()[0]\n",
    "\n",
    "empCount.filter(col(\"count\") > avgEmpCount).show()\n"
   ]
  },
  {
   "cell_type": "code",
   "execution_count": 29,
   "metadata": {},
   "outputs": [
    {
     "name": "stdout",
     "output_type": "stream",
     "text": [
      "+----+-----+-----+-----+-------+----+----------+------+----+------+\n",
      "| MGR|count|EMPNO|ENAME|    JOB| MGR|  HIREDATE|   SAL|COMM|DEPTNO|\n",
      "+----+-----+-----+-----+-------+----+----------+------+----+------+\n",
      "|7698|    5| 7698|BLAKE|MANAGER|7839|1981-05-01|2850.0|null|    30|\n",
      "+----+-----+-----+-----+-------+----+----------+------+----+------+\n",
      "\n"
     ]
    }
   ],
   "source": [
    "# 126. List the Managers name who is having max no.of emps working under him.\n",
    "\n",
    "mgrEmplys = emp.groupBy(\"MGR\").agg(count(\"EMPNO\").alias(\"count\"))\n",
    "maxCount = mgrEmplys.agg(max(\"count\")).head()[0]\n",
    "mgrEmplys.filter(col(\"count\") == maxCount).join(emp, mgrEmplys.MGR == emp.EMPNO).show()"
   ]
  },
  {
   "cell_type": "code",
   "execution_count": 30,
   "metadata": {},
   "outputs": [
    {
     "name": "stdout",
     "output_type": "stream",
     "text": [
      "+------+--------+\n",
      "| ENAME| inc.15%|\n",
      "+------+--------+\n",
      "| SMITH|  $920.0|\n",
      "| ALLEN| $1840.0|\n",
      "|  WARD| $1437.5|\n",
      "| JONES|$3421.25|\n",
      "|MARTIN| $1437.5|\n",
      "| BLAKE| $3277.5|\n",
      "| CLARK| $2817.5|\n",
      "| SCOTT| $3450.0|\n",
      "|  KING| $5750.0|\n",
      "|TURNER| $1725.0|\n",
      "| ADAMS| $1265.0|\n",
      "| JAMES| $1092.5|\n",
      "|  FORD| $3450.0|\n",
      "|MILLER| $1495.0|\n",
      "+------+--------+\n",
      "\n"
     ]
    }
   ],
   "source": [
    "# 127. List the Ename and Sal is increased by 15% and expressed as no.of Dollars.\n",
    "\n",
    "emp.select(\"ENAME\", concat(lit(\"$\"), emp.SAL + emp.SAL*15/100).alias(\"inc.15%\")).show()"
   ]
  },
  {
   "cell_type": "code",
   "execution_count": 31,
   "metadata": {},
   "outputs": [
    {
     "name": "stdout",
     "output_type": "stream",
     "text": [
      "+---------------+\n",
      "|    EMP_AND_JOB|\n",
      "+---------------+\n",
      "|    SMITH-CLERK|\n",
      "| ALLEN-SALESMAN|\n",
      "|  WARD-SALESMAN|\n",
      "|  JONES-MANAGER|\n",
      "|MARTIN-SALESMAN|\n",
      "|  BLAKE-MANAGER|\n",
      "|  CLARK-MANAGER|\n",
      "|  SCOTT-ANALYST|\n",
      "| KING-PRESIDENT|\n",
      "|TURNER-SALESMAN|\n",
      "|    ADAMS-CLERK|\n",
      "|    JAMES-CLERK|\n",
      "|   FORD-ANALYST|\n",
      "|   MILLER-CLERK|\n",
      "+---------------+\n",
      "\n"
     ]
    }
   ],
   "source": [
    "# 128. Produce the output of EMP table ‘EMP_AND_JOB’ for Ename and Job.\n",
    "\n",
    "emp.select(concat(emp.ENAME, lit(\"-\"),emp.JOB).alias(\"EMP_AND_JOB\")).show()"
   ]
  },
  {
   "cell_type": "code",
   "execution_count": 32,
   "metadata": {},
   "outputs": [
    {
     "name": "stdout",
     "output_type": "stream",
     "text": [
      "+-------------------------------+\n",
      "|concat(ENAME, (, lower(JOB), ))|\n",
      "+-------------------------------+\n",
      "|                   SMITH(clerk)|\n",
      "|                ALLEN(salesman)|\n",
      "|                 WARD(salesman)|\n",
      "|                 JONES(manager)|\n",
      "|               MARTIN(salesman)|\n",
      "|                 BLAKE(manager)|\n",
      "|                 CLARK(manager)|\n",
      "|                 SCOTT(analyst)|\n",
      "|                KING(president)|\n",
      "|               TURNER(salesman)|\n",
      "|                   ADAMS(clerk)|\n",
      "|                   JAMES(clerk)|\n",
      "|                  FORD(analyst)|\n",
      "|                  MILLER(clerk)|\n",
      "+-------------------------------+\n",
      "\n"
     ]
    }
   ],
   "source": [
    "# 129. Produce the following output from EMP.\n",
    "# EMPLOYEE\n",
    "# SMITH (clerk)\n",
    "# ALLEN (Salesman)\n",
    "\n",
    "emp.select(concat(emp.ENAME, lit(\"(\"), lower(emp.JOB), lit(\")\"))).show()"
   ]
  },
  {
   "cell_type": "code",
   "execution_count": 33,
   "metadata": {},
   "outputs": [
    {
     "name": "stdout",
     "output_type": "stream",
     "text": [
      "+--------------------------------+\n",
      "|date_format(HIREDATE, MMMM d, y)|\n",
      "+--------------------------------+\n",
      "|               December 17, 1980|\n",
      "|               February 20, 1981|\n",
      "|               February 22, 1981|\n",
      "|                   April 2, 1981|\n",
      "|              September 28, 1981|\n",
      "|                     May 1, 1981|\n",
      "|                    June 9, 1981|\n",
      "|                December 9, 1982|\n",
      "|               November 17, 1981|\n",
      "|               September 8, 1981|\n",
      "|                January 12, 1983|\n",
      "|                December 3, 1981|\n",
      "|                December 3, 1981|\n",
      "|                January 23, 1982|\n",
      "+--------------------------------+\n",
      "\n"
     ]
    }
   ],
   "source": [
    "# 130) List the emps with Hire date in format June 4, 1988.\n",
    "\n",
    "emp.select(date_format(\"HIREDATE\",\"MMMM d, y\")).show()"
   ]
  },
  {
   "cell_type": "code",
   "execution_count": 34,
   "metadata": {},
   "outputs": [
    {
     "name": "stdout",
     "output_type": "stream",
     "text": [
      "+-----+------+---------+----+----------+------------------+-------+------+\n",
      "|EMPNO| ENAME|      JOB| MGR|  HIREDATE|               SAL|   COMM|DEPTNO|\n",
      "+-----+------+---------+----+----------+------------------+-------+------+\n",
      "| 7369| SMITH|    CLERK|7902|1980-12-17|  800.0 BELOW 1500|   null|    20|\n",
      "| 7499| ALLEN| SALESMAN|7698|1981-02-20|1600.0 JUST SALARY| 300.00|    30|\n",
      "| 7521|  WARD| SALESMAN|7698|1981-02-22| 1250.0 BELOW 1500| 500.00|    30|\n",
      "| 7566| JONES|  MANAGER|7839|1981-04-02|2975.0 JUST SALARY|   null|    20|\n",
      "| 7654|MARTIN| SALESMAN|7698|1981-09-28| 1250.0 BELOW 1500|1400.00|    30|\n",
      "| 7698| BLAKE|  MANAGER|7839|1981-05-01|2850.0 JUST SALARY|   null|    30|\n",
      "| 7782| CLARK|  MANAGER|7839|1981-06-09|2450.0 JUST SALARY|   null|    10|\n",
      "| 7788| SCOTT|  ANALYST|7566|1982-12-09|3000.0 JUST SALARY|   null|    20|\n",
      "| 7839|  KING|PRESIDENT|null|1981-11-17|5000.0 JUST SALARY|   null|    10|\n",
      "| 7844|TURNER| SALESMAN|7698|1981-09-08| 1500.0 BELOW 1500|   0.00|    30|\n",
      "| 7876| ADAMS|    CLERK|7788|1983-01-12| 1100.0 BELOW 1500|   null|    20|\n",
      "| 7900| JAMES|    CLERK|7698|1981-12-03|  950.0 BELOW 1500|   null|    30|\n",
      "| 7902|  FORD|  ANALYST|7566|1981-12-03|3000.0 JUST SALARY|   null|    20|\n",
      "| 7934|MILLER|    CLERK|7782|1982-01-23| 1300.0 BELOW 1500|   null|    10|\n",
      "+-----+------+---------+----+----------+------------------+-------+------+\n",
      "\n"
     ]
    }
   ],
   "source": [
    "# 131) Print a list of emp’s Listing ‘just salary’ if Salary is more than 1500, on target if\n",
    "# Salary is 1500 and ‘Below 1500’ if Salary is less than 1500\n",
    "\n",
    "emp.withColumn(\"SAL\", when(emp.SAL > 1500, concat(emp.SAL, lit(\" JUST SALARY\")))\\\n",
    "               .when(emp.SAL > 1500, concat(emp.SAL, lit(\" on TARGET\")))\\\n",
    "               .otherwise(concat(emp.SAL, lit(\" BELOW 1500\")))).show()"
   ]
  },
  {
   "cell_type": "code",
   "execution_count": 35,
   "metadata": {},
   "outputs": [],
   "source": [
    "# 132) Write a query which return the day of the week for any date entered in format ‘DD-MM-YY’.\n"
   ]
  },
  {
   "cell_type": "code",
   "execution_count": 36,
   "metadata": {},
   "outputs": [
    {
     "name": "stdout",
     "output_type": "stream",
     "text": [
      "+------------+\n",
      "|service/ EXP|\n",
      "+------------+\n",
      "|          38|\n",
      "|          37|\n",
      "|          37|\n",
      "|          37|\n",
      "|          37|\n",
      "|          37|\n",
      "|          37|\n",
      "|          36|\n",
      "|          37|\n",
      "|          37|\n",
      "|          35|\n",
      "|          37|\n",
      "|          37|\n",
      "|          36|\n",
      "+------------+\n",
      "\n"
     ]
    }
   ],
   "source": [
    "# 133) Write a query to calculate the length of service of any employee.\n",
    "\n",
    "emp.select((year(current_date()) - year(\"HIREDATE\")).alias(\"service/ EXP\")).show()\n"
   ]
  },
  {
   "cell_type": "code",
   "execution_count": 37,
   "metadata": {},
   "outputs": [],
   "source": [
    "# 135) Emps hired on or before 15 th of any month are paid on the last Friday of that\n",
    "# month those hired after 15 th are paid on the first Friday of the following month.\n",
    "# Print a list of emps their hire date and the first pay date. Sort on hire date.\n",
    "\n"
   ]
  },
  {
   "cell_type": "code",
   "execution_count": 38,
   "metadata": {},
   "outputs": [
    {
     "name": "stdout",
     "output_type": "stream",
     "text": [
      "+---------------------------------+\n",
      "|length(regexp_replace(DLOC,  , ))|\n",
      "+---------------------------------+\n",
      "|                                4|\n",
      "|                                7|\n",
      "|                                6|\n",
      "|                                7|\n",
      "|                                6|\n",
      "+---------------------------------+\n",
      "\n"
     ]
    }
   ],
   "source": [
    "# 136) Count the no. of characters with out considering spaces for each DLOC.\n",
    "\n",
    "dept.select(length(regexp_replace(\"DLOC\",\" \", \"\"))).show()"
   ]
  },
  {
   "cell_type": "code",
   "execution_count": 39,
   "metadata": {},
   "outputs": [
    {
     "name": "stdout",
     "output_type": "stream",
     "text": [
      "+-----+-----+-----+----+----------+-----+----+------+\n",
      "|EMPNO|ENAME|  JOB| MGR|  HIREDATE|  SAL|COMM|DEPTNO|\n",
      "+-----+-----+-----+----+----------+-----+----+------+\n",
      "| 7369|SMITH|CLERK|7902|1980-12-17|800.0|null|    20|\n",
      "+-----+-----+-----+----+----------+-----+----+------+\n",
      "\n"
     ]
    }
   ],
   "source": [
    "#like example\n",
    "\n",
    "emp.filter(emp.ENAME.like(\"%TH\")).show()"
   ]
  },
  {
   "cell_type": "code",
   "execution_count": 40,
   "metadata": {},
   "outputs": [
    {
     "name": "stdout",
     "output_type": "stream",
     "text": [
      "+-----+-----+-------+----+----------+------+----+------+-----+-----+-------+----+----------+------+----+------+\n",
      "|EMPNO|ENAME|    JOB| MGR|  HIREDATE|   SAL|COMM|DEPTNO|EMPNO|ENAME|    JOB| MGR|  HIREDATE|   SAL|COMM|DEPTNO|\n",
      "+-----+-----+-------+----+----------+------+----+------+-----+-----+-------+----+----------+------+----+------+\n",
      "| 7788|SCOTT|ANALYST|7566|1982-12-09|3000.0|null|    20| 7566|JONES|MANAGER|7839|1981-04-02|2975.0|null|    20|\n",
      "| 7902| FORD|ANALYST|7566|1981-12-03|3000.0|null|    20| 7566|JONES|MANAGER|7839|1981-04-02|2975.0|null|    20|\n",
      "+-----+-----+-------+----+----------+------+----+------+-----+-----+-------+----+----------+------+----+------+\n",
      "\n"
     ]
    }
   ],
   "source": [
    "# 139) List those Managers who are getting less than his emps Salary.\n",
    "\n",
    "emp.alias(\"e\").join(emp.alias(\"m\"), [col(\"e.MGR\") == col(\"m.EMPNO\"), col(\"e.SAL\") > col(\"m.SAL\")], \"inner\").show()"
   ]
  },
  {
   "cell_type": "code",
   "execution_count": 41,
   "metadata": {},
   "outputs": [
    {
     "name": "stdout",
     "output_type": "stream",
     "text": [
      "+-----+------+--------+----+----------+------+-------+------+\n",
      "|EMPNO| ENAME|     JOB| MGR|  HIREDATE|   SAL|   COMM|DEPTNO|\n",
      "+-----+------+--------+----+----------+------+-------+------+\n",
      "| 7499| ALLEN|SALESMAN|7698|1981-02-20|1600.0| 300.00|    30|\n",
      "| 7521|  WARD|SALESMAN|7698|1981-02-22|1250.0| 500.00|    30|\n",
      "| 7654|MARTIN|SALESMAN|7698|1981-09-28|1250.0|1400.00|    30|\n",
      "| 7844|TURNER|SALESMAN|7698|1981-09-08|1500.0|   0.00|    30|\n",
      "| 7900| JAMES|   CLERK|7698|1981-12-03| 950.0|   null|    30|\n",
      "+-----+------+--------+----+----------+------+-------+------+\n",
      "\n"
     ]
    }
   ],
   "source": [
    "# 140) Print the details of all the emps who are sub-ordinates to Blake.\n",
    "\n",
    "blakeID = emp.filter('ENAME = \"BLAKE\"').select(\"EMPNO\").head()[0]\n",
    "\n",
    "emp.filter(emp.MGR == blakeID).show()"
   ]
  },
  {
   "cell_type": "code",
   "execution_count": 42,
   "metadata": {},
   "outputs": [
    {
     "name": "stdout",
     "output_type": "stream",
     "text": [
      "+-----+-----+---------+----+----------+------+----+------+\n",
      "|EMPNO|ENAME|      JOB| MGR|  HIREDATE|   SAL|COMM|DEPTNO|\n",
      "+-----+-----+---------+----+----------+------+----+------+\n",
      "| 7566|JONES|  MANAGER|7839|1981-04-02|2975.0|null|    20|\n",
      "| 7698|BLAKE|  MANAGER|7839|1981-05-01|2850.0|null|    30|\n",
      "| 7782|CLARK|  MANAGER|7839|1981-06-09|2450.0|null|    10|\n",
      "| 7788|SCOTT|  ANALYST|7566|1982-12-09|3000.0|null|    20|\n",
      "| 7839| KING|PRESIDENT|null|1981-11-17|5000.0|null|    10|\n",
      "| 7902| FORD|  ANALYST|7566|1981-12-03|3000.0|null|    20|\n",
      "+-----+-----+---------+----+----------+------+----+------+\n",
      "\n"
     ]
    }
   ],
   "source": [
    "# 141) List the emps who are working as Managers using co-related sub-query\n",
    "\n",
    "emp.filter(emp.EMPNO.isin(emp.select(\"MGR\").distinct().rdd.map(lambda x: x[0]).collect())).show()"
   ]
  },
  {
   "cell_type": "code",
   "execution_count": 43,
   "metadata": {},
   "outputs": [
    {
     "name": "stdout",
     "output_type": "stream",
     "text": [
      "+-----+-----+-------+----+----------+------+----+------+\n",
      "|EMPNO|ENAME|    JOB| MGR|  HIREDATE|   SAL|COMM|DEPTNO|\n",
      "+-----+-----+-------+----+----------+------+----+------+\n",
      "| 7788|SCOTT|ANALYST|7566|1982-12-09|3000.0|null|    20|\n",
      "| 7902| FORD|ANALYST|7566|1981-12-03|3000.0|null|    20|\n",
      "| 7566|JONES|MANAGER|7839|1981-04-02|2975.0|null|    20|\n",
      "+-----+-----+-------+----+----------+------+----+------+\n",
      "\n"
     ]
    }
   ],
   "source": [
    "# 142) List the emps whose Mgr name is ‘Jones’ and also with his Manager name.\n",
    "\n",
    "\n",
    "joneId = emp.filter(emp.ENAME == \"JONES\").select(\"EMPNO\").head()[0]\n",
    "emp.filter(emp.MGR == joneId).union(emp.filter(emp.ENAME == \"JONES\")).show()\n"
   ]
  },
  {
   "cell_type": "code",
   "execution_count": 44,
   "metadata": {},
   "outputs": [],
   "source": [
    "# 143) Define a variable representing the expression used to calculate on emps total\n",
    "# annual remuneration use the variable in a statement, which finds all emps who\n",
    "# can earn 30000 a year or more.\n",
    "\n"
   ]
  },
  {
   "cell_type": "code",
   "execution_count": 45,
   "metadata": {},
   "outputs": [
    {
     "data": {
      "text/plain": [
       "6"
      ]
     },
     "execution_count": 45,
     "metadata": {},
     "output_type": "execute_result"
    }
   ],
   "source": [
    "# 144) Find out how many Managers are their in the company.\n",
    "\n",
    "emp.filter(~(emp.MGR.isNull())).select(\"MGR\").distinct().count()\n",
    "\n"
   ]
  },
  {
   "cell_type": "code",
   "execution_count": 46,
   "metadata": {},
   "outputs": [
    {
     "name": "stdout",
     "output_type": "stream",
     "text": [
      "+-----------------+------------------+\n",
      "|           avgSal|    avgSalWithComm|\n",
      "+-----------------+------------------+\n",
      "|2073.214285714286|2230.3571428571427|\n",
      "+-----------------+------------------+\n",
      "\n"
     ]
    }
   ],
   "source": [
    "# # 145) Find Average salary and Average total remuneration for each Job type.\n",
    "# Remember Salesman earn commission.secommm\n",
    "\n",
    "i = emp.withColumn(\"COMM\", when(emp.COMM.isNull(), 0).otherwise(emp.COMM))\n",
    "i.select(avg(\"SAL\").alias(\"avgSal\"), avg(i.SAL + i.COMM).alias(\"avgSalWithComm\")).show()"
   ]
  },
  {
   "cell_type": "code",
   "execution_count": 47,
   "metadata": {},
   "outputs": [
    {
     "name": "stdout",
     "output_type": "stream",
     "text": [
      "+-----+------------+\n",
      "|EMPNO|count(EMPNO)|\n",
      "+-----+------------+\n",
      "+-----+------------+\n",
      "\n"
     ]
    }
   ],
   "source": [
    "# 146) Check whether all the emps numbers are indeed unique.\n",
    "\n",
    "emp.groupBy(\"EMPNO\").agg(count(\"EMPNO\")).filter(\"count(EMPNO) > 1\").show()"
   ]
  },
  {
   "cell_type": "code",
   "execution_count": 48,
   "metadata": {},
   "outputs": [
    {
     "name": "stdout",
     "output_type": "stream",
     "text": [
      "+-----+-----+-----+----+----------+-----+----+------+\n",
      "|EMPNO|ENAME|  JOB| MGR|  HIREDATE|  SAL|COMM|DEPTNO|\n",
      "+-----+-----+-----+----+----------+-----+----+------+\n",
      "| 7369|SMITH|CLERK|7902|1980-12-17|800.0|null|    20|\n",
      "| 7900|JAMES|CLERK|7698|1981-12-03|950.0|null|    30|\n",
      "+-----+-----+-----+----+----------+-----+----+------+\n",
      "\n"
     ]
    }
   ],
   "source": [
    "# 147) List the emps who are drawing less than 1000 Sort the output by Salary.\n",
    "\n",
    "emp.filter(emp.SAL < 1000).show()"
   ]
  },
  {
   "cell_type": "code",
   "execution_count": 49,
   "metadata": {},
   "outputs": [
    {
     "name": "stdout",
     "output_type": "stream",
     "text": [
      "+-----+---------+-------+------+----------+-----+\n",
      "|ENAME|      JOB| ANNSAL|DEPTNO|     DNAME|GRADE|\n",
      "+-----+---------+-------+------+----------+-----+\n",
      "| KING|PRESIDENT|60000.0|    10|ACCOUNTING|    5|\n",
      "+-----+---------+-------+------+----------+-----+\n",
      "\n"
     ]
    }
   ],
   "source": [
    "# 148) List the employee Name, Job, Annual Salary, deptno, Dept name and grade who\n",
    "# earn 36000 a year or who are not CLERKS.\n",
    "\n",
    "emp.join(dept, \"DEPTNO\").join(sal, emp.SAL.between(sal.LOSAL, sal.HISAL))\\\n",
    "    .select(\"ENAME\", \"JOB\", (emp.SAL*12).alias(\"ANNSAL\"), \"DEPTNO\", \"DNAME\", \"GRADE\")\\\n",
    "    .filter('JOB != \"CLERK\"' and col(\"ANNSAL\") > 36000).show()\n"
   ]
  },
  {
   "cell_type": "code",
   "execution_count": 50,
   "metadata": {},
   "outputs": [
    {
     "name": "stdout",
     "output_type": "stream",
     "text": [
      "+-----+------+--------+----+----------+------+-------+------+\n",
      "|EMPNO| ENAME|     JOB| MGR|  HIREDATE|   SAL|   COMM|DEPTNO|\n",
      "+-----+------+--------+----+----------+------+-------+------+\n",
      "| 7654|MARTIN|SALESMAN|7698|1981-09-28|1250.0|1400.00|    30|\n",
      "| 7844|TURNER|SALESMAN|7698|1981-09-08|1500.0|   0.00|    30|\n",
      "+-----+------+--------+----+----------+------+-------+------+\n",
      "\n"
     ]
    }
   ],
   "source": [
    "# # 149) Find out the Job that was filled in the first half of 1981 and same job that was\n",
    "# filled during the second half of 1981.\n",
    "\n",
    "jobOf81 = emp.filter(col(\"HIREDATE\").between(\"1981-01-01\", \"1981-06-30\")).select(\"JOB\").distinct().rdd.map(lambda x: x[0]).collect()\n",
    "\n",
    "emp.filter(emp.JOB.isin(jobOf81) & emp.HIREDATE.between(\"1981-07-31\", \"1981-12-31\")).show()"
   ]
  },
  {
   "cell_type": "code",
   "execution_count": 51,
   "metadata": {},
   "outputs": [
    {
     "name": "stdout",
     "output_type": "stream",
     "text": [
      "+-----+-----+--------+----+----------+------+------+------+\n",
      "|EMPNO|ENAME|     JOB| MGR|  HIREDATE|   SAL|  COMM|DEPTNO|\n",
      "+-----+-----+--------+----+----------+------+------+------+\n",
      "| 7369|SMITH|   CLERK|7902|1980-12-17| 800.0|  null|    20|\n",
      "| 7499|ALLEN|SALESMAN|7698|1981-02-20|1600.0|300.00|    30|\n",
      "| 7521| WARD|SALESMAN|7698|1981-02-22|1250.0|500.00|    30|\n",
      "| 7566|JONES| MANAGER|7839|1981-04-02|2975.0|  null|    20|\n",
      "| 7698|BLAKE| MANAGER|7839|1981-05-01|2850.0|  null|    30|\n",
      "| 7782|CLARK| MANAGER|7839|1981-06-09|2450.0|  null|    10|\n",
      "+-----+-----+--------+----+----------+------+------+------+\n",
      "\n"
     ]
    }
   ],
   "source": [
    "# 150) Find out the emps who joined in the company before their Managers.\n",
    "\n",
    "emp.alias(\"e\").join(emp.alias(\"m\"), [col(\"e.MGR\") == col(\"m.EMPNO\"), col(\"e.HIREDATE\") < col(\"m.HIREDATE\")]).select(\"e.*\").show()"
   ]
  },
  {
   "cell_type": "code",
   "execution_count": 52,
   "metadata": {},
   "outputs": [
    {
     "name": "stdout",
     "output_type": "stream",
     "text": [
      "+-----+-----+-------+----+----------+------+----+------+\n",
      "|EMPNO|ENAME|    JOB| MGR|  HIREDATE|   SAL|COMM|DEPTNO|\n",
      "+-----+-----+-------+----+----------+------+----+------+\n",
      "| 7902| FORD|ANALYST|7566|1981-12-03|3000.0|null|    20|\n",
      "+-----+-----+-------+----+----------+------+----+------+\n",
      "\n"
     ]
    }
   ],
   "source": [
    "emp.filter(emp.EMPNO == 7902).show() #test above result true or not"
   ]
  },
  {
   "cell_type": "code",
   "execution_count": 53,
   "metadata": {},
   "outputs": [
    {
     "name": "stdout",
     "output_type": "stream",
     "text": [
      "+-------+-------+-------+-------+\n",
      "|e.ename|e.empno|m.empno|m.ename|\n",
      "+-------+-------+-------+-------+\n",
      "|   7876|  ADAMS|   7788|  SCOTT|\n",
      "|   7369|  SMITH|   7902|   FORD|\n",
      "|   7839|   KING|   null|   null|\n",
      "|   7788|  SCOTT|   7566|  JONES|\n",
      "|   7902|   FORD|   7566|  JONES|\n",
      "|   7499|  ALLEN|   7698|  BLAKE|\n",
      "|   7521|   WARD|   7698|  BLAKE|\n",
      "|   7654| MARTIN|   7698|  BLAKE|\n",
      "|   7844| TURNER|   7698|  BLAKE|\n",
      "|   7900|  JAMES|   7698|  BLAKE|\n",
      "|   7566|  JONES|   7839|   KING|\n",
      "|   7698|  BLAKE|   7839|   KING|\n",
      "|   7782|  CLARK|   7839|   KING|\n",
      "|   7934| MILLER|   7782|  CLARK|\n",
      "+-------+-------+-------+-------+\n",
      "\n"
     ]
    }
   ],
   "source": [
    "# 151) List all the emps by name and number along with their Manager’s name and\n",
    "# number. Also List KING who has no ‘Manager’.\n",
    "\n",
    "emp.alias(\"e\").join(emp.alias(\"m\"), [col(\"e.MGR\") == col(\"m.EMPNO\")], \"left\")\\\n",
    ".select(col(\"e.EMPNO\").alias(\"e.ename\"),col(\"e.ENAME\").alias(\"e.empno\"),\\\n",
    "        col(\"m.EMPNO\").alias(\"m.empno\"), col(\"m.ENAME\").alias(\"m.ename\")).show()"
   ]
  },
  {
   "cell_type": "code",
   "execution_count": 54,
   "metadata": {},
   "outputs": [
    {
     "name": "stdout",
     "output_type": "stream",
     "text": [
      "+-----+------+---------+----+----------+------+-------+------+\n",
      "|EMPNO| ENAME|      JOB| MGR|  HIREDATE|   SAL|   COMM|DEPTNO|\n",
      "+-----+------+---------+----+----------+------+-------+------+\n",
      "| 7369| SMITH|    CLERK|7902|1980-12-17| 800.0|   null|    20|\n",
      "| 7521|  WARD| SALESMAN|7698|1981-02-22|1250.0| 500.00|    30|\n",
      "| 7654|MARTIN| SALESMAN|7698|1981-09-28|1250.0|1400.00|    30|\n",
      "| 7782| CLARK|  MANAGER|7839|1981-06-09|2450.0|   null|    10|\n",
      "| 7902|  FORD|  ANALYST|7566|1981-12-03|3000.0|   null|    20|\n",
      "| 7788| SCOTT|  ANALYST|7566|1982-12-09|3000.0|   null|    20|\n",
      "| 7839|  KING|PRESIDENT|null|1981-11-17|5000.0|   null|    10|\n",
      "+-----+------+---------+----+----------+------+-------+------+\n",
      "\n"
     ]
    }
   ],
   "source": [
    "#  152) Find all the emps who earn the minimum Salary for each job wise in ascending\n",
    "# order.\n",
    "\n",
    "minSal = emp.groupBy(\"JOB\").agg(min(\"SAL\")).rdd.map(lambda x: x[1]).collect()\n",
    "\n",
    "emp.filter(emp.SAL.isin(minSal)).sort(asc(\"SAL\")).show()"
   ]
  },
  {
   "cell_type": "code",
   "execution_count": 55,
   "metadata": {},
   "outputs": [
    {
     "name": "stdout",
     "output_type": "stream",
     "text": [
      "+-----+------+---------+----+----------+------+------+------+\n",
      "|EMPNO| ENAME|      JOB| MGR|  HIREDATE|   SAL|  COMM|DEPTNO|\n",
      "+-----+------+---------+----+----------+------+------+------+\n",
      "| 7839|  KING|PRESIDENT|null|1981-11-17|5000.0|  null|    10|\n",
      "| 7902|  FORD|  ANALYST|7566|1981-12-03|3000.0|  null|    20|\n",
      "| 7788| SCOTT|  ANALYST|7566|1982-12-09|3000.0|  null|    20|\n",
      "| 7566| JONES|  MANAGER|7839|1981-04-02|2975.0|  null|    20|\n",
      "| 7499| ALLEN| SALESMAN|7698|1981-02-20|1600.0|300.00|    30|\n",
      "| 7934|MILLER|    CLERK|7782|1982-01-23|1300.0|  null|    10|\n",
      "+-----+------+---------+----+----------+------+------+------+\n",
      "\n"
     ]
    }
   ],
   "source": [
    "# 153) Find out all the emps who earn highest salary in each job type. Sort in\n",
    "# descending salary order.\n",
    "\n",
    "maxSal = emp.groupBy(\"JOB\").agg(max(\"SAL\")).rdd.map(lambda x: x[1]).collect()\n",
    "\n",
    "emp.filter(emp.SAL.isin(maxSal)).sort(desc(\"SAL\")).show()\n"
   ]
  },
  {
   "cell_type": "code",
   "execution_count": 56,
   "metadata": {},
   "outputs": [
    {
     "name": "stdout",
     "output_type": "stream",
     "text": [
      "using max\n",
      "+-----+------+-------+----+----------+------+----+------+\n",
      "|EMPNO| ENAME|    JOB| MGR|  HIREDATE|   SAL|COMM|DEPTNO|\n",
      "+-----+------+-------+----+----------+------+----+------+\n",
      "| 7900| JAMES|  CLERK|7698|1981-12-03| 950.0|null|    30|\n",
      "| 7902|  FORD|ANALYST|7566|1981-12-03|3000.0|null|    20|\n",
      "| 7934|MILLER|  CLERK|7782|1982-01-23|1300.0|null|    10|\n",
      "| 7876| ADAMS|  CLERK|7788|1983-01-12|1100.0|null|    20|\n",
      "+-----+------+-------+----+----------+------+----+------+\n",
      "\n",
      "using rank\n",
      "+-----+------+-----+----+----------+------+----+------+----+\n",
      "|EMPNO| ENAME|  JOB| MGR|  HIREDATE|   SAL|COMM|DEPTNO|rank|\n",
      "+-----+------+-----+----+----------+------+----+------+----+\n",
      "| 7876| ADAMS|CLERK|7788|1983-01-12|1100.0|null|    20|   1|\n",
      "| 7934|MILLER|CLERK|7782|1982-01-23|1300.0|null|    10|   1|\n",
      "| 7900| JAMES|CLERK|7698|1981-12-03| 950.0|null|    30|   1|\n",
      "+-----+------+-----+----+----------+------+----+------+----+\n",
      "\n"
     ]
    }
   ],
   "source": [
    "#154) Find out the most recently hired emps in each Dept order by Hiredate.\n",
    "\n",
    "print(\"using max\")\n",
    "maxHire = emp.groupBy(\"DEPTNO\").agg(max(\"HIREDATE\")).rdd.map(lambda x:x[1]).collect()\n",
    "\n",
    "emp.filter(emp.HIREDATE.isin(maxHire)).sort(asc(\"HIREDATE\")).distinct().show()\n",
    "#In the above format the result is not accurate. We are getting twice the time of dept 20. So better use \n",
    "#rank to get the right result\n",
    "\n",
    "print(\"using rank\")\n",
    "emp.withColumn(\"rank\", dense_rank().over(Window.partitionBy(\"DEPTNO\").orderBy(desc(\"HIREDATE\")))).\\\n",
    "filter(\"rank = 1\").show()"
   ]
  },
  {
   "cell_type": "code",
   "execution_count": 57,
   "metadata": {},
   "outputs": [
    {
     "data": {
      "text/plain": [
       "DataFrame[DEPTNO: int, EMPNO: int, ENAME: string, JOB: string, MGR: int, HIREDATE: date, SAL: double, COMM: string, avgSal: double]"
      ]
     },
     "execution_count": 57,
     "metadata": {},
     "output_type": "execute_result"
    }
   ],
   "source": [
    "# 155) List the employee name,Salary and Deptno for each employee who earns a\n",
    "# salary greater than the average for their department order by Deptno\n",
    "\n",
    "avgSal = emp.groupBy(\"DEPTNO\").agg(avg(\"SAL\").alias(\"avgSal\"))\n",
    "\n",
    "emp.join(avgSal, \"DEPTNO\").filter(\"SAL > avgSal\").sort(\"DEPTNO\")"
   ]
  },
  {
   "cell_type": "code",
   "execution_count": 58,
   "metadata": {},
   "outputs": [
    {
     "name": "stdout",
     "output_type": "stream",
     "text": [
      "+------+------------+\n",
      "|DEPTNO|count(EMPNO)|\n",
      "+------+------------+\n",
      "+------+------------+\n",
      "\n"
     ]
    }
   ],
   "source": [
    "#156) List the Deptno where there are no emps.\n",
    "# No such cases, but answer below\n",
    "\n",
    "emp.groupBy(\"DEPTNO\").agg(count(\"EMPNO\")).filter(\"count(EMPNO) = 0\").show()"
   ]
  },
  {
   "cell_type": "code",
   "execution_count": 59,
   "metadata": {},
   "outputs": [
    {
     "name": "stdout",
     "output_type": "stream",
     "text": [
      "+------+---------+--------+------------+\n",
      "|DEPTNO|      JOB|avg(SAL)|count(EMPNO)|\n",
      "+------+---------+--------+------------+\n",
      "|    20|  ANALYST|  3000.0|           2|\n",
      "|    20|  MANAGER|  2975.0|           1|\n",
      "|    30|  MANAGER|  2850.0|           1|\n",
      "|    30| SALESMAN|  1400.0|           4|\n",
      "|    30|    CLERK|   950.0|           1|\n",
      "|    20|    CLERK|   950.0|           2|\n",
      "|    10|PRESIDENT|  5000.0|           1|\n",
      "|    10|    CLERK|  1300.0|           1|\n",
      "|    10|  MANAGER|  2450.0|           1|\n",
      "+------+---------+--------+------------+\n",
      "\n"
     ]
    }
   ],
   "source": [
    "# 157) List the No.of emp’s and Avg salary within each department for each job.\n",
    "\n",
    "emp.groupBy(\"DEPTNO\", \"JOB\").agg(avg(\"SAL\"),count(\"EMPNO\")).show()"
   ]
  },
  {
   "cell_type": "code",
   "execution_count": 60,
   "metadata": {},
   "outputs": [
    {
     "name": "stdout",
     "output_type": "stream",
     "text": [
      "+--------+------------------+\n",
      "|     JOB|          avg(SAL)|\n",
      "+--------+------------------+\n",
      "| ANALYST|            3000.0|\n",
      "|SALESMAN|            1400.0|\n",
      "|   CLERK|            1037.5|\n",
      "| MANAGER|2758.3333333333335|\n",
      "+--------+------------------+\n",
      "\n"
     ]
    }
   ],
   "source": [
    "# 158) Find the maximum average salary drawn for each job except for ‘President’.\n",
    "\n",
    "emp.filter('JOB <> \"PRESIDENT\"').groupBy(\"JOB\").agg(avg(\"SAL\")).show()"
   ]
  },
  {
   "cell_type": "code",
   "execution_count": 61,
   "metadata": {},
   "outputs": [
    {
     "name": "stdout",
     "output_type": "stream",
     "text": [
      "+------+---------+--------+\n",
      "| ENAME|      JOB|max(SAL)|\n",
      "+------+---------+--------+\n",
      "| SMITH|    CLERK|   800.0|\n",
      "| SCOTT|  ANALYST|  3000.0|\n",
      "|  FORD|  ANALYST|  3000.0|\n",
      "|MARTIN| SALESMAN|  1250.0|\n",
      "|  KING|PRESIDENT|  5000.0|\n",
      "| ALLEN| SALESMAN|  1600.0|\n",
      "|  WARD| SALESMAN|  1250.0|\n",
      "| ADAMS|    CLERK|  1100.0|\n",
      "| JAMES|    CLERK|   950.0|\n",
      "| CLARK|  MANAGER|  2450.0|\n",
      "| BLAKE|  MANAGER|  2850.0|\n",
      "| JONES|  MANAGER|  2975.0|\n",
      "|MILLER|    CLERK|  1300.0|\n",
      "|TURNER| SALESMAN|  1500.0|\n",
      "+------+---------+--------+\n",
      "\n"
     ]
    }
   ],
   "source": [
    "# 159) Find the name and Job of the emps who earn Max salary and Commission.\n",
    "\n",
    "def netpay(sal, comm):\n",
    "    return when(comm.isNull(), sal).otherwise(comm+sal)\n",
    "\n",
    "netpay_udf = netpay\n",
    "\n",
    "emp.withColumn(\"NETPAY\", netpay_udf(emp.SAL, emp.COMM)).groupby(\"ENAME\",\"JOB\").agg(max(\"SAL\")).show()\n"
   ]
  },
  {
   "cell_type": "code",
   "execution_count": 62,
   "metadata": {},
   "outputs": [
    {
     "name": "stdout",
     "output_type": "stream",
     "text": [
      "+-----+------+---------+----+----------+------+----+------+\n",
      "|EMPNO| ENAME|      JOB| MGR|  HIREDATE|   SAL|COMM|DEPTNO|\n",
      "+-----+------+---------+----+----------+------+----+------+\n",
      "| 7369| SMITH|    CLERK|7902|1980-12-17| 800.0|null|    20|\n",
      "| 7566| JONES|  MANAGER|7839|1981-04-02|2975.0|null|    20|\n",
      "| 7698| BLAKE|  MANAGER|7839|1981-05-01|2850.0|null|    30|\n",
      "| 7782| CLARK|  MANAGER|7839|1981-06-09|2450.0|null|    10|\n",
      "| 7839|  KING|PRESIDENT|null|1981-11-17|5000.0|null|    10|\n",
      "| 7876| ADAMS|    CLERK|7788|1983-01-12|1100.0|null|    20|\n",
      "| 7900| JAMES|    CLERK|7698|1981-12-03| 950.0|null|    30|\n",
      "| 7934|MILLER|    CLERK|7782|1982-01-23|1300.0|null|    10|\n",
      "+-----+------+---------+----+----------+------+----+------+\n",
      "\n"
     ]
    }
   ],
   "source": [
    "# 160) List the Name, Job and Salary of the emps who are not belonging to the\n",
    "# department 10 but who have the same job and Salary as the emps of dept 10.\n",
    "\n",
    "d10JobSal = emp.filter(\"DEPTNO = 10\").select(\"JOB\",\"SAL\").rdd\n",
    "\n",
    "d10Job = d10JobSal.map(lambda x:x[0]).collect()\n",
    "d10Sal = d10JobSal.map(lambda x:x[1]).collect()\n",
    "\n",
    "emp.filter((emp.DEPTNO != 10) & (emp.JOB.isin(d10Job)) | (emp.SAL.isin(d10Sal))).show()\n",
    "\n"
   ]
  },
  {
   "cell_type": "code",
   "execution_count": 63,
   "metadata": {},
   "outputs": [
    {
     "name": "stdout",
     "output_type": "stream",
     "text": [
      "+-----+------+--------+----+----------+------+-------+------+------+----+\n",
      "|EMPNO| ENAME|     JOB| MGR|  HIREDATE|   SAL|   COMM|DEPTNO|NETPAY|rank|\n",
      "+-----+------+--------+----+----------+------+-------+------+------+----+\n",
      "| 7654|MARTIN|SALESMAN|7698|1981-09-28|1250.0|1400.00|    30|2650.0|   1|\n",
      "+-----+------+--------+----+----------+------+-------+------+------+----+\n",
      "\n"
     ]
    }
   ],
   "source": [
    "# 161) List the Deptno, Name, Job, Salary and Sal+Comm of the SALESMAN who are\n",
    "# earning maximum salary and commission in descending order.\n",
    "\n",
    "emp.filter('JOB = \"SALESMAN\"').withColumn(\"NETPAY\", when(emp.COMM.isNull(), emp.SAL).otherwise(emp.SAL+emp.COMM))\\\n",
    "    .withColumn(\"rank\", dense_rank().over(Window.orderBy(desc(\"NETPAY\")))).filter(\"rank = 1\").sort(desc(\"NETPAY\")).show()"
   ]
  },
  {
   "cell_type": "code",
   "execution_count": 64,
   "metadata": {},
   "outputs": [
    {
     "name": "stdout",
     "output_type": "stream",
     "text": [
      "+-----+-----+-------+----+----------+------+----+------+------+----+\n",
      "|EMPNO|ENAME|    JOB| MGR|  HIREDATE|   SAL|COMM|DEPTNO|NETPAY|rank|\n",
      "+-----+-----+-------+----+----------+------+----+------+------+----+\n",
      "| 7788|SCOTT|ANALYST|7566|1982-12-09|3000.0|null|    20|3000.0|   2|\n",
      "| 7902| FORD|ANALYST|7566|1981-12-03|3000.0|null|    20|3000.0|   2|\n",
      "+-----+-----+-------+----+----------+------+----+------+------+----+\n",
      "\n"
     ]
    }
   ],
   "source": [
    "# 162) List the Deptno, Name, Job, Salary and Sal+Comm of the emps who earn the\n",
    "# second highest earnings (sal + comm.).\n",
    "\n",
    "emp.withColumn(\"NETPAY\", when(emp.COMM.isNull(), emp.SAL).otherwise(emp.SAL+emp.COMM))\\\n",
    "    .withColumn(\"rank\", dense_rank().over(Window.orderBy(desc(\"NETPAY\")))).filter(\"rank = 2\").sort(desc(\"NETPAY\")).show()"
   ]
  },
  {
   "cell_type": "code",
   "execution_count": 65,
   "metadata": {},
   "outputs": [
    {
     "name": "stdout",
     "output_type": "stream",
     "text": [
      "+------+------------------+\n",
      "|DEPTNO|           avgDSal|\n",
      "+------+------------------+\n",
      "|    30|1566.6666666666667|\n",
      "+------+------------------+\n",
      "\n"
     ]
    }
   ],
   "source": [
    "# 163) List the Deptno and their average salaries for dept with the average salary less\n",
    "# than the averages for all department\n",
    "\n",
    "avgSal = emp.agg(avg(\"SAL\")).head()[0]\n",
    "\n",
    "emp.groupBy(\"DEPTNO\").agg(avg(\"SAL\").alias(\"avgDSal\")).filter(col(\"avgDSal\") < avgSal).show()\n",
    "\n"
   ]
  },
  {
   "cell_type": "code",
   "execution_count": 66,
   "metadata": {},
   "outputs": [
    {
     "name": "stdout",
     "output_type": "stream",
     "text": [
      "+-----+------+-----+------+\n",
      "|ENAME|   SAL|ENAME|   SAL|\n",
      "+-----+------+-----+------+\n",
      "|SCOTT|3000.0|JONES|2975.0|\n",
      "| FORD|3000.0|JONES|2975.0|\n",
      "+-----+------+-----+------+\n",
      "\n"
     ]
    }
   ],
   "source": [
    "# 164) List out the Names and Salaries of the emps along with their manager names\n",
    "# and salaries for those emps who earn more salary than their Manager.\n",
    "\n",
    "emp.alias(\"e\").join(emp.alias(\"m\"), [col(\"e.MGR\") == col(\"m.EMPNO\"), col(\"e.SAL\") > col(\"m.SAL\")]).select(\"e.ENAME\", \"e.SAL\", \"m.ENAME\", \"m.SAL\").show()"
   ]
  },
  {
   "cell_type": "code",
   "execution_count": 67,
   "metadata": {},
   "outputs": [
    {
     "name": "stdout",
     "output_type": "stream",
     "text": [
      "+------+-----+------+---------+----+----------+------+----+------------------+\n",
      "|DEPTNO|EMPNO| ENAME|      JOB| MGR|  HIREDATE|   SAL|COMM|          avg(SAL)|\n",
      "+------+-----+------+---------+----+----------+------+----+------------------+\n",
      "|    10| 7782| CLARK|  MANAGER|7839|1981-06-09|2450.0|null|2916.6666666666665|\n",
      "|    10| 7839|  KING|PRESIDENT|null|1981-11-17|5000.0|null|2916.6666666666665|\n",
      "|    10| 7934|MILLER|    CLERK|7782|1982-01-23|1300.0|null|2916.6666666666665|\n",
      "+------+-----+------+---------+----+----------+------+----+------------------+\n",
      "\n"
     ]
    }
   ],
   "source": [
    "# 165) List out the Name, Job, Salary of the emps in the department with the highest\n",
    "# average salary.\n",
    "\n",
    "avgDSal = emp.groupBy(\"DEPTNO\").agg(avg(\"SAL\"))\n",
    "\n",
    "maxAvgDSal = avgDSal.agg(max(\"avg(SAL)\")).head()[0]\n",
    "\n",
    "maxDAvgSal = avgDSal.filter(col(\"avg(SAL)\") == maxAvgDSal)\n",
    "\n",
    "emp.join(maxDAvgSal, \"DEPTNO\").show()\n",
    "\n"
   ]
  },
  {
   "cell_type": "code",
   "execution_count": 68,
   "metadata": {},
   "outputs": [
    {
     "name": "stdout",
     "output_type": "stream",
     "text": [
      "+-----+------+-------+\n",
      "|EMPNO|   SAL|   COMM|\n",
      "+-----+------+-------+\n",
      "| 7369| 800.0|   null|\n",
      "| 7499|1600.0| 300.00|\n",
      "| 7521|1250.0| 500.00|\n",
      "| 7566|2975.0|   null|\n",
      "| 7654|1250.0|1400.00|\n",
      "| 7698|2850.0|   null|\n",
      "| 7782|2450.0|   null|\n",
      "| 7788|3000.0|   null|\n",
      "| 7839|5000.0|   null|\n",
      "| 7844|1500.0|   0.00|\n",
      "| 7876|1100.0|   null|\n",
      "| 7900| 950.0|   null|\n",
      "| 7902|3000.0|   null|\n",
      "| 7934|1300.0|   null|\n",
      "+-----+------+-------+\n",
      "\n"
     ]
    }
   ],
   "source": [
    "# 166) List the empno,sal,comm. Of emps.\n",
    "\n",
    "emp.select(\"EMPNO\", \"SAL\", emp.COMM).show()"
   ]
  },
  {
   "cell_type": "code",
   "execution_count": 69,
   "metadata": {},
   "outputs": [
    {
     "name": "stdout",
     "output_type": "stream",
     "text": [
      "+-----+------+---------+----+----------+------+-------+------+\n",
      "|EMPNO| ENAME|      JOB| MGR|  HIREDATE|   SAL|   COMM|DEPTNO|\n",
      "+-----+------+---------+----+----------+------+-------+------+\n",
      "| 7369| SMITH|    CLERK|7902|1980-12-17| 800.0|   null|    20|\n",
      "| 7900| JAMES|    CLERK|7698|1981-12-03| 950.0|   null|    30|\n",
      "| 7876| ADAMS|    CLERK|7788|1983-01-12|1100.0|   null|    20|\n",
      "| 7521|  WARD| SALESMAN|7698|1981-02-22|1250.0| 500.00|    30|\n",
      "| 7654|MARTIN| SALESMAN|7698|1981-09-28|1250.0|1400.00|    30|\n",
      "| 7934|MILLER|    CLERK|7782|1982-01-23|1300.0|   null|    10|\n",
      "| 7844|TURNER| SALESMAN|7698|1981-09-08|1500.0|   0.00|    30|\n",
      "| 7499| ALLEN| SALESMAN|7698|1981-02-20|1600.0| 300.00|    30|\n",
      "| 7782| CLARK|  MANAGER|7839|1981-06-09|2450.0|   null|    10|\n",
      "| 7698| BLAKE|  MANAGER|7839|1981-05-01|2850.0|   null|    30|\n",
      "| 7566| JONES|  MANAGER|7839|1981-04-02|2975.0|   null|    20|\n",
      "| 7788| SCOTT|  ANALYST|7566|1982-12-09|3000.0|   null|    20|\n",
      "| 7902|  FORD|  ANALYST|7566|1981-12-03|3000.0|   null|    20|\n",
      "| 7839|  KING|PRESIDENT|null|1981-11-17|5000.0|   null|    10|\n",
      "+-----+------+---------+----+----------+------+-------+------+\n",
      "\n"
     ]
    }
   ],
   "source": [
    "# 167) List the details of the emps in the ascending order of the sal.\n",
    "\n",
    "emp.sort(asc(\"SAL\")).show()"
   ]
  },
  {
   "cell_type": "code",
   "execution_count": 70,
   "metadata": {},
   "outputs": [
    {
     "name": "stdout",
     "output_type": "stream",
     "text": [
      "+-----+------+---------+----+----------+------+-------+------+\n",
      "|EMPNO| ENAME|      JOB| MGR|  HIREDATE|   SAL|   COMM|DEPTNO|\n",
      "+-----+------+---------+----+----------+------+-------+------+\n",
      "| 7369| SMITH|    CLERK|7902|1980-12-17| 800.0|   null|    20|\n",
      "| 7900| JAMES|    CLERK|7698|1981-12-03| 950.0|   null|    30|\n",
      "| 7876| ADAMS|    CLERK|7788|1983-01-12|1100.0|   null|    20|\n",
      "| 7654|MARTIN| SALESMAN|7698|1981-09-28|1250.0|1400.00|    30|\n",
      "| 7521|  WARD| SALESMAN|7698|1981-02-22|1250.0| 500.00|    30|\n",
      "| 7934|MILLER|    CLERK|7782|1982-01-23|1300.0|   null|    10|\n",
      "| 7844|TURNER| SALESMAN|7698|1981-09-08|1500.0|   0.00|    30|\n",
      "| 7499| ALLEN| SALESMAN|7698|1981-02-20|1600.0| 300.00|    30|\n",
      "| 7782| CLARK|  MANAGER|7839|1981-06-09|2450.0|   null|    10|\n",
      "| 7698| BLAKE|  MANAGER|7839|1981-05-01|2850.0|   null|    30|\n",
      "| 7566| JONES|  MANAGER|7839|1981-04-02|2975.0|   null|    20|\n",
      "| 7902|  FORD|  ANALYST|7566|1981-12-03|3000.0|   null|    20|\n",
      "| 7788| SCOTT|  ANALYST|7566|1982-12-09|3000.0|   null|    20|\n",
      "| 7839|  KING|PRESIDENT|null|1981-11-17|5000.0|   null|    10|\n",
      "+-----+------+---------+----+----------+------+-------+------+\n",
      "\n"
     ]
    }
   ],
   "source": [
    "# 168) List the dept in the ascending order of the job and the desc order of the emps\n",
    "# print empno, ename.\n",
    "\n",
    "emp.sort(asc(\"SAL\"),desc(\"EMPNO\")).show()"
   ]
  },
  {
   "cell_type": "code",
   "execution_count": 71,
   "metadata": {},
   "outputs": [],
   "source": [
    "# 169) Display the unique dept of the emps.\n"
   ]
  },
  {
   "cell_type": "code",
   "execution_count": 72,
   "metadata": {},
   "outputs": [],
   "source": [
    "# 170) Display the unique dept with jobs."
   ]
  },
  {
   "cell_type": "code",
   "execution_count": 73,
   "metadata": {},
   "outputs": [
    {
     "name": "stdout",
     "output_type": "stream",
     "text": [
      "+-----+-----+-------+----+----------+------+----+------+\n",
      "|EMPNO|ENAME|    JOB| MGR|  HIREDATE|   SAL|COMM|DEPTNO|\n",
      "+-----+-----+-------+----+----------+------+----+------+\n",
      "| 7698|BLAKE|MANAGER|7839|1981-05-01|2850.0|null|    30|\n",
      "+-----+-----+-------+----+----------+------+----+------+\n",
      "\n",
      "+-----+-----+-------+----+----------+------+----+------+\n",
      "|EMPNO|ENAME|    JOB| MGR|  HIREDATE|   SAL|COMM|DEPTNO|\n",
      "+-----+-----+-------+----+----------+------+----+------+\n",
      "| 7698|BLAKE|MANAGER|7839|1981-05-01|2850.0|null|    30|\n",
      "+-----+-----+-------+----+----------+------+----+------+\n",
      "\n"
     ]
    }
   ],
   "source": [
    "# 171) Display the details of the blake.\n",
    "\n",
    "emp.filter('ENAME == \"BLAKE\"').show()\n",
    "\n",
    "emp.filter((col(\"ENAME\") == \"BLAKE\") & (col(\"EMPNO\") == 7698)).show() #Just an try"
   ]
  },
  {
   "cell_type": "code",
   "execution_count": 74,
   "metadata": {},
   "outputs": [
    {
     "name": "stdout",
     "output_type": "stream",
     "text": [
      "+-----+------+-----+----+----------+------+----+------+\n",
      "|EMPNO| ENAME|  JOB| MGR|  HIREDATE|   SAL|COMM|DEPTNO|\n",
      "+-----+------+-----+----+----------+------+----+------+\n",
      "| 7369| SMITH|CLERK|7902|1980-12-17| 800.0|null|    20|\n",
      "| 7876| ADAMS|CLERK|7788|1983-01-12|1100.0|null|    20|\n",
      "| 7900| JAMES|CLERK|7698|1981-12-03| 950.0|null|    30|\n",
      "| 7934|MILLER|CLERK|7782|1982-01-23|1300.0|null|    10|\n",
      "+-----+------+-----+----+----------+------+----+------+\n",
      "\n",
      "+-----+------+-----+----+----------+------+----+------+\n",
      "|EMPNO| ENAME|  JOB| MGR|  HIREDATE|   SAL|COMM|DEPTNO|\n",
      "+-----+------+-----+----+----------+------+----+------+\n",
      "| 7369| SMITH|CLERK|7902|1980-12-17| 800.0|null|    20|\n",
      "| 7876| ADAMS|CLERK|7788|1983-01-12|1100.0|null|    20|\n",
      "| 7900| JAMES|CLERK|7698|1981-12-03| 950.0|null|    30|\n",
      "| 7934|MILLER|CLERK|7782|1982-01-23|1300.0|null|    10|\n",
      "+-----+------+-----+----+----------+------+----+------+\n",
      "\n",
      "+-----+------+-----+----+----------+------+----+------+\n",
      "|EMPNO| ENAME|  JOB| MGR|  HIREDATE|   SAL|COMM|DEPTNO|\n",
      "+-----+------+-----+----+----------+------+----+------+\n",
      "| 7369| SMITH|CLERK|7902|1980-12-17| 800.0|null|    20|\n",
      "| 7876| ADAMS|CLERK|7788|1983-01-12|1100.0|null|    20|\n",
      "| 7900| JAMES|CLERK|7698|1981-12-03| 950.0|null|    30|\n",
      "| 7934|MILLER|CLERK|7782|1982-01-23|1300.0|null|    10|\n",
      "+-----+------+-----+----+----------+------+----+------+\n",
      "\n"
     ]
    }
   ],
   "source": [
    "# 172) List all the clerks.\n",
    "\n",
    "#Differnet Syntaxs\n",
    "\n",
    "emp.filter('JOB == \"CLERK\"').show()\n",
    "\n",
    "emp.filter(emp.JOB == \"CLERK\").show()\n",
    "\n",
    "emp.filter(col(\"JOB\") == \"CLERK\").show()"
   ]
  },
  {
   "cell_type": "code",
   "execution_count": 75,
   "metadata": {},
   "outputs": [],
   "source": [
    "# 173) list all the employees joined on 1 st may 81."
   ]
  },
  {
   "cell_type": "code",
   "execution_count": 76,
   "metadata": {},
   "outputs": [
    {
     "name": "stdout",
     "output_type": "stream",
     "text": [
      "+-----+------+---------+----+----------+------+----+------+\n",
      "|EMPNO| ENAME|      JOB| MGR|  HIREDATE|   SAL|COMM|DEPTNO|\n",
      "+-----+------+---------+----+----------+------+----+------+\n",
      "| 7934|MILLER|    CLERK|7782|1982-01-23|1300.0|null|    10|\n",
      "| 7782| CLARK|  MANAGER|7839|1981-06-09|2450.0|null|    10|\n",
      "| 7839|  KING|PRESIDENT|null|1981-11-17|5000.0|null|    10|\n",
      "+-----+------+---------+----+----------+------+----+------+\n",
      "\n"
     ]
    }
   ],
   "source": [
    "# 174) List the empno,ename,sal,deptno of the dept 10 emps in the ascending order of\n",
    "# salary.\n",
    "\n",
    "emp.filter(\"DEPTNO == 10\").sort(asc(\"SAL\")).show()"
   ]
  },
  {
   "cell_type": "code",
   "execution_count": 77,
   "metadata": {},
   "outputs": [
    {
     "name": "stdout",
     "output_type": "stream",
     "text": [
      "+-----+------+--------+----+----------+------+-------+------+\n",
      "|EMPNO| ENAME|     JOB| MGR|  HIREDATE|   SAL|   COMM|DEPTNO|\n",
      "+-----+------+--------+----+----------+------+-------+------+\n",
      "| 7369| SMITH|   CLERK|7902|1980-12-17| 800.0|   null|    20|\n",
      "| 7499| ALLEN|SALESMAN|7698|1981-02-20|1600.0| 300.00|    30|\n",
      "| 7521|  WARD|SALESMAN|7698|1981-02-22|1250.0| 500.00|    30|\n",
      "| 7566| JONES| MANAGER|7839|1981-04-02|2975.0|   null|    20|\n",
      "| 7654|MARTIN|SALESMAN|7698|1981-09-28|1250.0|1400.00|    30|\n",
      "| 7698| BLAKE| MANAGER|7839|1981-05-01|2850.0|   null|    30|\n",
      "| 7782| CLARK| MANAGER|7839|1981-06-09|2450.0|   null|    10|\n",
      "| 7788| SCOTT| ANALYST|7566|1982-12-09|3000.0|   null|    20|\n",
      "| 7844|TURNER|SALESMAN|7698|1981-09-08|1500.0|   0.00|    30|\n",
      "| 7876| ADAMS|   CLERK|7788|1983-01-12|1100.0|   null|    20|\n",
      "| 7900| JAMES|   CLERK|7698|1981-12-03| 950.0|   null|    30|\n",
      "| 7902|  FORD| ANALYST|7566|1981-12-03|3000.0|   null|    20|\n",
      "| 7934|MILLER|   CLERK|7782|1982-01-23|1300.0|   null|    10|\n",
      "+-----+------+--------+----+----------+------+-------+------+\n",
      "\n"
     ]
    }
   ],
   "source": [
    "# 175) List the emps whose salaries are less than 3500.\n",
    "\n",
    "emp.filter(\"SAL < 3500\").show()\n"
   ]
  },
  {
   "cell_type": "code",
   "execution_count": 78,
   "metadata": {},
   "outputs": [
    {
     "name": "stdout",
     "output_type": "stream",
     "text": [
      "+-----+-----+--------+----+----------+------+------+------+\n",
      "|EMPNO|ENAME|     JOB| MGR|  HIREDATE|   SAL|  COMM|DEPTNO|\n",
      "+-----+-----+--------+----+----------+------+------+------+\n",
      "| 7369|SMITH|   CLERK|7902|1980-12-17| 800.0|  null|    20|\n",
      "| 7499|ALLEN|SALESMAN|7698|1981-02-20|1600.0|300.00|    30|\n",
      "| 7521| WARD|SALESMAN|7698|1981-02-22|1250.0|500.00|    30|\n",
      "+-----+-----+--------+----+----------+------+------+------+\n",
      "\n"
     ]
    }
   ],
   "source": [
    "# 176) List the empno,ename,sal of all the emp joined before 1 apr 81.\n",
    "\n",
    "emp.filter('HIREDATE < \"1981-04-01\"').show()"
   ]
  },
  {
   "cell_type": "code",
   "execution_count": 79,
   "metadata": {},
   "outputs": [
    {
     "name": "stdout",
     "output_type": "stream",
     "text": [
      "+-----+------+--------+----+----------+------+-------+------+\n",
      "|EMPNO| ENAME|     JOB| MGR|  HIREDATE|   SAL|   COMM|DEPTNO|\n",
      "+-----+------+--------+----+----------+------+-------+------+\n",
      "| 7369| SMITH|   CLERK|7902|1980-12-17| 800.0|   null|    20|\n",
      "| 7499| ALLEN|SALESMAN|7698|1981-02-20|1600.0| 300.00|    30|\n",
      "| 7521|  WARD|SALESMAN|7698|1981-02-22|1250.0| 500.00|    30|\n",
      "| 7654|MARTIN|SALESMAN|7698|1981-09-28|1250.0|1400.00|    30|\n",
      "| 7844|TURNER|SALESMAN|7698|1981-09-08|1500.0|   0.00|    30|\n",
      "| 7876| ADAMS|   CLERK|7788|1983-01-12|1100.0|   null|    20|\n",
      "| 7900| JAMES|   CLERK|7698|1981-12-03| 950.0|   null|    30|\n",
      "| 7934|MILLER|   CLERK|7782|1982-01-23|1300.0|   null|    10|\n",
      "+-----+------+--------+----+----------+------+-------+------+\n",
      "\n"
     ]
    }
   ],
   "source": [
    "# 177) List the emp whose annual sal is <25000 in the asc order of the salaries.\n",
    "\n",
    "emp.filter(emp.SAL*12 < 25000).show()"
   ]
  },
  {
   "cell_type": "code",
   "execution_count": 80,
   "metadata": {},
   "outputs": [
    {
     "name": "stdout",
     "output_type": "stream",
     "text": [
      "+-----+------+-------+--------+\n",
      "|EMPNO| ENAME| ANNSAL|DAILYSAL|\n",
      "+-----+------+-------+--------+\n",
      "| 7369| SMITH| 9600.0|    27.0|\n",
      "| 7900| JAMES|11400.0|    32.0|\n",
      "| 7876| ADAMS|13200.0|    37.0|\n",
      "| 7654|MARTIN|15000.0|    42.0|\n",
      "| 7521|  WARD|15000.0|    42.0|\n",
      "| 7934|MILLER|15600.0|    43.0|\n",
      "| 7844|TURNER|18000.0|    50.0|\n",
      "| 7499| ALLEN|19200.0|    53.0|\n",
      "| 7782| CLARK|29400.0|    82.0|\n",
      "| 7698| BLAKE|34200.0|    95.0|\n",
      "| 7566| JONES|35700.0|    99.0|\n",
      "| 7902|  FORD|36000.0|   100.0|\n",
      "| 7788| SCOTT|36000.0|   100.0|\n",
      "| 7839|  KING|60000.0|   167.0|\n",
      "+-----+------+-------+--------+\n",
      "\n"
     ]
    }
   ],
   "source": [
    "# 178) List the empno,ename,annsal,dailysal of all the salesmen in the asc ann sal\n",
    "\n",
    "emp.select(\"EMPNO\", \"ENAME\", (emp.SAL*12).alias(\"ANNSAL\"), round((emp.SAL/30)).alias(\"DAILYSAL\")).sort(asc(\"ANNSAL\")).show()"
   ]
  },
  {
   "cell_type": "code",
   "execution_count": 81,
   "metadata": {},
   "outputs": [
    {
     "name": "stdout",
     "output_type": "stream",
     "text": [
      "+-----+------+----------+--------------+------------------+\n",
      "|EMPNO| ENAME|  HIREDATE|current_date()|               EXP|\n",
      "+-----+------+----------+--------------+------------------+\n",
      "| 7369| SMITH|1980-12-17|    2018-11-27| 37.96986301369863|\n",
      "| 7499| ALLEN|1981-02-20|    2018-11-27| 37.79178082191781|\n",
      "| 7521|  WARD|1981-02-22|    2018-11-27| 37.78630136986301|\n",
      "| 7566| JONES|1981-04-02|    2018-11-27|37.679452054794524|\n",
      "| 7654|MARTIN|1981-09-28|    2018-11-27| 37.18904109589041|\n",
      "| 7698| BLAKE|1981-05-01|    2018-11-27|              37.6|\n",
      "| 7782| CLARK|1981-06-09|    2018-11-27| 37.49315068493151|\n",
      "| 7788| SCOTT|1982-12-09|    2018-11-27| 35.99178082191781|\n",
      "| 7839|  KING|1981-11-17|    2018-11-27| 37.05205479452055|\n",
      "| 7844|TURNER|1981-09-08|    2018-11-27| 37.24383561643835|\n",
      "| 7876| ADAMS|1983-01-12|    2018-11-27|  35.8986301369863|\n",
      "| 7900| JAMES|1981-12-03|    2018-11-27| 37.00821917808219|\n",
      "| 7902|  FORD|1981-12-03|    2018-11-27| 37.00821917808219|\n",
      "| 7934|MILLER|1982-01-23|    2018-11-27|36.868493150684934|\n",
      "+-----+------+----------+--------------+------------------+\n",
      "\n"
     ]
    }
   ],
   "source": [
    "# 179) List the empno,ename,hiredate,current date & exp in the ascending order of the\n",
    "# exp.\n",
    "\n",
    "emp.select(\"EMPNO\", \"ENAME\", \"HIREDATE\", current_date(), (datediff(current_date(), \"HIREDATE\")/365).alias(\"EXP\")).show()\n"
   ]
  },
  {
   "cell_type": "code",
   "execution_count": 82,
   "metadata": {},
   "outputs": [
    {
     "name": "stdout",
     "output_type": "stream",
     "text": [
      "+-----+------+---------+----+----------+------+-------+------+\n",
      "|EMPNO| ENAME|      JOB| MGR|  HIREDATE|   SAL|   COMM|DEPTNO|\n",
      "+-----+------+---------+----+----------+------+-------+------+\n",
      "| 7369| SMITH|    CLERK|7902|1980-12-17| 800.0|   null|    20|\n",
      "| 7499| ALLEN| SALESMAN|7698|1981-02-20|1600.0| 300.00|    30|\n",
      "| 7521|  WARD| SALESMAN|7698|1981-02-22|1250.0| 500.00|    30|\n",
      "| 7566| JONES|  MANAGER|7839|1981-04-02|2975.0|   null|    20|\n",
      "| 7654|MARTIN| SALESMAN|7698|1981-09-28|1250.0|1400.00|    30|\n",
      "| 7698| BLAKE|  MANAGER|7839|1981-05-01|2850.0|   null|    30|\n",
      "| 7782| CLARK|  MANAGER|7839|1981-06-09|2450.0|   null|    10|\n",
      "| 7839|  KING|PRESIDENT|null|1981-11-17|5000.0|   null|    10|\n",
      "| 7844|TURNER| SALESMAN|7698|1981-09-08|1500.0|   0.00|    30|\n",
      "| 7900| JAMES|    CLERK|7698|1981-12-03| 950.0|   null|    30|\n",
      "| 7902|  FORD|  ANALYST|7566|1981-12-03|3000.0|   null|    20|\n",
      "| 7934|MILLER|    CLERK|7782|1982-01-23|1300.0|   null|    10|\n",
      "+-----+------+---------+----+----------+------+-------+------+\n",
      "\n"
     ]
    }
   ],
   "source": [
    "#180 List the emps whose exp is more than 37 years.\n",
    "\n",
    "emp.filter(datediff(current_date(), \"HIREDATE\")/365 > 36).show()"
   ]
  },
  {
   "cell_type": "code",
   "execution_count": 83,
   "metadata": {},
   "outputs": [
    {
     "name": "stdout",
     "output_type": "stream",
     "text": [
      "+-----+------+------+------+------+------+\n",
      "|EMPNO| ENAME|   SAL|    TA|    DA|   HRA|\n",
      "+-----+------+------+------+------+------+\n",
      "| 7369| SMITH| 800.0| 240.0| 320.0| 400.0|\n",
      "| 7499| ALLEN|1600.0| 480.0| 640.0| 800.0|\n",
      "| 7521|  WARD|1250.0| 375.0| 500.0| 625.0|\n",
      "| 7566| JONES|2975.0| 892.5|1190.0|1487.5|\n",
      "| 7654|MARTIN|1250.0| 375.0| 500.0| 625.0|\n",
      "| 7698| BLAKE|2850.0| 855.0|1140.0|1425.0|\n",
      "| 7782| CLARK|2450.0| 735.0| 980.0|1225.0|\n",
      "| 7788| SCOTT|3000.0| 900.0|1200.0|1500.0|\n",
      "| 7839|  KING|5000.0|1500.0|2000.0|2500.0|\n",
      "| 7844|TURNER|1500.0| 450.0| 600.0| 750.0|\n",
      "| 7876| ADAMS|1100.0| 330.0| 440.0| 550.0|\n",
      "| 7900| JAMES| 950.0| 285.0| 380.0| 475.0|\n",
      "| 7902|  FORD|3000.0| 900.0|1200.0|1500.0|\n",
      "| 7934|MILLER|1300.0| 390.0| 520.0| 650.0|\n",
      "+-----+------+------+------+------+------+\n",
      "\n"
     ]
    }
   ],
   "source": [
    "# 181) List\n",
    "# the\n",
    "# empno,ename,sal,TA30%,DA\n",
    "# 40%,HRA\n",
    "# 50%,GROSS,LIC,PF,net,deduction,net allow and net sal in the ascending order\n",
    "# of the net salary.\n",
    "\n",
    "\n",
    "emp.select(\"EMPNO\", \"ENAME\", \"SAL\", (emp.SAL*0.3).alias(\"TA\"), (emp.SAL*0.4).alias(\"DA\"), (emp.SAL*0.5).alias(\"HRA\")).show()"
   ]
  },
  {
   "cell_type": "code",
   "execution_count": 84,
   "metadata": {},
   "outputs": [
    {
     "name": "stdout",
     "output_type": "stream",
     "text": [
      "+-----+-----+---------+----+----------+------+----+------+\n",
      "|EMPNO|ENAME|      JOB| MGR|  HIREDATE|   SAL|COMM|DEPTNO|\n",
      "+-----+-----+---------+----+----------+------+----+------+\n",
      "| 7566|JONES|  MANAGER|7839|1981-04-02|2975.0|null|    20|\n",
      "| 7698|BLAKE|  MANAGER|7839|1981-05-01|2850.0|null|    30|\n",
      "| 7782|CLARK|  MANAGER|7839|1981-06-09|2450.0|null|    10|\n",
      "| 7788|SCOTT|  ANALYST|7566|1982-12-09|3000.0|null|    20|\n",
      "| 7839| KING|PRESIDENT|null|1981-11-17|5000.0|null|    10|\n",
      "| 7902| FORD|  ANALYST|7566|1981-12-03|3000.0|null|    20|\n",
      "+-----+-----+---------+----+----------+------+----+------+\n",
      "\n"
     ]
    }
   ],
   "source": [
    "# 182) List the emps who are working as managers.\n",
    "\n",
    "emp.filter(emp.EMPNO.isin(emp.select(\"MGR\").distinct().rdd.map(lambda x: x[0]).collect())).show()"
   ]
  },
  {
   "cell_type": "code",
   "execution_count": 85,
   "metadata": {},
   "outputs": [
    {
     "name": "stdout",
     "output_type": "stream",
     "text": [
      "+-----+------+---------+----+----------+------+----+------+\n",
      "|EMPNO| ENAME|      JOB| MGR|  HIREDATE|   SAL|COMM|DEPTNO|\n",
      "+-----+------+---------+----+----------+------+----+------+\n",
      "| 7369| SMITH|    CLERK|7902|1980-12-17| 800.0|null|    20|\n",
      "| 7566| JONES|  MANAGER|7839|1981-04-02|2975.0|null|    20|\n",
      "| 7698| BLAKE|  MANAGER|7839|1981-05-01|2850.0|null|    30|\n",
      "| 7782| CLARK|  MANAGER|7839|1981-06-09|2450.0|null|    10|\n",
      "| 7788| SCOTT|  ANALYST|7566|1982-12-09|3000.0|null|    20|\n",
      "| 7839|  KING|PRESIDENT|null|1981-11-17|5000.0|null|    10|\n",
      "| 7876| ADAMS|    CLERK|7788|1983-01-12|1100.0|null|    20|\n",
      "| 7900| JAMES|    CLERK|7698|1981-12-03| 950.0|null|    30|\n",
      "| 7902|  FORD|  ANALYST|7566|1981-12-03|3000.0|null|    20|\n",
      "| 7934|MILLER|    CLERK|7782|1982-01-23|1300.0|null|    10|\n",
      "+-----+------+---------+----+----------+------+----+------+\n",
      "\n"
     ]
    }
   ],
   "source": [
    "# 183) List the emps who are either clerks or managers.\n",
    "\n",
    "emp.filter((emp.EMPNO.isin(emp.select(\"MGR\").distinct().rdd.map(lambda x: x[0]).collect())) | (emp.JOB == \"CLERK\")).show()"
   ]
  },
  {
   "cell_type": "code",
   "execution_count": 86,
   "metadata": {},
   "outputs": [
    {
     "name": "stdout",
     "output_type": "stream",
     "text": [
      "+-----+-----+---------+----+----------+------+----+------+\n",
      "|EMPNO|ENAME|      JOB| MGR|  HIREDATE|   SAL|COMM|DEPTNO|\n",
      "+-----+-----+---------+----+----------+------+----+------+\n",
      "| 7698|BLAKE|  MANAGER|7839|1981-05-01|2850.0|null|    30|\n",
      "| 7839| KING|PRESIDENT|null|1981-11-17|5000.0|null|    10|\n",
      "+-----+-----+---------+----+----------+------+----+------+\n",
      "\n"
     ]
    }
   ],
   "source": [
    "# 184) List the emps who have joined on the following dates 1 may 81,17 nov 81,30\n",
    "# dec 81\n",
    "\n",
    "emp.filter(col(\"HIREDATE\").isin(\"1981-05-01\", \"1981-11-17\", \"1981-12-30\")).show()"
   ]
  },
  {
   "cell_type": "code",
   "execution_count": 87,
   "metadata": {},
   "outputs": [
    {
     "name": "stdout",
     "output_type": "stream",
     "text": [
      "+-----+------+---------+----+----------+------+-------+------+\n",
      "|EMPNO| ENAME|      JOB| MGR|  HIREDATE|   SAL|   COMM|DEPTNO|\n",
      "+-----+------+---------+----+----------+------+-------+------+\n",
      "| 7499| ALLEN| SALESMAN|7698|1981-02-20|1600.0| 300.00|    30|\n",
      "| 7521|  WARD| SALESMAN|7698|1981-02-22|1250.0| 500.00|    30|\n",
      "| 7566| JONES|  MANAGER|7839|1981-04-02|2975.0|   null|    20|\n",
      "| 7654|MARTIN| SALESMAN|7698|1981-09-28|1250.0|1400.00|    30|\n",
      "| 7698| BLAKE|  MANAGER|7839|1981-05-01|2850.0|   null|    30|\n",
      "| 7782| CLARK|  MANAGER|7839|1981-06-09|2450.0|   null|    10|\n",
      "| 7839|  KING|PRESIDENT|null|1981-11-17|5000.0|   null|    10|\n",
      "| 7844|TURNER| SALESMAN|7698|1981-09-08|1500.0|   0.00|    30|\n",
      "| 7900| JAMES|    CLERK|7698|1981-12-03| 950.0|   null|    30|\n",
      "| 7902|  FORD|  ANALYST|7566|1981-12-03|3000.0|   null|    20|\n",
      "+-----+------+---------+----+----------+------+-------+------+\n",
      "\n"
     ]
    }
   ],
   "source": [
    "# 185) List the emps who have joined in the year 1981.\n",
    "\n",
    "emp.filter(year(\"HIREDATE\") == 1981).show()"
   ]
  },
  {
   "cell_type": "code",
   "execution_count": 88,
   "metadata": {},
   "outputs": [
    {
     "name": "stdout",
     "output_type": "stream",
     "text": [
      "+-----+-----+-------+----+----------+------+----+------+----------+\n",
      "|EMPNO|ENAME|    JOB| MGR|  HIREDATE|   SAL|COMM|DEPTNO|(SAL * 12)|\n",
      "+-----+-----+-------+----+----------+------+----+------+----------+\n",
      "| 7566|JONES|MANAGER|7839|1981-04-02|2975.0|null|    20|   35700.0|\n",
      "| 7698|BLAKE|MANAGER|7839|1981-05-01|2850.0|null|    30|   34200.0|\n",
      "| 7782|CLARK|MANAGER|7839|1981-06-09|2450.0|null|    10|   29400.0|\n",
      "| 7788|SCOTT|ANALYST|7566|1982-12-09|3000.0|null|    20|   36000.0|\n",
      "| 7902| FORD|ANALYST|7566|1981-12-03|3000.0|null|    20|   36000.0|\n",
      "+-----+-----+-------+----+----------+------+----+------+----------+\n",
      "\n"
     ]
    }
   ],
   "source": [
    "# 186) List the emps whose annual sal ranging from 23000 to 40000.\n",
    "\n",
    "emp.filter((emp.SAL*12).between(23000, 40000)).select(\"*\",emp.SAL*12).show()"
   ]
  },
  {
   "cell_type": "code",
   "execution_count": 89,
   "metadata": {},
   "outputs": [
    {
     "name": "stdout",
     "output_type": "stream",
     "text": [
      "+-----+-----+-------+----+----------+------+----+------+\n",
      "|EMPNO|ENAME|    JOB| MGR|  HIREDATE|   SAL|COMM|DEPTNO|\n",
      "+-----+-----+-------+----+----------+------+----+------+\n",
      "| 7566|JONES|MANAGER|7839|1981-04-02|2975.0|null|    20|\n",
      "| 7698|BLAKE|MANAGER|7839|1981-05-01|2850.0|null|    30|\n",
      "| 7782|CLARK|MANAGER|7839|1981-06-09|2450.0|null|    10|\n",
      "+-----+-----+-------+----+----------+------+----+------+\n",
      "\n"
     ]
    }
   ],
   "source": [
    "# 187) List the emps working under the mgrs 7369,7890,7654,7900.\n",
    "\n",
    "emp.filter(emp.MGR.isin([7839,7890,7654,7900])).show()"
   ]
  },
  {
   "cell_type": "code",
   "execution_count": 90,
   "metadata": {},
   "outputs": [
    {
     "name": "stdout",
     "output_type": "stream",
     "text": [
      "+-----+-----+-------+----+----------+------+----+------+\n",
      "|EMPNO|ENAME|    JOB| MGR|  HIREDATE|   SAL|COMM|DEPTNO|\n",
      "+-----+-----+-------+----+----------+------+----+------+\n",
      "| 7788|SCOTT|ANALYST|7566|1982-12-09|3000.0|null|    20|\n",
      "+-----+-----+-------+----+----------+------+----+------+\n",
      "\n"
     ]
    }
   ],
   "source": [
    "# 188) List the emps who joined in the second half of 82.\n",
    "\n",
    "emp.filter(emp.HIREDATE.between(\"1982-06-01\", \"1982-12-31\")).show()"
   ]
  },
  {
   "cell_type": "code",
   "execution_count": 91,
   "metadata": {},
   "outputs": [
    {
     "name": "stdout",
     "output_type": "stream",
     "text": [
      "+-----+-----+---------+----+----------+------+------+------+\n",
      "|EMPNO|ENAME|      JOB| MGR|  HIREDATE|   SAL|  COMM|DEPTNO|\n",
      "+-----+-----+---------+----+----------+------+------+------+\n",
      "| 7521| WARD| SALESMAN|7698|1981-02-22|1250.0|500.00|    30|\n",
      "| 7839| KING|PRESIDENT|null|1981-11-17|5000.0|  null|    10|\n",
      "| 7902| FORD|  ANALYST|7566|1981-12-03|3000.0|  null|    20|\n",
      "+-----+-----+---------+----+----------+------+------+------+\n",
      "\n"
     ]
    }
   ],
   "source": [
    "# 189) List all the 4char emps.\n",
    "\n",
    "emp.filter(length(emp.ENAME) == 4).show()"
   ]
  },
  {
   "cell_type": "code",
   "execution_count": 92,
   "metadata": {},
   "outputs": [
    {
     "name": "stdout",
     "output_type": "stream",
     "text": [
      "+-----+------+--------+----+----------+------+-------+------+\n",
      "|EMPNO| ENAME|     JOB| MGR|  HIREDATE|   SAL|   COMM|DEPTNO|\n",
      "+-----+------+--------+----+----------+------+-------+------+\n",
      "| 7654|MARTIN|SALESMAN|7698|1981-09-28|1250.0|1400.00|    30|\n",
      "| 7934|MILLER|   CLERK|7782|1982-01-23|1300.0|   null|    10|\n",
      "+-----+------+--------+----+----------+------+-------+------+\n",
      "\n"
     ]
    }
   ],
   "source": [
    "# 190) List the emp names starting with ‘M’ with 6 chars.\n",
    "\n",
    "emp.filter((emp.ENAME.like(\"M%\")) & (length(emp.ENAME) == 6)).show()"
   ]
  },
  {
   "cell_type": "code",
   "execution_count": 93,
   "metadata": {},
   "outputs": [
    {
     "name": "stdout",
     "output_type": "stream",
     "text": [
      "+-----+-----+-----+----+----------+-----+----+------+\n",
      "|EMPNO|ENAME|  JOB| MGR|  HIREDATE|  SAL|COMM|DEPTNO|\n",
      "+-----+-----+-----+----+----------+-----+----+------+\n",
      "| 7369|SMITH|CLERK|7902|1980-12-17|800.0|null|    20|\n",
      "+-----+-----+-----+----+----------+-----+----+------+\n",
      "\n"
     ]
    }
   ],
   "source": [
    "# 191) List the emps end with ‘H’ all together 5 chars.\n",
    "\n",
    "emp.filter((emp.ENAME.like(\"%H\")) & (length(emp.ENAME) == 5)).show()"
   ]
  },
  {
   "cell_type": "code",
   "execution_count": 94,
   "metadata": {},
   "outputs": [
    {
     "name": "stdout",
     "output_type": "stream",
     "text": [
      "+-----+------+--------+----+----------+------+-------+------+\n",
      "|EMPNO| ENAME|     JOB| MGR|  HIREDATE|   SAL|   COMM|DEPTNO|\n",
      "+-----+------+--------+----+----------+------+-------+------+\n",
      "| 7654|MARTIN|SALESMAN|7698|1981-09-28|1250.0|1400.00|    30|\n",
      "| 7934|MILLER|   CLERK|7782|1982-01-23|1300.0|   null|    10|\n",
      "+-----+------+--------+----+----------+------+-------+------+\n",
      "\n"
     ]
    }
   ],
   "source": [
    "# 192) List names start with ‘M’.\n",
    "\n",
    "emp.filter((emp.ENAME.like(\"M%\"))).show()"
   ]
  },
  {
   "cell_type": "code",
   "execution_count": 95,
   "metadata": {},
   "outputs": [
    {
     "name": "stdout",
     "output_type": "stream",
     "text": [
      "+-----+------+---------+----+----------+------+-------+------+\n",
      "|EMPNO| ENAME|      JOB| MGR|  HIREDATE|   SAL|   COMM|DEPTNO|\n",
      "+-----+------+---------+----+----------+------+-------+------+\n",
      "| 7499| ALLEN| SALESMAN|7698|1981-02-20|1600.0| 300.00|    30|\n",
      "| 7521|  WARD| SALESMAN|7698|1981-02-22|1250.0| 500.00|    30|\n",
      "| 7566| JONES|  MANAGER|7839|1981-04-02|2975.0|   null|    20|\n",
      "| 7654|MARTIN| SALESMAN|7698|1981-09-28|1250.0|1400.00|    30|\n",
      "| 7698| BLAKE|  MANAGER|7839|1981-05-01|2850.0|   null|    30|\n",
      "| 7782| CLARK|  MANAGER|7839|1981-06-09|2450.0|   null|    10|\n",
      "| 7839|  KING|PRESIDENT|null|1981-11-17|5000.0|   null|    10|\n",
      "| 7844|TURNER| SALESMAN|7698|1981-09-08|1500.0|   0.00|    30|\n",
      "| 7900| JAMES|    CLERK|7698|1981-12-03| 950.0|   null|    30|\n",
      "| 7902|  FORD|  ANALYST|7566|1981-12-03|3000.0|   null|    20|\n",
      "+-----+------+---------+----+----------+------+-------+------+\n",
      "\n"
     ]
    }
   ],
   "source": [
    "# 193) List the emps who joined in the year 81.\n",
    "\n",
    "emp.filter(year(emp.HIREDATE) == 1981).show()"
   ]
  },
  {
   "cell_type": "code",
   "execution_count": 96,
   "metadata": {},
   "outputs": [
    {
     "name": "stdout",
     "output_type": "stream",
     "text": [
      "+-----+------+---------+----+----------+------+------+------+\n",
      "|EMPNO| ENAME|      JOB| MGR|  HIREDATE|   SAL|  COMM|DEPTNO|\n",
      "+-----+------+---------+----+----------+------+------+------+\n",
      "| 7369| SMITH|    CLERK|7902|1980-12-17| 800.0|  null|    20|\n",
      "| 7499| ALLEN| SALESMAN|7698|1981-02-20|1600.0|300.00|    30|\n",
      "| 7788| SCOTT|  ANALYST|7566|1982-12-09|3000.0|  null|    20|\n",
      "| 7839|  KING|PRESIDENT|null|1981-11-17|5000.0|  null|    10|\n",
      "| 7844|TURNER| SALESMAN|7698|1981-09-08|1500.0|  0.00|    30|\n",
      "| 7876| ADAMS|    CLERK|7788|1983-01-12|1100.0|  null|    20|\n",
      "| 7902|  FORD|  ANALYST|7566|1981-12-03|3000.0|  null|    20|\n",
      "| 7934|MILLER|    CLERK|7782|1982-01-23|1300.0|  null|    10|\n",
      "+-----+------+---------+----+----------+------+------+------+\n",
      "\n"
     ]
    }
   ],
   "source": [
    "# 194) List the emps whose sal is ending with 00.\n",
    "\n",
    "emp.filter(emp.SAL.cast(\"integer\").like(\"%00\")).show()"
   ]
  },
  {
   "cell_type": "code",
   "execution_count": 97,
   "metadata": {},
   "outputs": [
    {
     "name": "stdout",
     "output_type": "stream",
     "text": [
      "+-----+------+-----+----+----------+------+----+------+\n",
      "|EMPNO| ENAME|  JOB| MGR|  HIREDATE|   SAL|COMM|DEPTNO|\n",
      "+-----+------+-----+----+----------+------+----+------+\n",
      "| 7876| ADAMS|CLERK|7788|1983-01-12|1100.0|null|    20|\n",
      "| 7934|MILLER|CLERK|7782|1982-01-23|1300.0|null|    10|\n",
      "+-----+------+-----+----+----------+------+----+------+\n",
      "\n"
     ]
    }
   ],
   "source": [
    "# 195) List the emp who joined in the month of JAN.\n",
    "\n",
    "emp.filter(month(\"HIREDATE\") == 01).show()"
   ]
  },
  {
   "cell_type": "code",
   "execution_count": 98,
   "metadata": {},
   "outputs": [
    {
     "name": "stdout",
     "output_type": "stream",
     "text": [
      "+-----+------+-------+----+----------+------+----+------+\n",
      "|EMPNO| ENAME|    JOB| MGR|  HIREDATE|   SAL|COMM|DEPTNO|\n",
      "+-----+------+-------+----+----------+------+----+------+\n",
      "| 7698| BLAKE|MANAGER|7839|1981-05-01|2850.0|null|    30|\n",
      "| 7876| ADAMS|  CLERK|7788|1983-01-12|1100.0|null|    20|\n",
      "| 7934|MILLER|  CLERK|7782|1982-01-23|1300.0|null|    10|\n",
      "+-----+------+-------+----+----------+------+----+------+\n",
      "\n"
     ]
    }
   ],
   "source": [
    "# 196) Who joined in the month having char ‘a’.\n",
    "\n",
    "\n",
    "emp.filter(date_format(\"HIREDATE\",\"MMM\").like(\"_a%\")).show()\n"
   ]
  },
  {
   "cell_type": "code",
   "execution_count": 99,
   "metadata": {},
   "outputs": [
    {
     "name": "stdout",
     "output_type": "stream",
     "text": [
      "+-----+------+-------+----+----------+------+----+------+\n",
      "|EMPNO| ENAME|    JOB| MGR|  HIREDATE|   SAL|COMM|DEPTNO|\n",
      "+-----+------+-------+----+----------+------+----+------+\n",
      "| 7698| BLAKE|MANAGER|7839|1981-05-01|2850.0|null|    30|\n",
      "| 7876| ADAMS|  CLERK|7788|1983-01-12|1100.0|null|    20|\n",
      "| 7934|MILLER|  CLERK|7782|1982-01-23|1300.0|null|    10|\n",
      "+-----+------+-------+----+----------+------+----+------+\n",
      "\n"
     ]
    }
   ],
   "source": [
    "# 197) Who joined in the month having second char ‘a’\n",
    "\n",
    "emp.filter(date_format(\"HIREDATE\",\"MMM\").like(\"_a%\")).show()\n"
   ]
  },
  {
   "cell_type": "code",
   "execution_count": 100,
   "metadata": {},
   "outputs": [
    {
     "name": "stdout",
     "output_type": "stream",
     "text": [
      "+-----+------+---------+----+----------+------+-------+------+\n",
      "|EMPNO| ENAME|      JOB| MGR|  HIREDATE|   SAL|   COMM|DEPTNO|\n",
      "+-----+------+---------+----+----------+------+-------+------+\n",
      "| 7499| ALLEN| SALESMAN|7698|1981-02-20|1600.0| 300.00|    30|\n",
      "| 7521|  WARD| SALESMAN|7698|1981-02-22|1250.0| 500.00|    30|\n",
      "| 7566| JONES|  MANAGER|7839|1981-04-02|2975.0|   null|    20|\n",
      "| 7654|MARTIN| SALESMAN|7698|1981-09-28|1250.0|1400.00|    30|\n",
      "| 7698| BLAKE|  MANAGER|7839|1981-05-01|2850.0|   null|    30|\n",
      "| 7782| CLARK|  MANAGER|7839|1981-06-09|2450.0|   null|    10|\n",
      "| 7788| SCOTT|  ANALYST|7566|1982-12-09|3000.0|   null|    20|\n",
      "| 7839|  KING|PRESIDENT|null|1981-11-17|5000.0|   null|    10|\n",
      "| 7844|TURNER| SALESMAN|7698|1981-09-08|1500.0|   0.00|    30|\n",
      "| 7876| ADAMS|    CLERK|7788|1983-01-12|1100.0|   null|    20|\n",
      "| 7902|  FORD|  ANALYST|7566|1981-12-03|3000.0|   null|    20|\n",
      "| 7934|MILLER|    CLERK|7782|1982-01-23|1300.0|   null|    10|\n",
      "+-----+------+---------+----+----------+------+-------+------+\n",
      "\n"
     ]
    }
   ],
   "source": [
    "# 198) List the emps whose salary is 4 digit number.\n",
    "\n",
    "emp.filter(length(emp.SAL.cast(\"integer\")) == 4).show()"
   ]
  },
  {
   "cell_type": "code",
   "execution_count": 101,
   "metadata": {},
   "outputs": [
    {
     "name": "stdout",
     "output_type": "stream",
     "text": [
      "+-----+-----+-----+----+----------+-----+----+------+\n",
      "|EMPNO|ENAME|  JOB| MGR|  HIREDATE|  SAL|COMM|DEPTNO|\n",
      "+-----+-----+-----+----+----------+-----+----+------+\n",
      "| 7369|SMITH|CLERK|7902|1980-12-17|800.0|null|    20|\n",
      "+-----+-----+-----+----+----------+-----+----+------+\n",
      "\n"
     ]
    }
   ],
   "source": [
    "# 199) List the emp who joined in 80’s.\n",
    "\n",
    "emp.filter(year(\"HIREDATE\") == 1980).show()"
   ]
  },
  {
   "cell_type": "code",
   "execution_count": 102,
   "metadata": {},
   "outputs": [
    {
     "name": "stdout",
     "output_type": "stream",
     "text": [
      "+-----+------+-----+----+----------+------+----+------+\n",
      "|EMPNO| ENAME|  JOB| MGR|  HIREDATE|   SAL|COMM|DEPTNO|\n",
      "+-----+------+-----+----+----------+------+----+------+\n",
      "| 7369| SMITH|CLERK|7902|1980-12-17| 800.0|null|    20|\n",
      "| 7876| ADAMS|CLERK|7788|1983-01-12|1100.0|null|    20|\n",
      "| 7900| JAMES|CLERK|7698|1981-12-03| 950.0|null|    30|\n",
      "| 7934|MILLER|CLERK|7782|1982-01-23|1300.0|null|    10|\n",
      "+-----+------+-----+----+----------+------+----+------+\n",
      "\n"
     ]
    }
   ],
   "source": [
    "# 200) List the emp who are clerks who have exp more than 8ys.\n",
    "\n",
    "emp.filter((emp.JOB == \"CLERK\") & (datediff(current_date(), emp.HIREDATE) > 365*8)).show()"
   ]
  },
  {
   "cell_type": "code",
   "execution_count": 103,
   "metadata": {},
   "outputs": [
    {
     "name": "stdout",
     "output_type": "stream",
     "text": [
      "+-----+-----+---------+----+----------+------+----+------+\n",
      "|EMPNO|ENAME|      JOB| MGR|  HIREDATE|   SAL|COMM|DEPTNO|\n",
      "+-----+-----+---------+----+----------+------+----+------+\n",
      "| 7788|SCOTT|  ANALYST|7566|1982-12-09|3000.0|null|    20|\n",
      "| 7902| FORD|  ANALYST|7566|1981-12-03|3000.0|null|    20|\n",
      "| 7566|JONES|  MANAGER|7839|1981-04-02|2975.0|null|    20|\n",
      "| 7839| KING|PRESIDENT|null|1981-11-17|5000.0|null|    10|\n",
      "| 7782|CLARK|  MANAGER|7839|1981-06-09|2450.0|null|    10|\n",
      "+-----+-----+---------+----+----------+------+----+------+\n",
      "\n"
     ]
    }
   ],
   "source": [
    "# 201) List the mgrs of dept 10 or 20.\n",
    "\n",
    "emp.alias(\"e\").join(emp.alias(\"m\"), [col(\"e.MGR\") == col(\"m.EMPNO\")]).select(\"m.*\").distinct().filter(col(\"DEPTNO\").isin([10,20])).show()"
   ]
  },
  {
   "cell_type": "code",
   "execution_count": 104,
   "metadata": {},
   "outputs": [
    {
     "name": "stdout",
     "output_type": "stream",
     "text": [
      "+-----+-----+--------+----+----------+------+------+------+\n",
      "|EMPNO|ENAME|     JOB| MGR|  HIREDATE|   SAL|  COMM|DEPTNO|\n",
      "+-----+-----+--------+----+----------+------+------+------+\n",
      "| 7499|ALLEN|SALESMAN|7698|1981-02-20|1600.0|300.00|    30|\n",
      "+-----+-----+--------+----+----------+------+------+------+\n",
      "\n"
     ]
    }
   ],
   "source": [
    "# 202) List the emps joined in jan with salary ranging from 1500 to 4000.\n",
    "\n",
    "emp.filter((month(\"HIREDATE\") == 02) & (emp.SAL.between(1500, 4000))).show()"
   ]
  },
  {
   "cell_type": "code",
   "execution_count": 105,
   "metadata": {},
   "outputs": [
    {
     "name": "stdout",
     "output_type": "stream",
     "text": [
      "+--------+\n",
      "|     JOB|\n",
      "+--------+\n",
      "| ANALYST|\n",
      "|SALESMAN|\n",
      "|   CLERK|\n",
      "| MANAGER|\n",
      "+--------+\n",
      "\n"
     ]
    }
   ],
   "source": [
    "# 203) List the unique jobs of dept 20 and 30 in desc order.\n",
    "\n",
    "emp.filter(emp.DEPTNO.isin([20,30])).select(\"JOB\").distinct().show()"
   ]
  },
  {
   "cell_type": "code",
   "execution_count": 106,
   "metadata": {},
   "outputs": [],
   "source": [
    "# 204) List the emps along with exp of those working under the mgr whose number is\n",
    "# starting with 7 but should not have a 9 joined before 1983.\n",
    "\n"
   ]
  },
  {
   "cell_type": "code",
   "execution_count": 107,
   "metadata": {},
   "outputs": [
    {
     "name": "stdout",
     "output_type": "stream",
     "text": [
      "+-----+-----+---------+----+----------+------+----+------+\n",
      "|EMPNO|ENAME|      JOB| MGR|  HIREDATE|   SAL|COMM|DEPTNO|\n",
      "+-----+-----+---------+----+----------+------+----+------+\n",
      "| 7788|SCOTT|  ANALYST|7566|1982-12-09|3000.0|null|    20|\n",
      "| 7902| FORD|  ANALYST|7566|1981-12-03|3000.0|null|    20|\n",
      "| 7566|JONES|  MANAGER|7839|1981-04-02|2975.0|null|    20|\n",
      "| 7698|BLAKE|  MANAGER|7839|1981-05-01|2850.0|null|    30|\n",
      "| 7839| KING|PRESIDENT|null|1981-11-17|5000.0|null|    10|\n",
      "| 7782|CLARK|  MANAGER|7839|1981-06-09|2450.0|null|    10|\n",
      "+-----+-----+---------+----+----------+------+----+------+\n",
      "\n"
     ]
    }
   ],
   "source": [
    "# 205) List the emps who are working as either mgr or analyst with the salary ranging\n",
    "# from 2000 to 5000 and with out comm.\n",
    "\n",
    "emp.alias(\"e\").join(emp.alias(\"m\"), [col(\"e.MGR\") == col(\"m.EMPNO\")]).select(\"m.*\").distinct()\\\n",
    ".filter((col(\"SAL\").between(2000,5000))).show()"
   ]
  },
  {
   "cell_type": "code",
   "execution_count": 108,
   "metadata": {},
   "outputs": [
    {
     "name": "stdout",
     "output_type": "stream",
     "text": [
      "+-----+------+--------+----+----------+------+------+------+\n",
      "|EMPNO| ENAME|     JOB| MGR|  HIREDATE|   SAL|  COMM|DEPTNO|\n",
      "+-----+------+--------+----+----------+------+------+------+\n",
      "| 7499| ALLEN|SALESMAN|7698|1981-02-20|1600.0|300.00|    30|\n",
      "| 7521|  WARD|SALESMAN|7698|1981-02-22|1250.0|500.00|    30|\n",
      "| 7844|TURNER|SALESMAN|7698|1981-09-08|1500.0|  0.00|    30|\n",
      "+-----+------+--------+----+----------+------+------+------+\n",
      "\n"
     ]
    }
   ],
   "source": [
    "# 206) List the empno,ename,sal,job of the emps with /ann sal <34000 but receiving\n",
    "# some comm. Which should not be>sal and desg should be sales man working\n",
    "# for dept 30.\n",
    "\n",
    "emp.filter((emp.JOB == \"SALESMAN\") & ((emp.DEPTNO) == 30)).filter((12 * when(emp.COMM.isNull(), emp.SAL)\\\n",
    "    .otherwise(emp.SAL + emp.COMM) < 34000)).filter(emp.SAL>emp.COMM).show()"
   ]
  },
  {
   "cell_type": "code",
   "execution_count": 109,
   "metadata": {},
   "outputs": [],
   "source": [
    "# 207) List the emps who are working for dept 10 or 20 with desgs as clerk or analyst\n",
    "# with a sal is either 3 or 4 digits with an exp>8ys but does not belong to mons of\n",
    "# mar,apr,sep and working for mgrs &no is not ending with 88 and 56.\n",
    "\n"
   ]
  },
  {
   "cell_type": "code",
   "execution_count": 110,
   "metadata": {},
   "outputs": [],
   "source": [
    "# 208) List the empno,ename,sal,job,deptno&exp of all the emps belongs to dept 10 or\n",
    "# 20 with an exp 6 to 10 y working under the same mgr with out comm. With a\n",
    "# job not ending irrespective of the position with comm.>200 with exp>=7y and\n",
    "# sal<2500 but not belongs to the month sep or nov working under the mgr whose\n",
    "# no is not having digits either 9 or 0 in the asc dept& desc dept"
   ]
  },
  {
   "cell_type": "code",
   "execution_count": 111,
   "metadata": {},
   "outputs": [
    {
     "name": "stdout",
     "output_type": "stream",
     "text": [
      "+------+-----+------+--------+----+----------+------+-------+-----+-------+\n",
      "|DEPTNO|EMPNO| ENAME|     JOB| MGR|  HIREDATE|   SAL|   COMM|DNAME|   DLOC|\n",
      "+------+-----+------+--------+----+----------+------+-------+-----+-------+\n",
      "|    30| 7499| ALLEN|SALESMAN|7698|1981-02-20|1600.0| 300.00|SALES|CHICAGO|\n",
      "|    30| 7521|  WARD|SALESMAN|7698|1981-02-22|1250.0| 500.00|SALES|CHICAGO|\n",
      "|    30| 7654|MARTIN|SALESMAN|7698|1981-09-28|1250.0|1400.00|SALES|CHICAGO|\n",
      "|    30| 7698| BLAKE| MANAGER|7839|1981-05-01|2850.0|   null|SALES|CHICAGO|\n",
      "|    30| 7844|TURNER|SALESMAN|7698|1981-09-08|1500.0|   0.00|SALES|CHICAGO|\n",
      "|    30| 7900| JAMES|   CLERK|7698|1981-12-03| 950.0|   null|SALES|CHICAGO|\n",
      "+------+-----+------+--------+----+----------+------+-------+-----+-------+\n",
      "\n"
     ]
    }
   ],
   "source": [
    "# 209) List the details of the emps working at Chicago.\n",
    "\n",
    "emp.join(dept, \"DEPTNO\").filter('DLOC == \"CHICAGO\"').show()"
   ]
  },
  {
   "cell_type": "code",
   "execution_count": 112,
   "metadata": {},
   "outputs": [
    {
     "name": "stdout",
     "output_type": "stream",
     "text": [
      "+-----+------+------+--------+\n",
      "|EMPNO| ENAME|DEPTNO|    DLOC|\n",
      "+-----+------+------+--------+\n",
      "| 7369| SMITH|    20|  DALLAS|\n",
      "| 7566| JONES|    20|  DALLAS|\n",
      "| 7788| SCOTT|    20|  DALLAS|\n",
      "| 7876| ADAMS|    20|  DALLAS|\n",
      "| 7902|  FORD|    20|  DALLAS|\n",
      "| 7782| CLARK|    10|NEW YORK|\n",
      "| 7839|  KING|    10|NEW YORK|\n",
      "| 7934|MILLER|    10|NEW YORK|\n",
      "| 7499| ALLEN|    30| CHICAGO|\n",
      "| 7521|  WARD|    30| CHICAGO|\n",
      "| 7654|MARTIN|    30| CHICAGO|\n",
      "| 7698| BLAKE|    30| CHICAGO|\n",
      "| 7844|TURNER|    30| CHICAGO|\n",
      "| 7900| JAMES|    30| CHICAGO|\n",
      "+-----+------+------+--------+\n",
      "\n"
     ]
    }
   ],
   "source": [
    "# 210) List the empno,ename,deptno,loc of all the emps.\n",
    "\n",
    "emp.join(dept, \"DEPTNO\").select(\"EMPNO\", \"ENAME\", \"DEPTNO\", \"DLOC\").show()"
   ]
  },
  {
   "cell_type": "code",
   "execution_count": 113,
   "metadata": {},
   "outputs": [
    {
     "name": "stdout",
     "output_type": "stream",
     "text": [
      "+----+------+---------+----+----------+------+-------+------+\n",
      "| ENO| ENAME|      JOB| MGR|  HIREDATE|   SAL|   COMM|DEPTNO|\n",
      "+----+------+---------+----+----------+------+-------+------+\n",
      "|7369| SMITH|    CLERK|7902|1980-12-17| 800.0|   null|    20|\n",
      "|7499| ALLEN| SALESMAN|7698|1981-02-20|1600.0| 300.00|    30|\n",
      "|7521|  WARD| SALESMAN|7698|1981-02-22|1250.0| 500.00|    30|\n",
      "|7566| JONES|  MANAGER|7839|1981-04-02|2975.0|   null|    20|\n",
      "|7654|MARTIN| SALESMAN|7698|1981-09-28|1250.0|1400.00|    30|\n",
      "|7698| BLAKE|  MANAGER|7839|1981-05-01|2850.0|   null|    30|\n",
      "|7782| CLARK|  MANAGER|7839|1981-06-09|2450.0|   null|    10|\n",
      "|7788| SCOTT|  ANALYST|7566|1982-12-09|3000.0|   null|    20|\n",
      "|7839|  KING|PRESIDENT|null|1981-11-17|5000.0|   null|    10|\n",
      "|7844|TURNER| SALESMAN|7698|1981-09-08|1500.0|   0.00|    30|\n",
      "|7876| ADAMS|    CLERK|7788|1983-01-12|1100.0|   null|    20|\n",
      "|7900| JAMES|    CLERK|7698|1981-12-03| 950.0|   null|    30|\n",
      "|7902|  FORD|  ANALYST|7566|1981-12-03|3000.0|   null|    20|\n",
      "|7934|MILLER|    CLERK|7782|1982-01-23|1300.0|   null|    10|\n",
      "+----+------+---------+----+----------+------+-------+------+\n",
      "\n"
     ]
    }
   ],
   "source": [
    "# Some break to practice some miscellaneous functions\n",
    "\n",
    "emp.withColumnRenamed(\"EMPNO\", \"ENO\").show()"
   ]
  },
  {
   "cell_type": "code",
   "execution_count": 114,
   "metadata": {},
   "outputs": [
    {
     "data": {
      "text/plain": [
       "['EMPNO', 'ENAME', 'JOB', 'MGR', 'HIREDATE', 'SAL', 'COMM', 'DEPTNO']"
      ]
     },
     "execution_count": 114,
     "metadata": {},
     "output_type": "execute_result"
    }
   ],
   "source": [
    "emp.schema.names"
   ]
  },
  {
   "cell_type": "code",
   "execution_count": 115,
   "metadata": {},
   "outputs": [
    {
     "name": "stdout",
     "output_type": "stream",
     "text": [
      "+------+-------------------------------------------------------------+\n",
      "|DEPTNO|sum(CASE WHEN (COMM IS NULL) THEN COMM ELSE (SAL + COMM) END)|\n",
      "+------+-------------------------------------------------------------+\n",
      "|    20|                                                         null|\n",
      "|    10|                                                         null|\n",
      "|    30|                                                       7800.0|\n",
      "+------+-------------------------------------------------------------+\n",
      "\n"
     ]
    }
   ],
   "source": [
    "#Find the sum of SAL+COMM department wise\n",
    "\n",
    "emp.groupBy(\"DEPTNO\").agg(sum(when(emp.COMM.isNull(), emp.COMM).otherwise(emp.SAL+emp.COMM))).show()"
   ]
  },
  {
   "cell_type": "code",
   "execution_count": 116,
   "metadata": {},
   "outputs": [
    {
     "name": "stdout",
     "output_type": "stream",
     "text": [
      "+------+------------------------------------------------------------+\n",
      "|DEPTNO|sum(CASE WHEN (COMM IS NULL) THEN SAL ELSE (SAL + COMM) END)|\n",
      "+------+------------------------------------------------------------+\n",
      "|    20|                                                     10875.0|\n",
      "|    10|                                                      8750.0|\n",
      "|    30|                                                     11600.0|\n",
      "+------+------------------------------------------------------------+\n",
      "\n"
     ]
    }
   ],
   "source": [
    "emp.groupBy(\"DEPTNO\").agg(sum(when(col(\"COMM\").isNull(), col(\"SAL\")).otherwise(col(\"SAL\")+col(\"COMM\")))).show()"
   ]
  },
  {
   "cell_type": "code",
   "execution_count": 117,
   "metadata": {},
   "outputs": [
    {
     "data": {
      "text/plain": [
       "10"
      ]
     },
     "execution_count": 117,
     "metadata": {},
     "output_type": "execute_result"
    }
   ],
   "source": [
    "emp.filter(col(\"COMM\").isNull()).count()"
   ]
  },
  {
   "cell_type": "code",
   "execution_count": 118,
   "metadata": {},
   "outputs": [
    {
     "name": "stdout",
     "output_type": "stream",
     "text": [
      "+-----+------+---------+----+----------+------+-------+------+\n",
      "|EMPNO| ENAME|      JOB| MGR|  HIREDATE|   SAL|   COMM|DEPTNO|\n",
      "+-----+------+---------+----+----------+------+-------+------+\n",
      "| 7369| SMITH|    CLERK|7902|1980-12-17| 800.0|    0.0|    20|\n",
      "| 7499| ALLEN| SALESMAN|7698|1981-02-20|1600.0| 300.00|    30|\n",
      "| 7521|  WARD| SALESMAN|7698|1981-02-22|1250.0| 500.00|    30|\n",
      "| 7566| JONES|  MANAGER|7839|1981-04-02|2975.0|    0.0|    20|\n",
      "| 7654|MARTIN| SALESMAN|7698|1981-09-28|1250.0|1400.00|    30|\n",
      "| 7698| BLAKE|  MANAGER|7839|1981-05-01|2850.0|    0.0|    30|\n",
      "| 7782| CLARK|  MANAGER|7839|1981-06-09|2450.0|    0.0|    10|\n",
      "| 7788| SCOTT|  ANALYST|7566|1982-12-09|3000.0|    0.0|    20|\n",
      "| 7839|  KING|PRESIDENT|null|1981-11-17|5000.0|    0.0|    10|\n",
      "| 7844|TURNER| SALESMAN|7698|1981-09-08|1500.0|   0.00|    30|\n",
      "| 7876| ADAMS|    CLERK|7788|1983-01-12|1100.0|    0.0|    20|\n",
      "| 7900| JAMES|    CLERK|7698|1981-12-03| 950.0|    0.0|    30|\n",
      "| 7902|  FORD|  ANALYST|7566|1981-12-03|3000.0|    0.0|    20|\n",
      "| 7934|MILLER|    CLERK|7782|1982-01-23|1300.0|    0.0|    10|\n",
      "+-----+------+---------+----+----------+------+-------+------+\n",
      "\n"
     ]
    }
   ],
   "source": [
    "emp.na.fill({'COMM': (0.0)}).show()"
   ]
  },
  {
   "cell_type": "code",
   "execution_count": 119,
   "metadata": {},
   "outputs": [
    {
     "name": "stdout",
     "output_type": "stream",
     "text": [
      "root\n",
      " |-- EMPNO: integer (nullable = true)\n",
      " |-- ENAME: string (nullable = true)\n",
      " |-- JOB: string (nullable = true)\n",
      " |-- MGR: integer (nullable = true)\n",
      " |-- HIREDATE: date (nullable = true)\n",
      " |-- SAL: double (nullable = true)\n",
      " |-- COMM: double (nullable = true)\n",
      " |-- DEPTNO: integer (nullable = true)\n",
      "\n"
     ]
    }
   ],
   "source": [
    "emp.withColumn(\"COMM\", col(\"COMM\").cast(\"double\")).printSchema()"
   ]
  },
  {
   "cell_type": "code",
   "execution_count": 120,
   "metadata": {},
   "outputs": [
    {
     "name": "stdout",
     "output_type": "stream",
     "text": [
      "+-----+------+--------+----+----------+------+-------+------+\n",
      "|EMPNO| ENAME|     JOB| MGR|  HIREDATE|   SAL|   COMM|DEPTNO|\n",
      "+-----+------+--------+----+----------+------+-------+------+\n",
      "| 7499| ALLEN|SALESMAN|7698|1981-02-20|1600.0| 300.00|    30|\n",
      "| 7521|  WARD|SALESMAN|7698|1981-02-22|1250.0| 500.00|    30|\n",
      "| 7654|MARTIN|SALESMAN|7698|1981-09-28|1250.0|1400.00|    30|\n",
      "| 7844|TURNER|SALESMAN|7698|1981-09-08|1500.0|   0.00|    30|\n",
      "+-----+------+--------+----+----------+------+-------+------+\n",
      "\n"
     ]
    }
   ],
   "source": [
    "allenJobSAL = emp.filter('ENAME = \"ALLEN\"').select(\"SAL\", \"JOB\")\n",
    "\n",
    "allenSAL = allenJobSAL.head()[0]\n",
    "\n",
    "allenJOB = allenJobSAL.head()[1]\n",
    "\n",
    "emp.filter((col(\"SAL\") == allenSAL) | (col(\"JOB\") == allenJOB)).show()"
   ]
  },
  {
   "cell_type": "code",
   "execution_count": 121,
   "metadata": {},
   "outputs": [
    {
     "name": "stdout",
     "output_type": "stream",
     "text": [
      "+------+-----+------+--------+----+----------+------+-------+-----+------+------+-----+-------+\n",
      "|DEPTNO|EMPNO| ENAME|     JOB| MGR|  HIREDATE|   SAL|   COMM|GRADE| LOSAL| HISAL|DNAME|   DLOC|\n",
      "+------+-----+------+--------+----+----------+------+-------+-----+------+------+-----+-------+\n",
      "|    30| 7521|  WARD|SALESMAN|7698|1981-02-22|1250.0| 500.00|    2|1201.0|1400.0|SALES|CHICAGO|\n",
      "|    30| 7499| ALLEN|SALESMAN|7698|1981-02-20|1600.0| 300.00|    3|1401.0|2000.0|SALES|CHICAGO|\n",
      "|    30| 7654|MARTIN|SALESMAN|7698|1981-09-28|1250.0|1400.00|    2|1201.0|1400.0|SALES|CHICAGO|\n",
      "|    30| 7698| BLAKE| MANAGER|7839|1981-05-01|2850.0|   null|    4|2001.0|3000.0|SALES|CHICAGO|\n",
      "|    30| 7844|TURNER|SALESMAN|7698|1981-09-08|1500.0|   0.00|    3|1401.0|2000.0|SALES|CHICAGO|\n",
      "|    30| 7900| JAMES|   CLERK|7698|1981-12-03| 950.0|   null|    1| 700.0|1200.0|SALES|CHICAGO|\n",
      "+------+-----+------+--------+----+----------+------+-------+-----+------+------+-----+-------+\n",
      "\n"
     ]
    }
   ],
   "source": [
    "emp.join(sal, emp.SAL.between(sal.LOSAL, sal.HISAL), 'inner')\\\n",
    "    .join(dept, \"DEPTNO\", 'inner').filter('DNAME = \"SALES\"').show()"
   ]
  },
  {
   "cell_type": "code",
   "execution_count": 122,
   "metadata": {},
   "outputs": [
    {
     "data": {
      "text/plain": [
       "DataFrame[DEPTNO: int, EMPNO: int, ENAME: string, JOB: string, MGR: int, HIREDATE: date, SAL: double, COMM: string, GRADE: int, LOSAL: double, HISAL: double, DNAME: string, DLOC: string]"
      ]
     },
     "execution_count": 122,
     "metadata": {},
     "output_type": "execute_result"
    }
   ],
   "source": [
    "emp.join(sal, emp.SAL.between(sal.LOSAL, sal.HISAL))\\\n",
    "    .join(dept, \"DEPTNO\").filter('DNAME = \"SALES\"')"
   ]
  },
  {
   "cell_type": "code",
   "execution_count": 123,
   "metadata": {},
   "outputs": [
    {
     "ename": "Py4JJavaError",
     "evalue": "An error occurred while calling o1435.saveAsTextFile.\n: org.apache.hadoop.mapred.FileAlreadyExistsException: Output directory file:/home/nineleaps/spark/test already exists\n\tat org.apache.hadoop.mapred.FileOutputFormat.checkOutputSpecs(FileOutputFormat.java:131)\n\tat org.apache.spark.internal.io.HadoopMapRedWriteConfigUtil.assertConf(SparkHadoopWriter.scala:283)\n\tat org.apache.spark.internal.io.SparkHadoopWriter$.write(SparkHadoopWriter.scala:71)\n\tat org.apache.spark.rdd.PairRDDFunctions$$anonfun$saveAsHadoopDataset$1.apply$mcV$sp(PairRDDFunctions.scala:1096)\n\tat org.apache.spark.rdd.PairRDDFunctions$$anonfun$saveAsHadoopDataset$1.apply(PairRDDFunctions.scala:1094)\n\tat org.apache.spark.rdd.PairRDDFunctions$$anonfun$saveAsHadoopDataset$1.apply(PairRDDFunctions.scala:1094)\n\tat org.apache.spark.rdd.RDDOperationScope$.withScope(RDDOperationScope.scala:151)\n\tat org.apache.spark.rdd.RDDOperationScope$.withScope(RDDOperationScope.scala:112)\n\tat org.apache.spark.rdd.RDD.withScope(RDD.scala:363)\n\tat org.apache.spark.rdd.PairRDDFunctions.saveAsHadoopDataset(PairRDDFunctions.scala:1094)\n\tat org.apache.spark.rdd.PairRDDFunctions$$anonfun$saveAsHadoopFile$4.apply$mcV$sp(PairRDDFunctions.scala:1067)\n\tat org.apache.spark.rdd.PairRDDFunctions$$anonfun$saveAsHadoopFile$4.apply(PairRDDFunctions.scala:1032)\n\tat org.apache.spark.rdd.PairRDDFunctions$$anonfun$saveAsHadoopFile$4.apply(PairRDDFunctions.scala:1032)\n\tat org.apache.spark.rdd.RDDOperationScope$.withScope(RDDOperationScope.scala:151)\n\tat org.apache.spark.rdd.RDDOperationScope$.withScope(RDDOperationScope.scala:112)\n\tat org.apache.spark.rdd.RDD.withScope(RDD.scala:363)\n\tat org.apache.spark.rdd.PairRDDFunctions.saveAsHadoopFile(PairRDDFunctions.scala:1032)\n\tat org.apache.spark.rdd.PairRDDFunctions$$anonfun$saveAsHadoopFile$1.apply$mcV$sp(PairRDDFunctions.scala:958)\n\tat org.apache.spark.rdd.PairRDDFunctions$$anonfun$saveAsHadoopFile$1.apply(PairRDDFunctions.scala:958)\n\tat org.apache.spark.rdd.PairRDDFunctions$$anonfun$saveAsHadoopFile$1.apply(PairRDDFunctions.scala:958)\n\tat org.apache.spark.rdd.RDDOperationScope$.withScope(RDDOperationScope.scala:151)\n\tat org.apache.spark.rdd.RDDOperationScope$.withScope(RDDOperationScope.scala:112)\n\tat org.apache.spark.rdd.RDD.withScope(RDD.scala:363)\n\tat org.apache.spark.rdd.PairRDDFunctions.saveAsHadoopFile(PairRDDFunctions.scala:957)\n\tat org.apache.spark.rdd.RDD$$anonfun$saveAsTextFile$1.apply$mcV$sp(RDD.scala:1493)\n\tat org.apache.spark.rdd.RDD$$anonfun$saveAsTextFile$1.apply(RDD.scala:1472)\n\tat org.apache.spark.rdd.RDD$$anonfun$saveAsTextFile$1.apply(RDD.scala:1472)\n\tat org.apache.spark.rdd.RDDOperationScope$.withScope(RDDOperationScope.scala:151)\n\tat org.apache.spark.rdd.RDDOperationScope$.withScope(RDDOperationScope.scala:112)\n\tat org.apache.spark.rdd.RDD.withScope(RDD.scala:363)\n\tat org.apache.spark.rdd.RDD.saveAsTextFile(RDD.scala:1472)\n\tat org.apache.spark.api.java.JavaRDDLike$class.saveAsTextFile(JavaRDDLike.scala:550)\n\tat org.apache.spark.api.java.AbstractJavaRDDLike.saveAsTextFile(JavaRDDLike.scala:45)\n\tat sun.reflect.NativeMethodAccessorImpl.invoke0(Native Method)\n\tat sun.reflect.NativeMethodAccessorImpl.invoke(NativeMethodAccessorImpl.java:62)\n\tat sun.reflect.DelegatingMethodAccessorImpl.invoke(DelegatingMethodAccessorImpl.java:43)\n\tat java.lang.reflect.Method.invoke(Method.java:498)\n\tat py4j.reflection.MethodInvoker.invoke(MethodInvoker.java:244)\n\tat py4j.reflection.ReflectionEngine.invoke(ReflectionEngine.java:357)\n\tat py4j.Gateway.invoke(Gateway.java:282)\n\tat py4j.commands.AbstractCommand.invokeMethod(AbstractCommand.java:132)\n\tat py4j.commands.CallCommand.execute(CallCommand.java:79)\n\tat py4j.GatewayConnection.run(GatewayConnection.java:238)\n\tat java.lang.Thread.run(Thread.java:748)\n",
     "output_type": "error",
     "traceback": [
      "\u001b[0;31m---------------------------------------------------------------------------\u001b[0m",
      "\u001b[0;31mPy4JJavaError\u001b[0m                             Traceback (most recent call last)",
      "\u001b[0;32m<ipython-input-123-2a1fa47ddc32>\u001b[0m in \u001b[0;36m<module>\u001b[0;34m()\u001b[0m\n\u001b[0;32m----> 1\u001b[0;31m \u001b[0memp\u001b[0m\u001b[0;34m.\u001b[0m\u001b[0mrdd\u001b[0m\u001b[0;34m.\u001b[0m\u001b[0msaveAsTextFile\u001b[0m\u001b[0;34m(\u001b[0m\u001b[0;34m\"test\"\u001b[0m\u001b[0;34m)\u001b[0m\u001b[0;34m\u001b[0m\u001b[0m\n\u001b[0m",
      "\u001b[0;32m/nineleaps/apps/setup/spark-2.3.1-bin-hadoop2.7/python/pyspark/rdd.pyc\u001b[0m in \u001b[0;36msaveAsTextFile\u001b[0;34m(self, path, compressionCodecClass)\u001b[0m\n\u001b[1;32m   1583\u001b[0m             \u001b[0mkeyed\u001b[0m\u001b[0;34m.\u001b[0m\u001b[0m_jrdd\u001b[0m\u001b[0;34m.\u001b[0m\u001b[0mmap\u001b[0m\u001b[0;34m(\u001b[0m\u001b[0mself\u001b[0m\u001b[0;34m.\u001b[0m\u001b[0mctx\u001b[0m\u001b[0;34m.\u001b[0m\u001b[0m_jvm\u001b[0m\u001b[0;34m.\u001b[0m\u001b[0mBytesToString\u001b[0m\u001b[0;34m(\u001b[0m\u001b[0;34m)\u001b[0m\u001b[0;34m)\u001b[0m\u001b[0;34m.\u001b[0m\u001b[0msaveAsTextFile\u001b[0m\u001b[0;34m(\u001b[0m\u001b[0mpath\u001b[0m\u001b[0;34m,\u001b[0m \u001b[0mcompressionCodec\u001b[0m\u001b[0;34m)\u001b[0m\u001b[0;34m\u001b[0m\u001b[0m\n\u001b[1;32m   1584\u001b[0m         \u001b[0;32melse\u001b[0m\u001b[0;34m:\u001b[0m\u001b[0;34m\u001b[0m\u001b[0m\n\u001b[0;32m-> 1585\u001b[0;31m             \u001b[0mkeyed\u001b[0m\u001b[0;34m.\u001b[0m\u001b[0m_jrdd\u001b[0m\u001b[0;34m.\u001b[0m\u001b[0mmap\u001b[0m\u001b[0;34m(\u001b[0m\u001b[0mself\u001b[0m\u001b[0;34m.\u001b[0m\u001b[0mctx\u001b[0m\u001b[0;34m.\u001b[0m\u001b[0m_jvm\u001b[0m\u001b[0;34m.\u001b[0m\u001b[0mBytesToString\u001b[0m\u001b[0;34m(\u001b[0m\u001b[0;34m)\u001b[0m\u001b[0;34m)\u001b[0m\u001b[0;34m.\u001b[0m\u001b[0msaveAsTextFile\u001b[0m\u001b[0;34m(\u001b[0m\u001b[0mpath\u001b[0m\u001b[0;34m)\u001b[0m\u001b[0;34m\u001b[0m\u001b[0m\n\u001b[0m\u001b[1;32m   1586\u001b[0m \u001b[0;34m\u001b[0m\u001b[0m\n\u001b[1;32m   1587\u001b[0m     \u001b[0;31m# Pair functions\u001b[0m\u001b[0;34m\u001b[0m\u001b[0;34m\u001b[0m\u001b[0m\n",
      "\u001b[0;32m/home/nineleaps/.local/lib/python2.7/site-packages/py4j/java_gateway.pyc\u001b[0m in \u001b[0;36m__call__\u001b[0;34m(self, *args)\u001b[0m\n\u001b[1;32m   1255\u001b[0m         \u001b[0manswer\u001b[0m \u001b[0;34m=\u001b[0m \u001b[0mself\u001b[0m\u001b[0;34m.\u001b[0m\u001b[0mgateway_client\u001b[0m\u001b[0;34m.\u001b[0m\u001b[0msend_command\u001b[0m\u001b[0;34m(\u001b[0m\u001b[0mcommand\u001b[0m\u001b[0;34m)\u001b[0m\u001b[0;34m\u001b[0m\u001b[0m\n\u001b[1;32m   1256\u001b[0m         return_value = get_return_value(\n\u001b[0;32m-> 1257\u001b[0;31m             answer, self.gateway_client, self.target_id, self.name)\n\u001b[0m\u001b[1;32m   1258\u001b[0m \u001b[0;34m\u001b[0m\u001b[0m\n\u001b[1;32m   1259\u001b[0m         \u001b[0;32mfor\u001b[0m \u001b[0mtemp_arg\u001b[0m \u001b[0;32min\u001b[0m \u001b[0mtemp_args\u001b[0m\u001b[0;34m:\u001b[0m\u001b[0;34m\u001b[0m\u001b[0m\n",
      "\u001b[0;32m/nineleaps/apps/setup/spark-2.3.1-bin-hadoop2.7/python/pyspark/sql/utils.pyc\u001b[0m in \u001b[0;36mdeco\u001b[0;34m(*a, **kw)\u001b[0m\n\u001b[1;32m     61\u001b[0m     \u001b[0;32mdef\u001b[0m \u001b[0mdeco\u001b[0m\u001b[0;34m(\u001b[0m\u001b[0;34m*\u001b[0m\u001b[0ma\u001b[0m\u001b[0;34m,\u001b[0m \u001b[0;34m**\u001b[0m\u001b[0mkw\u001b[0m\u001b[0;34m)\u001b[0m\u001b[0;34m:\u001b[0m\u001b[0;34m\u001b[0m\u001b[0m\n\u001b[1;32m     62\u001b[0m         \u001b[0;32mtry\u001b[0m\u001b[0;34m:\u001b[0m\u001b[0;34m\u001b[0m\u001b[0m\n\u001b[0;32m---> 63\u001b[0;31m             \u001b[0;32mreturn\u001b[0m \u001b[0mf\u001b[0m\u001b[0;34m(\u001b[0m\u001b[0;34m*\u001b[0m\u001b[0ma\u001b[0m\u001b[0;34m,\u001b[0m \u001b[0;34m**\u001b[0m\u001b[0mkw\u001b[0m\u001b[0;34m)\u001b[0m\u001b[0;34m\u001b[0m\u001b[0m\n\u001b[0m\u001b[1;32m     64\u001b[0m         \u001b[0;32mexcept\u001b[0m \u001b[0mpy4j\u001b[0m\u001b[0;34m.\u001b[0m\u001b[0mprotocol\u001b[0m\u001b[0;34m.\u001b[0m\u001b[0mPy4JJavaError\u001b[0m \u001b[0;32mas\u001b[0m \u001b[0me\u001b[0m\u001b[0;34m:\u001b[0m\u001b[0;34m\u001b[0m\u001b[0m\n\u001b[1;32m     65\u001b[0m             \u001b[0ms\u001b[0m \u001b[0;34m=\u001b[0m \u001b[0me\u001b[0m\u001b[0;34m.\u001b[0m\u001b[0mjava_exception\u001b[0m\u001b[0;34m.\u001b[0m\u001b[0mtoString\u001b[0m\u001b[0;34m(\u001b[0m\u001b[0;34m)\u001b[0m\u001b[0;34m\u001b[0m\u001b[0m\n",
      "\u001b[0;32m/home/nineleaps/.local/lib/python2.7/site-packages/py4j/protocol.pyc\u001b[0m in \u001b[0;36mget_return_value\u001b[0;34m(answer, gateway_client, target_id, name)\u001b[0m\n\u001b[1;32m    326\u001b[0m                 raise Py4JJavaError(\n\u001b[1;32m    327\u001b[0m                     \u001b[0;34m\"An error occurred while calling {0}{1}{2}.\\n\"\u001b[0m\u001b[0;34m.\u001b[0m\u001b[0;34m\u001b[0m\u001b[0m\n\u001b[0;32m--> 328\u001b[0;31m                     format(target_id, \".\", name), value)\n\u001b[0m\u001b[1;32m    329\u001b[0m             \u001b[0;32melse\u001b[0m\u001b[0;34m:\u001b[0m\u001b[0;34m\u001b[0m\u001b[0m\n\u001b[1;32m    330\u001b[0m                 raise Py4JError(\n",
      "\u001b[0;31mPy4JJavaError\u001b[0m: An error occurred while calling o1435.saveAsTextFile.\n: org.apache.hadoop.mapred.FileAlreadyExistsException: Output directory file:/home/nineleaps/spark/test already exists\n\tat org.apache.hadoop.mapred.FileOutputFormat.checkOutputSpecs(FileOutputFormat.java:131)\n\tat org.apache.spark.internal.io.HadoopMapRedWriteConfigUtil.assertConf(SparkHadoopWriter.scala:283)\n\tat org.apache.spark.internal.io.SparkHadoopWriter$.write(SparkHadoopWriter.scala:71)\n\tat org.apache.spark.rdd.PairRDDFunctions$$anonfun$saveAsHadoopDataset$1.apply$mcV$sp(PairRDDFunctions.scala:1096)\n\tat org.apache.spark.rdd.PairRDDFunctions$$anonfun$saveAsHadoopDataset$1.apply(PairRDDFunctions.scala:1094)\n\tat org.apache.spark.rdd.PairRDDFunctions$$anonfun$saveAsHadoopDataset$1.apply(PairRDDFunctions.scala:1094)\n\tat org.apache.spark.rdd.RDDOperationScope$.withScope(RDDOperationScope.scala:151)\n\tat org.apache.spark.rdd.RDDOperationScope$.withScope(RDDOperationScope.scala:112)\n\tat org.apache.spark.rdd.RDD.withScope(RDD.scala:363)\n\tat org.apache.spark.rdd.PairRDDFunctions.saveAsHadoopDataset(PairRDDFunctions.scala:1094)\n\tat org.apache.spark.rdd.PairRDDFunctions$$anonfun$saveAsHadoopFile$4.apply$mcV$sp(PairRDDFunctions.scala:1067)\n\tat org.apache.spark.rdd.PairRDDFunctions$$anonfun$saveAsHadoopFile$4.apply(PairRDDFunctions.scala:1032)\n\tat org.apache.spark.rdd.PairRDDFunctions$$anonfun$saveAsHadoopFile$4.apply(PairRDDFunctions.scala:1032)\n\tat org.apache.spark.rdd.RDDOperationScope$.withScope(RDDOperationScope.scala:151)\n\tat org.apache.spark.rdd.RDDOperationScope$.withScope(RDDOperationScope.scala:112)\n\tat org.apache.spark.rdd.RDD.withScope(RDD.scala:363)\n\tat org.apache.spark.rdd.PairRDDFunctions.saveAsHadoopFile(PairRDDFunctions.scala:1032)\n\tat org.apache.spark.rdd.PairRDDFunctions$$anonfun$saveAsHadoopFile$1.apply$mcV$sp(PairRDDFunctions.scala:958)\n\tat org.apache.spark.rdd.PairRDDFunctions$$anonfun$saveAsHadoopFile$1.apply(PairRDDFunctions.scala:958)\n\tat org.apache.spark.rdd.PairRDDFunctions$$anonfun$saveAsHadoopFile$1.apply(PairRDDFunctions.scala:958)\n\tat org.apache.spark.rdd.RDDOperationScope$.withScope(RDDOperationScope.scala:151)\n\tat org.apache.spark.rdd.RDDOperationScope$.withScope(RDDOperationScope.scala:112)\n\tat org.apache.spark.rdd.RDD.withScope(RDD.scala:363)\n\tat org.apache.spark.rdd.PairRDDFunctions.saveAsHadoopFile(PairRDDFunctions.scala:957)\n\tat org.apache.spark.rdd.RDD$$anonfun$saveAsTextFile$1.apply$mcV$sp(RDD.scala:1493)\n\tat org.apache.spark.rdd.RDD$$anonfun$saveAsTextFile$1.apply(RDD.scala:1472)\n\tat org.apache.spark.rdd.RDD$$anonfun$saveAsTextFile$1.apply(RDD.scala:1472)\n\tat org.apache.spark.rdd.RDDOperationScope$.withScope(RDDOperationScope.scala:151)\n\tat org.apache.spark.rdd.RDDOperationScope$.withScope(RDDOperationScope.scala:112)\n\tat org.apache.spark.rdd.RDD.withScope(RDD.scala:363)\n\tat org.apache.spark.rdd.RDD.saveAsTextFile(RDD.scala:1472)\n\tat org.apache.spark.api.java.JavaRDDLike$class.saveAsTextFile(JavaRDDLike.scala:550)\n\tat org.apache.spark.api.java.AbstractJavaRDDLike.saveAsTextFile(JavaRDDLike.scala:45)\n\tat sun.reflect.NativeMethodAccessorImpl.invoke0(Native Method)\n\tat sun.reflect.NativeMethodAccessorImpl.invoke(NativeMethodAccessorImpl.java:62)\n\tat sun.reflect.DelegatingMethodAccessorImpl.invoke(DelegatingMethodAccessorImpl.java:43)\n\tat java.lang.reflect.Method.invoke(Method.java:498)\n\tat py4j.reflection.MethodInvoker.invoke(MethodInvoker.java:244)\n\tat py4j.reflection.ReflectionEngine.invoke(ReflectionEngine.java:357)\n\tat py4j.Gateway.invoke(Gateway.java:282)\n\tat py4j.commands.AbstractCommand.invokeMethod(AbstractCommand.java:132)\n\tat py4j.commands.CallCommand.execute(CallCommand.java:79)\n\tat py4j.GatewayConnection.run(GatewayConnection.java:238)\n\tat java.lang.Thread.run(Thread.java:748)\n"
     ]
    }
   ],
   "source": [
    "emp.rdd.saveAsTextFile(\"test\")"
   ]
  },
  {
   "cell_type": "code",
   "execution_count": null,
   "metadata": {},
   "outputs": [],
   "source": [
    "e_c = emp.rdd.coalesce(1)"
   ]
  },
  {
   "cell_type": "code",
   "execution_count": null,
   "metadata": {},
   "outputs": [],
   "source": [
    "e_c.toDF().write.format(\"ORC\").save(\"test2\")"
   ]
  },
  {
   "cell_type": "code",
   "execution_count": null,
   "metadata": {},
   "outputs": [],
   "source": [
    "pairs = sc.parallelize([1, 2, 3, 4, 2, 4, 1]).map(lambda x: (x, x))\n",
    "sets = pairs.partitionBy(4).collect()\n",
    "set(sets[0])"
   ]
  },
  {
   "cell_type": "code",
   "execution_count": null,
   "metadata": {},
   "outputs": [],
   "source": [
    "set(sets[0])"
   ]
  },
  {
   "cell_type": "code",
   "execution_count": null,
   "metadata": {},
   "outputs": [],
   "source": [
    "print(\"Testing: union(otherDataset)\")\n",
    "\n",
    "u01_rdd = sc.parallelize(range(1,9))\n",
    "u02_rdd = sc.parallelize(range(5,15))\n",
    "union_rdd = u01_rdd.union(u02_rdd).collect()\n",
    "\n",
    "union_rdd"
   ]
  },
  {
   "cell_type": "code",
   "execution_count": null,
   "metadata": {},
   "outputs": [],
   "source": [
    "print(\"Testing: intersection(otherDataset)\")\n",
    "\n",
    "i01_rdd = sc.parallelize(range(1,9))\n",
    "i02_rdd = sc.parallelize(range(1,15))\n",
    "intersection_rdd = i01_rdd.intersection(i02_rdd).collect()\n",
    "\n",
    "intersection_rdd"
   ]
  },
  {
   "cell_type": "code",
   "execution_count": null,
   "metadata": {},
   "outputs": [],
   "source": [
    "print(\"Testing: intersection(otherDataset)\")\n",
    "\n",
    "s01_rdd = sc.parallelize(['A', 'B'])\n",
    "s02_rdd = sc.parallelize(['B', 'C'])\n",
    "subtract_rdd = s01_rdd.subtract(s02_rdd).collect()\n",
    "\n",
    "subtract_rdd"
   ]
  },
  {
   "cell_type": "code",
   "execution_count": null,
   "metadata": {},
   "outputs": [],
   "source": [
    "# Good to understand the below scenerio\n",
    "# Say I have the data set one A,B and the dataset B,C here I want the result A,C Because I want to subtract b from both the sets.\n",
    "\n",
    "set1 = sc.parallelize(['A', 'B'])\n",
    "set2 = sc.parallelize(['B', 'C'])\n",
    "u_set = set1.union(set2) #result A,B,B,C\n",
    "i_set = set1.intersection(set2) #result B\n",
    "u_set.subtract(i_set).collect()"
   ]
  },
  {
   "cell_type": "code",
   "execution_count": null,
   "metadata": {},
   "outputs": [],
   "source": [
    "a = sc.parallelize([(1,\"sun\"),(2,\"moon\"),(3,\"mercury\")])\n",
    "\n",
    "a.collectAsMap()[2]"
   ]
  },
  {
   "cell_type": "code",
   "execution_count": null,
   "metadata": {},
   "outputs": [],
   "source": [
    "type(a)"
   ]
  },
  {
   "cell_type": "code",
   "execution_count": null,
   "metadata": {},
   "outputs": [],
   "source": [
    "# Back to Dataframe questions"
   ]
  },
  {
   "cell_type": "code",
   "execution_count": null,
   "metadata": {},
   "outputs": [],
   "source": [
    "# 211) List the empno,ename,loc,dname of all the depts.,10 and 20.\n",
    "\n",
    "emp.join(dept, \"DEPTNO\").filter(col(\"DEPTNO\").isin([10,20])).show() #filter after join\n",
    "\n",
    "emp.alias(\"e\").join(dept.alias(\"d\"), [col(\"e.DEPTNO\") == col(\"d.DEPTNO\"), col(\"e.DEPTNO\").isin([10,20])]).show()\n",
    "\n",
    "# made condition during join itself"
   ]
  },
  {
   "cell_type": "code",
   "execution_count": null,
   "metadata": {},
   "outputs": [],
   "source": [
    "# 212) List the empno, ename, sal, loc of the emps working at Chicago dallas with an\n",
    "# exp>38ys\n",
    "\n",
    "emp.join(dept, \"DEPTNO\").filter((year(current_date()) - (year(\"HIREDATE\")) > 37) & (dept.DLOC.isin([\"DALLAS\", \"CHICAGO\"]))).show()"
   ]
  },
  {
   "cell_type": "code",
   "execution_count": null,
   "metadata": {},
   "outputs": [],
   "source": [
    "# 213) List the emps along with loc of those who belongs to dallas ,newyork with sal\n",
    "# ranging from 2000 to 5000 joined in 81.\n",
    "\n",
    "emp.join(dept, \"DEPTNO\").filter((col(\"DLOC\").isin([\"DALLAS\", \"NEWYORK\"])) & (col(\"SAL\").between(2000, 5000)) & (year(\"HIREDATE\") == 1981)).show()"
   ]
  },
  {
   "cell_type": "code",
   "execution_count": null,
   "metadata": {},
   "outputs": [],
   "source": [
    "# 214) List the empno,ename,sal,grade of all emps.\n",
    "\n",
    "emp.alias(\"e\").join(sal.alias(\"s\"), col(\"e.SAL\").between(col(\"s.LOSAL\"), col(\"s.HISAL\"))).show()\n",
    "\n"
   ]
  },
  {
   "cell_type": "code",
   "execution_count": null,
   "metadata": {},
   "outputs": [],
   "source": [
    "# 215) List the grade 2 and 3 emp of Chicago.\n",
    "\n",
    "emp.alias(\"e\").join(sal.alias(\"s\"), col(\"e.SAL\").between(col(\"s.LOSAL\"), col(\"s.HISAL\")))\\\n",
    ".join(dept.alias(\"d\"), col(\"e.DEPTNO\") == col(\"d.DEPTNO\"))\\\n",
    ".filter((col(\"s.grade\").isin([2,3])) & (col(\"d.DLOC\") == \"CHICAGO\")).show()"
   ]
  },
  {
   "cell_type": "code",
   "execution_count": null,
   "metadata": {},
   "outputs": [],
   "source": [
    "# 216) List the emps with loc and grade of accounting dept or the locs dallas or\n",
    "# Chicago with the grades 3 to 5 &exp >6y\n",
    "\n",
    "\n",
    "emp.alias(\"e\").join(sal.alias(\"s\"), col(\"e.SAL\").between(col(\"s.LOSAL\"), col(\"s.HISAL\"))).join(dept.alias(\"d\"), \"DEPTNO\")\\\n",
    ".filter((col(\"d.DNAME\") == \"ACCOUNTING\") | (col(\"d.DLOC\").isin([\"DALLAS\", \"CHICAGO\"])) & (col(\"s.GRADE\").isin(3,4,5)) & ((year(current_date()) - year(\"HIREDATE\")) > 7)).show()"
   ]
  },
  {
   "cell_type": "code",
   "execution_count": null,
   "metadata": {},
   "outputs": [],
   "source": [
    "# 217) List the grades 3 emps of research and operations depts.. joined after 1987 and\n",
    "# whose names should not be either miller or allen.\n",
    "\n",
    "emp.alias(\"e\").join(sal.alias(\"s\"), col(\"e.SAL\").between(col(\"s.LOSAL\"), col(\"s.HISAL\"))).join(dept.alias(\"d\"), \"DEPTNO\")\\\n",
    ".filter((year(\"HIREDATE\") > 1987) & (~col(\"e.ENAME\").isin([\"MILLER\", \"ALLEN\"]))).show()"
   ]
  },
  {
   "cell_type": "code",
   "execution_count": null,
   "metadata": {},
   "outputs": [],
   "source": [
    "# 218) List the emps whose job is same as smith.\n",
    "\n",
    "smithJOb = emp.filter(col(\"ENAME\") == \"SMITH\").select(\"JOB\").head()[0]\n",
    "emp.filter(col(\"JOB\") == emp.filter(col(\"ENAME\") == \"SMITH\").select(\"JOB\").head()[0]).show() # wriiten like subquery in sql"
   ]
  },
  {
   "cell_type": "code",
   "execution_count": null,
   "metadata": {},
   "outputs": [],
   "source": [
    "# 219) List the emps who are senior to miller.\n",
    "\n",
    "yearOfMiller = emp.filter(col(\"ENAME\") == \"MILLER\").select(\"HIREDATE\").head()[0]\n",
    "\n",
    "emp.filter(col(\"HIREDATE\") > yearOfMiller).show()"
   ]
  },
  {
   "cell_type": "code",
   "execution_count": null,
   "metadata": {},
   "outputs": [],
   "source": [
    "# 220) List the emps whose job is same as either allen or sal>allen.\n",
    "\n",
    "\n",
    "allenJob = emp.filter(col(\"ENAME\") == \"ALLEN\").select(\"JOB\", \"SAL\").head()[0]\n",
    "allenSal = emp.filter(col(\"ENAME\") == \"ALLEN\").select(\"JOB\", \"SAL\").head()[1]\n",
    "\n",
    "emp.filter((col(\"JOB\") == allenJob) | (col(\"SAL\") > allenSal)).show()"
   ]
  },
  {
   "cell_type": "code",
   "execution_count": null,
   "metadata": {},
   "outputs": [],
   "source": [
    "# 221) List the emps who are senior to their own manager.\n",
    "\n",
    "emp.alias(\"e\").join(emp.alias(\"m\"), [col(\"e.MGR\") == col(\"m.EMPNO\"), col(\"e.HIREDATE\") < col(\"m.HIREDATE\")]).select(\"e.*\").show()"
   ]
  },
  {
   "cell_type": "code",
   "execution_count": null,
   "metadata": {},
   "outputs": [],
   "source": [
    "# 222) List the emps whose sal greater than blakes sal.\n",
    "\n",
    "blakSal = emp.filter(col(\"ENAME\") == \"BLAKE\").select(\"SAL\").head()[0]\n",
    "\n",
    "emp.filter(col(\"SAL\") > blakSal).show()"
   ]
  },
  {
   "cell_type": "code",
   "execution_count": null,
   "metadata": {},
   "outputs": [],
   "source": [
    "# 223) List the dept 10 emps whose sal>allen sal.\n",
    "\n",
    "allenSal = emp.filter(col(\"ENAME\") == \"ALLEN\").select(\"SAL\").head()[0]\n",
    "\n",
    "emp.filter((col(\"SAL\") > allenSal) & (col(\"DEPTNO\") == 10)).show()"
   ]
  },
  {
   "cell_type": "code",
   "execution_count": null,
   "metadata": {},
   "outputs": [],
   "source": [
    "# 224) List the mgrs who are senior to king and who are junior to smith.\n",
    "\n",
    "emp.alias(\"e\").join(emp.alias(\"m\"), col(\"e.MGR\") == col(\"m.EMPNO\")).\\\n",
    "filter((col(\"m.HIREDATE\") < emp.filter(col(\"ENAME\") == \"KING\").select(\"HIREDATE\").head()[0]) & \\\n",
    "       (col(\"m.HIREDATE\") > emp.filter(col(\"ENAME\") == \"SMITH\").select(\"HIREDATE\").head()[0])).select(\"m.*\").distinct().show()"
   ]
  },
  {
   "cell_type": "code",
   "execution_count": null,
   "metadata": {},
   "outputs": [],
   "source": [
    "# 225) List the empno,ename,loc,sal,dname,loc of the all the emps belonging to king\n",
    "# dept.\n",
    "\n",
    "kingDep = emp.filter(col(\"ENAME\") == \"KING\").head()[0]\n",
    "\n",
    "emp.filter(col(\"DEPTNO\") == 10).join(dept, emp.DEPTNO == dept.DEPTNO).show()"
   ]
  },
  {
   "cell_type": "code",
   "execution_count": null,
   "metadata": {},
   "outputs": [],
   "source": [
    "# 226) List the emps whose salgrade are greater than the grade of miller.\n",
    "\n",
    "gradeMill = emp.filter(col(\"ENAME\") == \"MILLER\").alias(\"e\")\\\n",
    "    .join(sal.alias(\"s\"), col(\"e.SAL\").between(col(\"s.LOSAL\"), col(\"s.HISAL\"))).select(\"s.GRADE\").head()[0]\n",
    "\n",
    "\n",
    "emp.alias(\"e\")\\\n",
    "    .join(sal.alias(\"s\"), col(\"e.SAL\").between(col(\"s.LOSAL\"), col(\"s.HISAL\"))).filter(col(\"S.GRADE\") > gradeMill).show()\n"
   ]
  },
  {
   "cell_type": "code",
   "execution_count": null,
   "metadata": {},
   "outputs": [],
   "source": [
    "# 227) List the emps who are belonging dallas or Chicago with the grade same as\n",
    "# adams or exp more than smith.\n",
    "\n",
    "all3 = emp.alias(\"e\").join(sal.alias(\"s\"), e.SAL.between(col(\"s.LOSAL\"), col(\"s.HISAL\"))).join(dept.alias(\"d\"), \"DEPTNO\")\n",
    "\n",
    "all3\\\n",
    ".filter( (col(\"DLOC\").isin([\"DALLAS\", \"CHICAGO\"])) \\\n",
    "        & (col(\"GRADE\") == all3.filter((col(\"ENAME\") == \"ADAMS\")).select(\"GRADE\").head()[0]) \\\n",
    "        | (datediff(current_date(), \"HIREDATE\") > datediff(current_date(), lit(emp.filter(col(\"ENAME\") == \"SMITH\").select(\"HIREDATE\").head()[0])))).show()"
   ]
  },
  {
   "cell_type": "code",
   "execution_count": null,
   "metadata": {},
   "outputs": [],
   "source": [
    "# 228) List the emps whose sal is same as ford or blake.\n",
    "\n",
    "fordSal = emp.filter(col(\"ENAME\") == \"FORD\").select(\"SAL\").head()[0]\n",
    "blackSal = emp.filter(col(\"ENAME\") == \"BLAKE\").select(\"SAL\").head()[0]\n",
    "\n",
    "emp.filter(col(\"SAL\").isin([fordSal, blackSal])).show()"
   ]
  },
  {
   "cell_type": "code",
   "execution_count": null,
   "metadata": {},
   "outputs": [],
   "source": [
    "# 229) List the emps whose sal is same as any one of the following.\n",
    "\n"
   ]
  },
  {
   "cell_type": "code",
   "execution_count": null,
   "metadata": {},
   "outputs": [],
   "source": [
    "# 230) Sal of any clerk of emp1 table.\n",
    "\n",
    "emp.filter(col(\"JOB\") == \"CLERK\").show()"
   ]
  },
  {
   "cell_type": "code",
   "execution_count": null,
   "metadata": {},
   "outputs": [],
   "source": [
    "# 231) Any emp of emp2 joined before 82.\n",
    "\n",
    "emp.filter(year(\"HIREDATE\") < 1982).show()"
   ]
  }
 ],
 "metadata": {
  "kernelspec": {
   "display_name": "Python 3",
   "language": "python",
   "name": "python3"
  },
  "language_info": {
   "codemirror_mode": {
    "name": "ipython",
    "version": 2
   },
   "file_extension": ".py",
   "mimetype": "text/x-python",
   "name": "python",
   "nbconvert_exporter": "python",
   "pygments_lexer": "ipython2",
   "version": "2.7.15rc1"
  }
 },
 "nbformat": 4,
 "nbformat_minor": 2
}
