{
 "cells": [
  {
   "cell_type": "code",
   "execution_count": 1,
   "metadata": {},
   "outputs": [],
   "source": [
    "from pyspark import SparkContext, SparkConf\n",
    "from pyspark.sql import SQLContext\n",
    "from pyspark import sql"
   ]
  },
  {
   "cell_type": "code",
   "execution_count": 2,
   "metadata": {},
   "outputs": [],
   "source": [
    "conf = SparkConf()\n",
    "sc = SparkContext(conf=conf)\n",
    "sqlContext = sql.SQLContext(sc)"
   ]
  },
  {
   "cell_type": "code",
   "execution_count": 3,
   "metadata": {},
   "outputs": [],
   "source": [
    "data = [1, 2, 3, 4, 5]\n",
    "distData = sc.parallelize(data)"
   ]
  },
  {
   "cell_type": "code",
   "execution_count": 4,
   "metadata": {},
   "outputs": [
    {
     "data": {
      "text/plain": [
       "pyspark.rdd.PipelinedRDD"
      ]
     },
     "execution_count": 4,
     "metadata": {},
     "output_type": "execute_result"
    }
   ],
   "source": [
    "#TRANSFORMATION: map(func)\n",
    "\n",
    "map_rdd = distData.map(lambda x: (x,1))\n",
    "map_rdd.collect()\n",
    "type(map_rdd)"
   ]
  },
  {
   "cell_type": "code",
   "execution_count": 5,
   "metadata": {},
   "outputs": [
    {
     "data": {
      "text/plain": [
       "[2]"
      ]
     },
     "execution_count": 5,
     "metadata": {},
     "output_type": "execute_result"
    }
   ],
   "source": [
    "# Filter\n",
    "\n",
    "filter_rdd = distData.filter(lambda x: x == 2)\n",
    "\n",
    "filter_rdd.collect()"
   ]
  },
  {
   "cell_type": "code",
   "execution_count": 6,
   "metadata": {},
   "outputs": [
    {
     "data": {
      "text/plain": [
       "pyspark.rdd.PipelinedRDD"
      ]
     },
     "execution_count": 6,
     "metadata": {},
     "output_type": "execute_result"
    }
   ],
   "source": [
    "# flatMap\n",
    "\n",
    "fMap_rdd = distData.flatMap(lambda x: (x,1))\n",
    "fMap_rdd.collect()\n",
    "type(fMap_rdd)"
   ]
  },
  {
   "cell_type": "code",
   "execution_count": 7,
   "metadata": {},
   "outputs": [
    {
     "data": {
      "text/plain": [
       "[1, 2, 3, 4, 5, 6, 7, 8, 1, 2, 3, 4, 5, 6, 7, 8]"
      ]
     },
     "execution_count": 7,
     "metadata": {},
     "output_type": "execute_result"
    }
   ],
   "source": [
    "#union\n",
    "\n",
    "ds1 = range(1,9)\n",
    "ds2 = range(1,9)\n",
    "u01_rdd = sc.parallelize(ds1)\n",
    "u02_rdd = sc.parallelize(ds2)\n",
    "union_rdd = u01_rdd.union(u02_rdd)\n",
    "union_rdd.collect()"
   ]
  },
  {
   "cell_type": "code",
   "execution_count": 8,
   "metadata": {},
   "outputs": [
    {
     "data": {
      "text/plain": [
       "[5, 6, 7, 8]"
      ]
     },
     "execution_count": 8,
     "metadata": {},
     "output_type": "execute_result"
    }
   ],
   "source": [
    "#Intersection\n",
    "\n",
    "ds1 = range(1,9)\n",
    "ds2 = range(5,15)\n",
    "i01_rdd = sc.parallelize(ds1)\n",
    "i02_rdd = sc.parallelize(ds2)\n",
    "intersection_rdd = i01_rdd.intersection(i02_rdd)\n",
    "intersection_rdd.collect()"
   ]
  },
  {
   "cell_type": "code",
   "execution_count": 9,
   "metadata": {},
   "outputs": [
    {
     "data": {
      "text/plain": [
       "['A']"
      ]
     },
     "execution_count": 9,
     "metadata": {},
     "output_type": "execute_result"
    }
   ],
   "source": [
    "# Subtract\n",
    "\n",
    "s01_rdd = sc.parallelize(['A', 'B'])\n",
    "s02_rdd = sc.parallelize(['B', 'C'])\n",
    "subtract_rdd = s01_rdd.subtract(s02_rdd)\n",
    "subtract_rdd.collect()"
   ]
  },
  {
   "cell_type": "code",
   "execution_count": 10,
   "metadata": {},
   "outputs": [
    {
     "data": {
      "text/plain": [
       "[1, 2, 3, 4, 5, 6, 7, 8]"
      ]
     },
     "execution_count": 10,
     "metadata": {},
     "output_type": "execute_result"
    }
   ],
   "source": [
    "# Distinct\n",
    "\n",
    "a = union_rdd.distinct()\n",
    "a.collect()"
   ]
  },
  {
   "cell_type": "code",
   "execution_count": 23,
   "metadata": {},
   "outputs": [
    {
     "data": {
      "text/plain": [
       "[('p', [7, 5]), ('k', [5, 6]), ('s', [3, 4]), ('t', [8])]"
      ]
     },
     "execution_count": 23,
     "metadata": {},
     "output_type": "execute_result"
    }
   ],
   "source": [
    "# groupByKey\n",
    "\n",
    "g_rdd = sc.parallelize([('k',5),('s',3),('s',4),('p',7),('p',5),('t',8),('k',6)])\n",
    "grp = g_rdd.groupByKey().mapValues(list)\n",
    "\n",
    "grp.collect()"
   ]
  },
  {
   "cell_type": "code",
   "execution_count": 12,
   "metadata": {},
   "outputs": [
    {
     "data": {
      "text/plain": [
       "[('p', 12), ('k', 11), ('s', 7), ('t', 8)]"
      ]
     },
     "execution_count": 12,
     "metadata": {},
     "output_type": "execute_result"
    }
   ],
   "source": [
    "# reduceByKey\n",
    "\n",
    "r_rdd = sc.parallelize([('k',5),('s',3),('s',4),('p',7),('p',5),('t',8),('k',6)])\n",
    "red = g_rdd.reduceByKey(lambda x,y: x+y)\n",
    "\n",
    "red.collect()"
   ]
  },
  {
   "cell_type": "code",
   "execution_count": 13,
   "metadata": {},
   "outputs": [
    {
     "data": {
      "text/plain": [
       "[('k', 11.0), ('p', 12.0), ('s', 7.0), ('t', 8.0)]"
      ]
     },
     "execution_count": 13,
     "metadata": {},
     "output_type": "execute_result"
    }
   ],
   "source": [
    "# aggregateByKey\n",
    "\n",
    "a_rdd = sc.parallelize([('k',5),('s',3),('s',4),('p',7),('p',5),('t',8),('k',6)])\n",
    "agg = g_rdd.aggregateByKey(0.0, lambda k,v: v+k, lambda k,v: v+k).sortByKey()\n",
    "\n",
    "agg.collect()"
   ]
  },
  {
   "cell_type": "code",
   "execution_count": 14,
   "metadata": {},
   "outputs": [
    {
     "data": {
      "text/plain": [
       "[('A', (1, 4)), ('A', (1, 6)), ('b', (2, 7)), ('c', (3, 3)), ('c', (3, 8))]"
      ]
     },
     "execution_count": 14,
     "metadata": {},
     "output_type": "execute_result"
    }
   ],
   "source": [
    "# Join\n",
    "\n",
    "# When called on datasets of type (K, V) and (K, W), returns a dataset of (K, (V, W))\n",
    "\n",
    "j01_data = sc.parallelize([('A',1),('b',2),('c',3)])\n",
    "j02_data = sc.parallelize([('A',4),('A',6),('b',7),('c',3),('c',8)])\n",
    "join_rdd = j01_data.join(j02_data)\n",
    "\n",
    "sorted(join_rdd.collect())"
   ]
  },
  {
   "cell_type": "code",
   "execution_count": 33,
   "metadata": {},
   "outputs": [
    {
     "data": {
      "text/plain": [
       "[('A',\n",
       "  (<pyspark.resultiterable.ResultIterable at 0x7fbe0054c650>,\n",
       "   <pyspark.resultiterable.ResultIterable at 0x7fbe0066eed0>)),\n",
       " ('c',\n",
       "  (<pyspark.resultiterable.ResultIterable at 0x7fbe0066e350>,\n",
       "   <pyspark.resultiterable.ResultIterable at 0x7fbe00660ad0>)),\n",
       " ('b',\n",
       "  (<pyspark.resultiterable.ResultIterable at 0x7fbe00660e50>,\n",
       "   <pyspark.resultiterable.ResultIterable at 0x7fbe0062f2d0>))]"
      ]
     },
     "execution_count": 33,
     "metadata": {},
     "output_type": "execute_result"
    }
   ],
   "source": [
    "# cogroup\n",
    "\n",
    "#  When called on datasets of type (K, V) and (K, W), returns a dataset of (K, (Iterable<V>, Iterable<W>)) tuples\n",
    "\n",
    "c01_data = sc.parallelize([('A',1),('b',2),('c',3)])\n",
    "c02_data = sc.parallelize([('A',4),('A',6),('b',7),('c',3),('c',8)])\n",
    "cgrp_rdd = c01_data.cogroup(c02_data)\n",
    "\n",
    "cgrp_rdd.collect()\n"
   ]
  },
  {
   "cell_type": "code",
   "execution_count": 16,
   "metadata": {},
   "outputs": [
    {
     "name": "stdout",
     "output_type": "stream",
     "text": [
      "3\n",
      "2\n"
     ]
    }
   ],
   "source": [
    "#coalesce\n",
    "\n",
    "c_rdd = sc.parallelize([\"jan\",\"feb\",\"mar\",\"april\",\"may\",\"jun\"],3)\n",
    "coalesce_rdd = c_rdd.coalesce(2)\n",
    "\n",
    "print(c_rdd.getNumPartitions())\n",
    "print(coalesce_rdd.getNumPartitions())\n"
   ]
  },
  {
   "cell_type": "code",
   "execution_count": 17,
   "metadata": {},
   "outputs": [
    {
     "data": {
      "text/plain": [
       "5"
      ]
     },
     "execution_count": 17,
     "metadata": {},
     "output_type": "execute_result"
    }
   ],
   "source": [
    "#repartition\n",
    "\n",
    "repartition_rdd = c_rdd.repartition(5)\n",
    "\n",
    "repartition_rdd.getNumPartitions()"
   ]
  },
  {
   "cell_type": "code",
   "execution_count": 18,
   "metadata": {},
   "outputs": [
    {
     "data": {
      "text/plain": [
       "['Sales', 'Engineering']"
      ]
     },
     "execution_count": 18,
     "metadata": {},
     "output_type": "execute_result"
    }
   ],
   "source": [
    "rdd = sc.parallelize([(31, \"Sales\"), (33, \"Engineering\")])\n",
    "\n",
    "rdd.map(lambda x: x[1]).collect()\n",
    "#df = rdd.toDF(['ID', 'DEPT'])"
   ]
  },
  {
   "cell_type": "code",
   "execution_count": null,
   "metadata": {},
   "outputs": [],
   "source": []
  },
  {
   "cell_type": "code",
   "execution_count": null,
   "metadata": {},
   "outputs": [],
   "source": []
  }
 ],
 "metadata": {
  "kernelspec": {
   "display_name": "Python 3",
   "language": "python",
   "name": "python3"
  },
  "language_info": {
   "codemirror_mode": {
    "name": "ipython",
    "version": 2
   },
   "file_extension": ".py",
   "mimetype": "text/x-python",
   "name": "python",
   "nbconvert_exporter": "python",
   "pygments_lexer": "ipython2",
   "version": "2.7.15rc1"
  }
 },
 "nbformat": 4,
 "nbformat_minor": 2
}
