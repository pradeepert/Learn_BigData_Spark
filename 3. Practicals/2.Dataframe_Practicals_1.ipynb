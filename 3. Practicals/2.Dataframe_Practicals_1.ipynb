{
 "cells": [
  {
   "cell_type": "code",
   "execution_count": 1,
   "metadata": {},
   "outputs": [],
   "source": [
    "from pyspark import SparkContext, SparkConf\n",
    "from pyspark import sql\n",
    "from pyspark.sql import Row                       # To use Row method for column\n",
    "#from pyspark.sql import functions as F\n",
    "from pyspark.sql.functions import *\n",
    "from pyspark.sql.types import *\n",
    "from pyspark.sql import Window"
   ]
  },
  {
   "cell_type": "code",
   "execution_count": 2,
   "metadata": {},
   "outputs": [],
   "source": [
    "conf = SparkConf().set(\"spark.executor.memory\", \"4g\")\n",
    "sc = SparkContext(conf=conf)\n",
    "sqlContext = sql.SQLContext(sc)"
   ]
  },
  {
   "cell_type": "code",
   "execution_count": 3,
   "metadata": {},
   "outputs": [
    {
     "data": {
      "text/plain": [
       "<pyspark.conf.SparkConf at 0x7f255624fad0>"
      ]
     },
     "execution_count": 3,
     "metadata": {},
     "output_type": "execute_result"
    }
   ],
   "source": [
    "sc._conf.set(\"spark.driver.memory\",\"3\")\n",
    "sc._conf.set(\"spark.sql.crossJoin.enabled\", \"true\")"
   ]
  },
  {
   "cell_type": "code",
   "execution_count": 4,
   "metadata": {},
   "outputs": [
    {
     "data": {
      "text/plain": [
       "[(u'spark.driver.port', u'35939'),\n",
       " (u'spark.sql.crossJoin.enabled', u'true'),\n",
       " (u'spark.driver.host', u'192.168.0.42'),\n",
       " (u'spark.rdd.compress', u'True'),\n",
       " (u'spark.executor.memory', u'4g'),\n",
       " (u'spark.serializer.objectStreamReset', u'100'),\n",
       " (u'spark.master', u'local[*]'),\n",
       " (u'spark.driver.memory', u'3'),\n",
       " (u'spark.executor.id', u'driver'),\n",
       " (u'spark.submit.deployMode', u'client'),\n",
       " (u'spark.app.id', u'local-1543916372737'),\n",
       " (u'spark.ui.showConsoleProgress', u'true'),\n",
       " (u'spark.app.name', u'pyspark-shell')]"
      ]
     },
     "execution_count": 4,
     "metadata": {},
     "output_type": "execute_result"
    }
   ],
   "source": [
    "sc._conf.getAll()"
   ]
  },
  {
   "cell_type": "code",
   "execution_count": 5,
   "metadata": {},
   "outputs": [
    {
     "data": {
      "text/plain": [
       "u'client'"
      ]
     },
     "execution_count": 5,
     "metadata": {},
     "output_type": "execute_result"
    }
   ],
   "source": [
    "sc._conf.get(\"spark.submit.deployMode\")"
   ]
  },
  {
   "cell_type": "code",
   "execution_count": 6,
   "metadata": {},
   "outputs": [
    {
     "data": {
      "text/plain": [
       "{1: 2, 3: 4}"
      ]
     },
     "execution_count": 6,
     "metadata": {},
     "output_type": "execute_result"
    }
   ],
   "source": [
    "m = sc.parallelize([(1, 2), (3, 4)]).collectAsMap()\n",
    "\n",
    "m"
   ]
  },
  {
   "cell_type": "code",
   "execution_count": 7,
   "metadata": {},
   "outputs": [
    {
     "name": "stdout",
     "output_type": "stream",
     "text": [
      "+---+----------------+\n",
      "| C1|            C2C3|\n",
      "+---+----------------+\n",
      "|  A|[1 -> 1, 2 -> 1]|\n",
      "|  C|[1 -> 5, 2 -> 3]|\n",
      "|  B|[1 -> 2, 2 -> 5]|\n",
      "|  D|        [2 -> 1]|\n",
      "+---+----------------+\n",
      "\n"
     ]
    }
   ],
   "source": [
    "#Tricky RDD Example with dict type\n",
    "\n",
    "sam = sc.parallelize((['A',1,1],['B',1,2],['C',1,5],['D',2,3],['A',2,1],['B',2,5],['C',2,3],['D',2,1]))\n",
    "\n",
    "df_sample = sqlContext.createDataFrame(sam, ['C1','C2','C3'])\n",
    "\n",
    "sa = df_sample.rdd\n",
    "\n",
    "sa1 = sa.map(lambda x: (x[0],(x[1],x[2])))\n",
    "\n",
    "sa1.collect()\n",
    "\n",
    "sa2 = sa1.groupByKey().map(lambda x : (x[0], dict(list(x[1]))))\n",
    "\n",
    "sa3 = sqlContext.createDataFrame(sa2, ['C1', 'C2C3'])\n",
    "\n",
    "sa3.show()"
   ]
  },
  {
   "cell_type": "code",
   "execution_count": 8,
   "metadata": {},
   "outputs": [
    {
     "name": "stdout",
     "output_type": "stream",
     "text": [
      "5\n"
     ]
    },
    {
     "data": {
      "text/plain": [
       "[(1, 2), (2, 5)]"
      ]
     },
     "execution_count": 8,
     "metadata": {},
     "output_type": "execute_result"
    }
   ],
   "source": [
    "sam = sc.parallelize((['A',1,1],['B',1,2],['C',1,5],['D',2,3],['A',2,1],['B',2,5],['C',2,3],['D',2,1]))\n",
    "\n",
    "df_sample = sqlContext.createDataFrame(sam, ['C1','C2','C3'])\n",
    "\n",
    "sa = df_sample.rdd\n",
    "\n",
    "a = sa.filter(lambda x: 'B' in x[0]).map(lambda x: ((x[1]), (x[2])))\n",
    "\n",
    "print(a.collectAsMap()[2])\n",
    "\n",
    "a.collect()"
   ]
  },
  {
   "cell_type": "code",
   "execution_count": 9,
   "metadata": {},
   "outputs": [],
   "source": [
    "empRDD = sc.textFile(\"emp.txt\")\n",
    "depRDD = sc.textFile(\"dept.txt\")\n",
    "salRDD = sc.textFile(\"salgrade.txt\")"
   ]
  },
  {
   "cell_type": "code",
   "execution_count": 10,
   "metadata": {},
   "outputs": [],
   "source": [
    "emp_col = Row('EMPNO', 'ENAME', 'JOB', 'MGR', 'HIREDATE', 'SAL', 'COMM', 'DEPTNO')\n",
    "dep_col = Row('DEPTNO', 'DNAME', 'DLOC')\n",
    "sal_col = Row('GRADE', 'LOSAL', 'HISAL')"
   ]
  },
  {
   "cell_type": "code",
   "execution_count": 11,
   "metadata": {},
   "outputs": [],
   "source": [
    "empROW = empRDD.map(lambda x: x.split(',')).map(lambda r: emp_col(*r))\n",
    "depRow = depRDD.map(lambda x: x.split(',')).map(lambda r: dep_col(*r))\n",
    "salROW = salRDD.map(lambda x: x.split(',')).map(lambda r: sal_col(*r))"
   ]
  },
  {
   "cell_type": "code",
   "execution_count": 12,
   "metadata": {},
   "outputs": [],
   "source": [
    "empDF = sqlContext.createDataFrame(empROW)\n",
    "depDF = sqlContext.createDataFrame(depRow)\n",
    "salDF = sqlContext.createDataFrame(salROW)"
   ]
  },
  {
   "cell_type": "code",
   "execution_count": 13,
   "metadata": {},
   "outputs": [],
   "source": [
    "# Converting Dataframe values to it types\n",
    "\n",
    "def toInt(i):\n",
    "    return i.cast(\"integer\")\n",
    "\n",
    "def toDouble(d):\n",
    "    return d.cast(\"double\")\n",
    "\n",
    "emp = empDF.withColumn(\"EMPNO\", toInt(empDF.EMPNO)).withColumn(\"MGR\", toInt(empDF.MGR)).withColumn(\"HIREDATE\",to_date('HIREDATE')).withColumn(\"SAL\", toDouble(empDF.SAL)).withColumn('COMM', when(empDF.COMM == 'NULL', lit(None)).otherwise(empDF.COMM)).withColumn(\"DEPTNO\", toInt(empDF.DEPTNO)).filter('ENAME != \"ENAME\"')\n",
    "dept = depDF.withColumn(\"DEPTNO\", toInt(depDF.DEPTNO)).na.drop()\n",
    "sal = salDF.withColumn(\"GRADE\", toInt(salDF.GRADE)).withColumn(\"LOSAL\", toDouble(salDF.LOSAL)).withColumn(\"HISAL\", toDouble(salDF.HISAL)).na.drop()\n",
    "\n",
    "sqlContext.registerDataFrameAsTable(emp, \"emptab\")\n",
    "sqlContext.registerDataFrameAsTable(dept, \"depttab\")\n",
    "sqlContext.registerDataFrameAsTable(sal, \"saltab\")\n"
   ]
  },
  {
   "cell_type": "code",
   "execution_count": 14,
   "metadata": {},
   "outputs": [],
   "source": [
    "#Assignment to Practice dataframe"
   ]
  },
  {
   "cell_type": "code",
   "execution_count": 15,
   "metadata": {},
   "outputs": [
    {
     "name": "stdout",
     "output_type": "stream",
     "text": [
      "+-----+------+---------+----+----------+------+-------+------+\n",
      "|EMPNO| ENAME|      JOB| MGR|  HIREDATE|   SAL|   COMM|DEPTNO|\n",
      "+-----+------+---------+----+----------+------+-------+------+\n",
      "| 7369| SMITH|    CLERK|7902|1980-12-17| 800.0|   null|    20|\n",
      "| 7499| ALLEN| SALESMAN|7698|1981-02-20|1600.0| 300.00|    30|\n",
      "| 7521|  WARD| SALESMAN|7698|1981-02-22|1250.0| 500.00|    30|\n",
      "| 7566| JONES|  MANAGER|7839|1981-04-02|2975.0|   null|    20|\n",
      "| 7654|MARTIN| SALESMAN|7698|1981-09-28|1250.0|1400.00|    30|\n",
      "| 7698| BLAKE|  MANAGER|7839|1981-05-01|2850.0|   null|    30|\n",
      "| 7782| CLARK|  MANAGER|7839|1981-06-09|2450.0|   null|    10|\n",
      "| 7788| SCOTT|  ANALYST|7566|1982-12-09|3000.0|   null|    20|\n",
      "| 7839|  KING|PRESIDENT|null|1981-11-17|5000.0|   null|    10|\n",
      "| 7844|TURNER| SALESMAN|7698|1981-09-08|1500.0|   0.00|    30|\n",
      "| 7876| ADAMS|    CLERK|7788|1983-01-12|1100.0|   null|    20|\n",
      "| 7900| JAMES|    CLERK|7698|1981-12-03| 950.0|   null|    30|\n",
      "| 7902|  FORD|  ANALYST|7566|1981-12-03|3000.0|   null|    20|\n",
      "| 7934|MILLER|    CLERK|7782|1982-01-23|1300.0|   null|    10|\n",
      "+-----+------+---------+----+----------+------+-------+------+\n",
      "\n",
      "+------+----------+--------+\n",
      "|DEPTNO|     DNAME|    DLOC|\n",
      "+------+----------+--------+\n",
      "|    10|ACCOUNTING|NEW YORK|\n",
      "|    20|  RESEARCH|  DALLAS|\n",
      "|    30|     SALES| CHICAGO|\n",
      "|    40|OPERATIONS|  BOSTON|\n",
      "+------+----------+--------+\n",
      "\n",
      "+-----+------+------+\n",
      "|GRADE| LOSAL| HISAL|\n",
      "+-----+------+------+\n",
      "|    1| 700.0|1200.0|\n",
      "|    2|1201.0|1400.0|\n",
      "|    3|1401.0|2000.0|\n",
      "|    4|2001.0|3000.0|\n",
      "|    5|3001.0|9999.0|\n",
      "+-----+------+------+\n",
      "\n"
     ]
    }
   ],
   "source": [
    "# 1) Display all the information of the emp,dept,sal table?\n",
    "\n",
    "emp.select('*').show()\n",
    "dept.select('*').show()\n",
    "sal.select('*').show()"
   ]
  },
  {
   "cell_type": "code",
   "execution_count": 16,
   "metadata": {},
   "outputs": [
    {
     "name": "stdout",
     "output_type": "stream",
     "text": [
      "+---------+\n",
      "|      JOB|\n",
      "+---------+\n",
      "|  ANALYST|\n",
      "| SALESMAN|\n",
      "|    CLERK|\n",
      "|  MANAGER|\n",
      "|PRESIDENT|\n",
      "+---------+\n",
      "\n"
     ]
    }
   ],
   "source": [
    "# 2. Display unique Jobs from EMP table?\n",
    "\n",
    "emp.select(\"JOB\").distinct().show()"
   ]
  },
  {
   "cell_type": "code",
   "execution_count": 17,
   "metadata": {},
   "outputs": [
    {
     "name": "stdout",
     "output_type": "stream",
     "text": [
      "+-----+------+---------+----+----------+------+-------+------+\n",
      "|EMPNO| ENAME|      JOB| MGR|  HIREDATE|   SAL|   COMM|DEPTNO|\n",
      "+-----+------+---------+----+----------+------+-------+------+\n",
      "| 7369| SMITH|    CLERK|7902|1980-12-17| 800.0|   null|    20|\n",
      "| 7900| JAMES|    CLERK|7698|1981-12-03| 950.0|   null|    30|\n",
      "| 7876| ADAMS|    CLERK|7788|1983-01-12|1100.0|   null|    20|\n",
      "| 7521|  WARD| SALESMAN|7698|1981-02-22|1250.0| 500.00|    30|\n",
      "| 7654|MARTIN| SALESMAN|7698|1981-09-28|1250.0|1400.00|    30|\n",
      "| 7934|MILLER|    CLERK|7782|1982-01-23|1300.0|   null|    10|\n",
      "| 7844|TURNER| SALESMAN|7698|1981-09-08|1500.0|   0.00|    30|\n",
      "| 7499| ALLEN| SALESMAN|7698|1981-02-20|1600.0| 300.00|    30|\n",
      "| 7782| CLARK|  MANAGER|7839|1981-06-09|2450.0|   null|    10|\n",
      "| 7698| BLAKE|  MANAGER|7839|1981-05-01|2850.0|   null|    30|\n",
      "| 7566| JONES|  MANAGER|7839|1981-04-02|2975.0|   null|    20|\n",
      "| 7788| SCOTT|  ANALYST|7566|1982-12-09|3000.0|   null|    20|\n",
      "| 7902|  FORD|  ANALYST|7566|1981-12-03|3000.0|   null|    20|\n",
      "| 7839|  KING|PRESIDENT|null|1981-11-17|5000.0|   null|    10|\n",
      "+-----+------+---------+----+----------+------+-------+------+\n",
      "\n"
     ]
    }
   ],
   "source": [
    "# 3. List the emps in the asc order of their Salaries?\n",
    "\n",
    "emp.sort(asc('SAL')).show()"
   ]
  },
  {
   "cell_type": "code",
   "execution_count": 18,
   "metadata": {},
   "outputs": [
    {
     "name": "stdout",
     "output_type": "stream",
     "text": [
      "+-----+------+---------+----+----------+------+-------+------+\n",
      "|EMPNO| ENAME|      JOB| MGR|  HIREDATE|   SAL|   COMM|DEPTNO|\n",
      "+-----+------+---------+----+----------+------+-------+------+\n",
      "| 7839|  KING|PRESIDENT|null|1981-11-17|5000.0|   null|    10|\n",
      "| 7782| CLARK|  MANAGER|7839|1981-06-09|2450.0|   null|    10|\n",
      "| 7934|MILLER|    CLERK|7782|1982-01-23|1300.0|   null|    10|\n",
      "| 7566| JONES|  MANAGER|7839|1981-04-02|2975.0|   null|    20|\n",
      "| 7369| SMITH|    CLERK|7902|1980-12-17| 800.0|   null|    20|\n",
      "| 7876| ADAMS|    CLERK|7788|1983-01-12|1100.0|   null|    20|\n",
      "| 7902|  FORD|  ANALYST|7566|1981-12-03|3000.0|   null|    20|\n",
      "| 7788| SCOTT|  ANALYST|7566|1982-12-09|3000.0|   null|    20|\n",
      "| 7844|TURNER| SALESMAN|7698|1981-09-08|1500.0|   0.00|    30|\n",
      "| 7521|  WARD| SALESMAN|7698|1981-02-22|1250.0| 500.00|    30|\n",
      "| 7499| ALLEN| SALESMAN|7698|1981-02-20|1600.0| 300.00|    30|\n",
      "| 7654|MARTIN| SALESMAN|7698|1981-09-28|1250.0|1400.00|    30|\n",
      "| 7698| BLAKE|  MANAGER|7839|1981-05-01|2850.0|   null|    30|\n",
      "| 7900| JAMES|    CLERK|7698|1981-12-03| 950.0|   null|    30|\n",
      "+-----+------+---------+----+----------+------+-------+------+\n",
      "\n"
     ]
    }
   ],
   "source": [
    "# 4. List the details of the emps in asc order of the Dptnos and desc of Jobs?\n",
    "\n",
    "emp.sort(asc('DEPTNO'),desc('JOB')).show()"
   ]
  },
  {
   "cell_type": "code",
   "execution_count": 19,
   "metadata": {},
   "outputs": [
    {
     "name": "stdout",
     "output_type": "stream",
     "text": [
      "+---------+\n",
      "|      JOB|\n",
      "+---------+\n",
      "| SALESMAN|\n",
      "|PRESIDENT|\n",
      "|  MANAGER|\n",
      "|    CLERK|\n",
      "|  ANALYST|\n",
      "+---------+\n",
      "\n"
     ]
    }
   ],
   "source": [
    "# 5. Display all the unique job groups in the descending order?\n",
    "\n",
    "emp.select(\"JOB\").sort(desc(\"JOB\")).distinct().show()\n"
   ]
  },
  {
   "cell_type": "code",
   "execution_count": 20,
   "metadata": {},
   "outputs": [
    {
     "name": "stdout",
     "output_type": "stream",
     "text": [
      "+-----+-----+---------+----+----------+------+----+------+\n",
      "|EMPNO|ENAME|      JOB| MGR|  HIREDATE|   SAL|COMM|DEPTNO|\n",
      "+-----+-----+---------+----+----------+------+----+------+\n",
      "| 7788|SCOTT|  ANALYST|7566|1982-12-09|3000.0|null|    20|\n",
      "| 7902| FORD|  ANALYST|7566|1981-12-03|3000.0|null|    20|\n",
      "| 7566|JONES|  MANAGER|7839|1981-04-02|2975.0|null|    20|\n",
      "| 7698|BLAKE|  MANAGER|7839|1981-05-01|2850.0|null|    30|\n",
      "| 7839| KING|PRESIDENT|null|1981-11-17|5000.0|null|    10|\n",
      "| 7782|CLARK|  MANAGER|7839|1981-06-09|2450.0|null|    10|\n",
      "+-----+-----+---------+----+----------+------+----+------+\n",
      "\n"
     ]
    }
   ],
   "source": [
    "sqlContext.registerDataFrameAsTable(emp, \"empTab\")\n",
    "\n",
    "sqlContext.sql(\"Select * from emptab where EMPNO in (select MGR from emptab)\").show()"
   ]
  },
  {
   "cell_type": "code",
   "execution_count": 21,
   "metadata": {},
   "outputs": [
    {
     "name": "stdout",
     "output_type": "stream",
     "text": [
      "+-----+-----+---------+----+----------+------+----+------+\n",
      "|EMPNO|ENAME|      JOB| MGR|  HIREDATE|   SAL|COMM|DEPTNO|\n",
      "+-----+-----+---------+----+----------+------+----+------+\n",
      "| 7566|JONES|  MANAGER|7839|1981-04-02|2975.0|null|    20|\n",
      "| 7698|BLAKE|  MANAGER|7839|1981-05-01|2850.0|null|    30|\n",
      "| 7782|CLARK|  MANAGER|7839|1981-06-09|2450.0|null|    10|\n",
      "| 7788|SCOTT|  ANALYST|7566|1982-12-09|3000.0|null|    20|\n",
      "| 7839| KING|PRESIDENT|null|1981-11-17|5000.0|null|    10|\n",
      "| 7902| FORD|  ANALYST|7566|1981-12-03|3000.0|null|    20|\n",
      "+-----+-----+---------+----+----------+------+----+------+\n",
      "\n"
     ]
    }
   ],
   "source": [
    "# 6. Display all the details of all ‘Mgrs’\n",
    "\n",
    "mgrId = emp.select(\"MGR\").distinct()\n",
    "\n",
    "mgrIDL = mgrId.rdd.map(lambda x: x[0]).collect()  # x[0]: first column, collect will return []\n",
    "\n",
    "mgrDet = emp.filter(emp.EMPNO.isin(mgrIDL)) #passing mgrIDL-list inside to filter\n",
    "\n",
    "mgrDet.show()"
   ]
  },
  {
   "cell_type": "code",
   "execution_count": 22,
   "metadata": {},
   "outputs": [
    {
     "name": "stdout",
     "output_type": "stream",
     "text": [
      "+-----+-----+-----+----+----------+-----+----+------+\n",
      "|EMPNO|ENAME|  JOB| MGR|  HIREDATE|  SAL|COMM|DEPTNO|\n",
      "+-----+-----+-----+----+----------+-----+----+------+\n",
      "| 7369|SMITH|CLERK|7902|1980-12-17|800.0|null|    20|\n",
      "+-----+-----+-----+----+----------+-----+----+------+\n",
      "\n"
     ]
    }
   ],
   "source": [
    "# 7. List the emps who joined before 1981.\n",
    "\n",
    "emp.filter(year('HIREDATE') < '1981').show()"
   ]
  },
  {
   "cell_type": "code",
   "execution_count": 23,
   "metadata": {},
   "outputs": [
    {
     "name": "stdout",
     "output_type": "stream",
     "text": [
      "+-----+\n",
      "|ENAME|\n",
      "+-----+\n",
      "| KING|\n",
      "+-----+\n",
      "\n"
     ]
    }
   ],
   "source": [
    "#Find the name of the highest paied employee\n",
    "\n",
    "a = emp.withColumn(\"rank\", dense_rank().over(Window.orderBy(desc(\"SAL\"))))\n",
    "\n",
    "b = a.filter('rank = 1').select('ENAME').show()"
   ]
  },
  {
   "cell_type": "code",
   "execution_count": 24,
   "metadata": {},
   "outputs": [
    {
     "name": "stdout",
     "output_type": "stream",
     "text": [
      "+-----+------+---------+----+----------+------+-------+------+------------------+-------+\n",
      "|EMPNO| ENAME|      JOB| MGR|  HIREDATE|   SAL|   COMM|DEPTNO|              dSAL|   aSal|\n",
      "+-----+------+---------+----+----------+------+-------+------+------------------+-------+\n",
      "| 7369| SMITH|    CLERK|7902|1980-12-17| 800.0|   null|    20|26.666666666666668| 9600.0|\n",
      "| 7900| JAMES|    CLERK|7698|1981-12-03| 950.0|   null|    30|31.666666666666668|11400.0|\n",
      "| 7876| ADAMS|    CLERK|7788|1983-01-12|1100.0|   null|    20|36.666666666666664|13200.0|\n",
      "| 7521|  WARD| SALESMAN|7698|1981-02-22|1250.0| 500.00|    30|41.666666666666664|15000.0|\n",
      "| 7654|MARTIN| SALESMAN|7698|1981-09-28|1250.0|1400.00|    30|41.666666666666664|15000.0|\n",
      "| 7934|MILLER|    CLERK|7782|1982-01-23|1300.0|   null|    10|43.333333333333336|15600.0|\n",
      "| 7844|TURNER| SALESMAN|7698|1981-09-08|1500.0|   0.00|    30|              50.0|18000.0|\n",
      "| 7499| ALLEN| SALESMAN|7698|1981-02-20|1600.0| 300.00|    30|53.333333333333336|19200.0|\n",
      "| 7782| CLARK|  MANAGER|7839|1981-06-09|2450.0|   null|    10| 81.66666666666667|29400.0|\n",
      "| 7698| BLAKE|  MANAGER|7839|1981-05-01|2850.0|   null|    30|              95.0|34200.0|\n",
      "| 7566| JONES|  MANAGER|7839|1981-04-02|2975.0|   null|    20| 99.16666666666667|35700.0|\n",
      "| 7788| SCOTT|  ANALYST|7566|1982-12-09|3000.0|   null|    20|             100.0|36000.0|\n",
      "| 7902|  FORD|  ANALYST|7566|1981-12-03|3000.0|   null|    20|             100.0|36000.0|\n",
      "| 7839|  KING|PRESIDENT|null|1981-11-17|5000.0|   null|    10|166.66666666666666|60000.0|\n",
      "+-----+------+---------+----+----------+------+-------+------+------------------+-------+\n",
      "\n"
     ]
    }
   ],
   "source": [
    "#8. List the Empno, Ename, Sal, Daily sal of all emps in the asc order of Annsal.\n",
    "\n",
    "wid_dS = emp.withColumn(\"dSAL\", emp.SAL/30).withColumn(\"aSal\", emp.SAL*12) #with daily salary\n",
    "\n",
    "wid_dS.sort(asc('aSal')).show() #wid_asc\n",
    "\n"
   ]
  },
  {
   "cell_type": "code",
   "execution_count": 25,
   "metadata": {},
   "outputs": [
    {
     "name": "stdout",
     "output_type": "stream",
     "text": [
      "+-----+-----+---------+----+----------+------+----+------+---+\n",
      "|EMPNO|ENAME|      JOB| MGR|  HIREDATE|   SAL|COMM|DEPTNO|EXP|\n",
      "+-----+-----+---------+----+----------+------+----+------+---+\n",
      "| 7566|JONES|  MANAGER|7839|1981-04-02|2975.0|null|    20| 37|\n",
      "| 7698|BLAKE|  MANAGER|7839|1981-05-01|2850.0|null|    30| 37|\n",
      "| 7782|CLARK|  MANAGER|7839|1981-06-09|2450.0|null|    10| 37|\n",
      "| 7788|SCOTT|  ANALYST|7566|1982-12-09|3000.0|null|    20| 36|\n",
      "| 7839| KING|PRESIDENT|null|1981-11-17|5000.0|null|    10| 37|\n",
      "| 7902| FORD|  ANALYST|7566|1981-12-03|3000.0|null|    20| 37|\n",
      "+-----+-----+---------+----+----------+------+----+------+---+\n",
      "\n"
     ]
    }
   ],
   "source": [
    "# 9. Display the Empno, Ename, job, Hiredate, Exp of all Mgrs\n",
    "\n",
    "mgrDet.withColumn(\"EXP\", year(current_date()) - year(\"HIREDATE\")).show()"
   ]
  },
  {
   "cell_type": "code",
   "execution_count": 26,
   "metadata": {},
   "outputs": [
    {
     "name": "stdout",
     "output_type": "stream",
     "text": [
      "+-----+-----+-------+----+----------+------+----+------+---+\n",
      "|EMPNO|ENAME|    JOB| MGR|  HIREDATE|   SAL|COMM|DEPTNO|EXP|\n",
      "+-----+-----+-------+----+----------+------+----+------+---+\n",
      "| 7566|JONES|MANAGER|7839|1981-04-02|2975.0|null|    20| 37|\n",
      "| 7698|BLAKE|MANAGER|7839|1981-05-01|2850.0|null|    30| 37|\n",
      "| 7782|CLARK|MANAGER|7839|1981-06-09|2450.0|null|    10| 37|\n",
      "+-----+-----+-------+----+----------+------+----+------+---+\n",
      "\n"
     ]
    }
   ],
   "source": [
    "# 10.List the Empno, Ename, Sal, Exp of all emps working for Mgr 7839.\n",
    "\n",
    "emp.filter('MGR = 7839').withColumn(\"EXP\", year(current_date()) - year(\"HIREDATE\")).show()\n"
   ]
  },
  {
   "cell_type": "code",
   "execution_count": 27,
   "metadata": {},
   "outputs": [
    {
     "name": "stdout",
     "output_type": "stream",
     "text": [
      "+-----+------+--------+----+----------+------+-------+------+\n",
      "|EMPNO| ENAME|     JOB| MGR|  HIREDATE|   SAL|   COMM|DEPTNO|\n",
      "+-----+------+--------+----+----------+------+-------+------+\n",
      "| 7654|MARTIN|SALESMAN|7698|1981-09-28|1250.0|1400.00|    30|\n",
      "+-----+------+--------+----+----------+------+-------+------+\n",
      "\n"
     ]
    }
   ],
   "source": [
    "# 11.Display all the details of the emps whose Comm. Is more than their Sal.\n",
    "\n",
    "emp.filter('COMM > SAL').show()"
   ]
  },
  {
   "cell_type": "code",
   "execution_count": 28,
   "metadata": {},
   "outputs": [
    {
     "name": "stdout",
     "output_type": "stream",
     "text": [
      "+-----+------+---------+----+----------+------+-------+------+\n",
      "|EMPNO| ENAME|      JOB| MGR|  HIREDATE|   SAL|   COMM|DEPTNO|\n",
      "+-----+------+---------+----+----------+------+-------+------+\n",
      "| 7902|  FORD|  ANALYST|7566|1981-12-03|3000.0|   null|    20|\n",
      "| 7900| JAMES|    CLERK|7698|1981-12-03| 950.0|   null|    30|\n",
      "| 7782| CLARK|  MANAGER|7839|1981-06-09|2450.0|   null|    10|\n",
      "| 7839|  KING|PRESIDENT|null|1981-11-17|5000.0|   null|    10|\n",
      "| 7654|MARTIN| SALESMAN|7698|1981-09-28|1250.0|1400.00|    30|\n",
      "| 7844|TURNER| SALESMAN|7698|1981-09-08|1500.0|   0.00|    30|\n",
      "+-----+------+---------+----+----------+------+-------+------+\n",
      "\n"
     ]
    }
   ],
   "source": [
    "# 12. List the emps in the asc order of Designations of those joined after the second half of 1981.\n",
    "\n",
    "# emp.filter(col(\"HIREDATE\") > '1981-06-01').filter(year(col(\"HIREDATE\")) == 1981).sort(asc('JOB')).show()\n",
    "\n",
    "\n",
    "emp.filter(col(\"HIREDATE\") > '1981-06-01').filter(year(col(\"HIREDATE\")) == 1981).sort(asc('JOB')).show()"
   ]
  },
  {
   "cell_type": "code",
   "execution_count": 29,
   "metadata": {},
   "outputs": [
    {
     "name": "stdout",
     "output_type": "stream",
     "text": [
      "+-----+------+---------+----+----------+------+-------+------+---+------------------+\n",
      "|EMPNO| ENAME|      JOB| MGR|  HIREDATE|   SAL|   COMM|DEPTNO|EXP|        (SAL / 30)|\n",
      "+-----+------+---------+----+----------+------+-------+------+---+------------------+\n",
      "| 7369| SMITH|    CLERK|7902|1980-12-17| 800.0|   null|    20| 38|26.666666666666668|\n",
      "| 7499| ALLEN| SALESMAN|7698|1981-02-20|1600.0| 300.00|    30| 37|53.333333333333336|\n",
      "| 7521|  WARD| SALESMAN|7698|1981-02-22|1250.0| 500.00|    30| 37|41.666666666666664|\n",
      "| 7566| JONES|  MANAGER|7839|1981-04-02|2975.0|   null|    20| 37| 99.16666666666667|\n",
      "| 7654|MARTIN| SALESMAN|7698|1981-09-28|1250.0|1400.00|    30| 37|41.666666666666664|\n",
      "| 7698| BLAKE|  MANAGER|7839|1981-05-01|2850.0|   null|    30| 37|              95.0|\n",
      "| 7782| CLARK|  MANAGER|7839|1981-06-09|2450.0|   null|    10| 37| 81.66666666666667|\n",
      "| 7788| SCOTT|  ANALYST|7566|1982-12-09|3000.0|   null|    20| 36|             100.0|\n",
      "| 7839|  KING|PRESIDENT|null|1981-11-17|5000.0|   null|    10| 37|166.66666666666666|\n",
      "| 7844|TURNER| SALESMAN|7698|1981-09-08|1500.0|   0.00|    30| 37|              50.0|\n",
      "| 7876| ADAMS|    CLERK|7788|1983-01-12|1100.0|   null|    20| 35|36.666666666666664|\n",
      "| 7900| JAMES|    CLERK|7698|1981-12-03| 950.0|   null|    30| 37|31.666666666666668|\n",
      "| 7902|  FORD|  ANALYST|7566|1981-12-03|3000.0|   null|    20| 37|             100.0|\n",
      "| 7934|MILLER|    CLERK|7782|1982-01-23|1300.0|   null|    10| 36|43.333333333333336|\n",
      "+-----+------+---------+----+----------+------+-------+------+---+------------------+\n",
      "\n"
     ]
    }
   ],
   "source": [
    "# 13. List the emps along with their Exp and Daily Sal is more than Rs.100.\n",
    "\n",
    "emp.select('*', (year(current_date()) - year(emp.HIREDATE)).alias(\"EXP\"), col('SAL')/30).show(truncate=True)\n"
   ]
  },
  {
   "cell_type": "code",
   "execution_count": 30,
   "metadata": {},
   "outputs": [
    {
     "name": "stdout",
     "output_type": "stream",
     "text": [
      "+-----+------+-------+----+----------+------+----+------+\n",
      "|EMPNO| ENAME|    JOB| MGR|  HIREDATE|   SAL|COMM|DEPTNO|\n",
      "+-----+------+-------+----+----------+------+----+------+\n",
      "| 7369| SMITH|  CLERK|7902|1980-12-17| 800.0|null|    20|\n",
      "| 7934|MILLER|  CLERK|7782|1982-01-23|1300.0|null|    10|\n",
      "| 7900| JAMES|  CLERK|7698|1981-12-03| 950.0|null|    30|\n",
      "| 7876| ADAMS|  CLERK|7788|1983-01-12|1100.0|null|    20|\n",
      "| 7788| SCOTT|ANALYST|7566|1982-12-09|3000.0|null|    20|\n",
      "| 7902|  FORD|ANALYST|7566|1981-12-03|3000.0|null|    20|\n",
      "+-----+------+-------+----+----------+------+----+------+\n",
      "\n",
      "+-----+------+-------+----+----------+------+----+------+\n",
      "|EMPNO| ENAME|    JOB| MGR|  HIREDATE|   SAL|COMM|DEPTNO|\n",
      "+-----+------+-------+----+----------+------+----+------+\n",
      "| 7934|MILLER|  CLERK|7782|1982-01-23|1300.0|null|    10|\n",
      "| 7900| JAMES|  CLERK|7698|1981-12-03| 950.0|null|    30|\n",
      "| 7876| ADAMS|  CLERK|7788|1983-01-12|1100.0|null|    20|\n",
      "| 7369| SMITH|  CLERK|7902|1980-12-17| 800.0|null|    20|\n",
      "| 7788| SCOTT|ANALYST|7566|1982-12-09|3000.0|null|    20|\n",
      "| 7902|  FORD|ANALYST|7566|1981-12-03|3000.0|null|    20|\n",
      "+-----+------+-------+----+----------+------+----+------+\n",
      "\n"
     ]
    }
   ],
   "source": [
    "# 14. List the emps who are either ‘CLERK’ or ‘ANALYST’ in the Desc order.\n",
    "\n",
    "emp.filter(emp.JOB.isin('CLERK', 'ANALYST')).orderBy(emp.JOB, ascending = False).show()\n",
    "\n",
    "emp.filter(emp.JOB.isin('CLERK', 'ANALYST')).sort(desc('JOB')).show() #orderBy(emp.JOB, ascending = False).show()"
   ]
  },
  {
   "cell_type": "code",
   "execution_count": 31,
   "metadata": {},
   "outputs": [
    {
     "name": "stdout",
     "output_type": "stream",
     "text": [
      "+-----+-----+-------+----+----------+------+----+------+\n",
      "|EMPNO|ENAME|    JOB| MGR|  HIREDATE|   SAL|COMM|DEPTNO|\n",
      "+-----+-----+-------+----+----------+------+----+------+\n",
      "| 7369|SMITH|  CLERK|7902|1980-12-17| 800.0|null|    20|\n",
      "| 7698|BLAKE|MANAGER|7839|1981-05-01|2850.0|null|    30|\n",
      "| 7900|JAMES|  CLERK|7698|1981-12-03| 950.0|null|    30|\n",
      "| 7902| FORD|ANALYST|7566|1981-12-03|3000.0|null|    20|\n",
      "+-----+-----+-------+----+----------+------+----+------+\n",
      "\n"
     ]
    }
   ],
   "source": [
    "# 15. List the emps who joined on 1-MAY-81,3-DEC-81,17-DEC-80,19-JAN-80 in asc order of seniority.\n",
    "\n",
    "emp.filter(emp.HIREDATE.isin('1981-05-01','1981-12-03','1980-12-17','1980-01-19')).show()"
   ]
  },
  {
   "cell_type": "code",
   "execution_count": 32,
   "metadata": {},
   "outputs": [
    {
     "name": "stdout",
     "output_type": "stream",
     "text": [
      "+-----+------+---------+----+----------+------+----+------+\n",
      "|EMPNO| ENAME|      JOB| MGR|  HIREDATE|   SAL|COMM|DEPTNO|\n",
      "+-----+------+---------+----+----------+------+----+------+\n",
      "| 7369| SMITH|    CLERK|7902|1980-12-17| 800.0|null|    20|\n",
      "| 7566| JONES|  MANAGER|7839|1981-04-02|2975.0|null|    20|\n",
      "| 7782| CLARK|  MANAGER|7839|1981-06-09|2450.0|null|    10|\n",
      "| 7788| SCOTT|  ANALYST|7566|1982-12-09|3000.0|null|    20|\n",
      "| 7839|  KING|PRESIDENT|null|1981-11-17|5000.0|null|    10|\n",
      "| 7876| ADAMS|    CLERK|7788|1983-01-12|1100.0|null|    20|\n",
      "| 7902|  FORD|  ANALYST|7566|1981-12-03|3000.0|null|    20|\n",
      "| 7934|MILLER|    CLERK|7782|1982-01-23|1300.0|null|    10|\n",
      "+-----+------+---------+----+----------+------+----+------+\n",
      "\n"
     ]
    }
   ],
   "source": [
    "# 16. List the emp who are working for the Deptno 10 or20.\n",
    "\n",
    "emp.filter(emp.DEPTNO.isin(10,20)).show()\n"
   ]
  },
  {
   "cell_type": "code",
   "execution_count": 33,
   "metadata": {},
   "outputs": [
    {
     "name": "stdout",
     "output_type": "stream",
     "text": [
      "+-----+-----+-----+----+----------+-----+----+------+\n",
      "|EMPNO|ENAME|  JOB| MGR|  HIREDATE|  SAL|COMM|DEPTNO|\n",
      "+-----+-----+-----+----+----------+-----+----+------+\n",
      "| 7369|SMITH|CLERK|7902|1980-12-17|800.0|null|    20|\n",
      "+-----+-----+-----+----+----------+-----+----+------+\n",
      "\n",
      "+-----+-----+-----+----+----------+-----+----+------+\n",
      "|EMPNO|ENAME|  JOB| MGR|  HIREDATE|  SAL|COMM|DEPTNO|\n",
      "+-----+-----+-----+----+----------+-----+----+------+\n",
      "| 7369|SMITH|CLERK|7902|1980-12-17|800.0|null|    20|\n",
      "+-----+-----+-----+----+----------+-----+----+------+\n",
      "\n"
     ]
    }
   ],
   "source": [
    "#17. List the emps who are joined in the year 80.\n",
    "\n",
    "emp.filter(emp.HIREDATE.between('1980-01-01','1980-12-31')).show()\n",
    "\n",
    "emp.filter(year(\"HIREDATE\") == 1980).show()"
   ]
  },
  {
   "cell_type": "code",
   "execution_count": 34,
   "metadata": {},
   "outputs": [
    {
     "name": "stdout",
     "output_type": "stream",
     "text": [
      "+-----+-----+-----+----+----------+-----+----+------+\n",
      "|EMPNO|ENAME|  JOB| MGR|  HIREDATE|  SAL|COMM|DEPTNO|\n",
      "+-----+-----+-----+----+----------+-----+----+------+\n",
      "| 7369|SMITH|CLERK|7902|1980-12-17|800.0|null|    20|\n",
      "+-----+-----+-----+----+----------+-----+----+------+\n",
      "\n"
     ]
    }
   ],
   "source": [
    "#18. List the emps who are joined in the month of Aug 1980.\n",
    "\n",
    "\n",
    "emp.filter(year('HIREDATE') == 1980).filter(month('HIREDATE') == 12).show()"
   ]
  },
  {
   "cell_type": "code",
   "execution_count": 35,
   "metadata": {},
   "outputs": [
    {
     "name": "stdout",
     "output_type": "stream",
     "text": [
      "+-----+-----+-------+----+----------+------+----+------+\n",
      "|EMPNO|ENAME|    JOB| MGR|  HIREDATE|   SAL|COMM|DEPTNO|\n",
      "+-----+-----+-------+----+----------+------+----+------+\n",
      "| 7566|JONES|MANAGER|7839|1981-04-02|2975.0|null|    20|\n",
      "| 7698|BLAKE|MANAGER|7839|1981-05-01|2850.0|null|    30|\n",
      "| 7782|CLARK|MANAGER|7839|1981-06-09|2450.0|null|    10|\n",
      "| 7788|SCOTT|ANALYST|7566|1982-12-09|3000.0|null|    20|\n",
      "| 7902| FORD|ANALYST|7566|1981-12-03|3000.0|null|    20|\n",
      "+-----+-----+-------+----+----------+------+----+------+\n",
      "\n"
     ]
    }
   ],
   "source": [
    "#19. List the emps Who Annual sal ranging from 22000 and 45000.\n",
    "\n",
    "emp.filter((emp.SAL*12).between(22000, 45000)).show()"
   ]
  },
  {
   "cell_type": "code",
   "execution_count": 36,
   "metadata": {},
   "outputs": [
    {
     "name": "stdout",
     "output_type": "stream",
     "text": [
      "+-----+-----+--------+----+----------+------+------+------+\n",
      "|EMPNO|ENAME|     JOB| MGR|  HIREDATE|   SAL|  COMM|DEPTNO|\n",
      "+-----+-----+--------+----+----------+------+------+------+\n",
      "| 7369|SMITH|   CLERK|7902|1980-12-17| 800.0|  null|    20|\n",
      "| 7499|ALLEN|SALESMAN|7698|1981-02-20|1600.0|300.00|    30|\n",
      "| 7566|JONES| MANAGER|7839|1981-04-02|2975.0|  null|    20|\n",
      "| 7698|BLAKE| MANAGER|7839|1981-05-01|2850.0|  null|    30|\n",
      "| 7782|CLARK| MANAGER|7839|1981-06-09|2450.0|  null|    10|\n",
      "| 7788|SCOTT| ANALYST|7566|1982-12-09|3000.0|  null|    20|\n",
      "| 7876|ADAMS|   CLERK|7788|1983-01-12|1100.0|  null|    20|\n",
      "| 7900|JAMES|   CLERK|7698|1981-12-03| 950.0|  null|    30|\n",
      "+-----+-----+--------+----+----------+------+------+------+\n",
      "\n"
     ]
    }
   ],
   "source": [
    "#20. List the Enames those are having five characters in their Names.\n",
    "\n",
    "emp.filter(length(emp.ENAME) == 5).show()"
   ]
  },
  {
   "cell_type": "code",
   "execution_count": 37,
   "metadata": {},
   "outputs": [
    {
     "name": "stdout",
     "output_type": "stream",
     "text": [
      "+-----+-----+-------+----+----------+------+----+------+\n",
      "|EMPNO|ENAME|    JOB| MGR|  HIREDATE|   SAL|COMM|DEPTNO|\n",
      "+-----+-----+-------+----+----------+------+----+------+\n",
      "| 7369|SMITH|  CLERK|7902|1980-12-17| 800.0|null|    20|\n",
      "| 7788|SCOTT|ANALYST|7566|1982-12-09|3000.0|null|    20|\n",
      "+-----+-----+-------+----+----------+------+----+------+\n",
      "\n"
     ]
    }
   ],
   "source": [
    "#21. List the Enames those are starting with ‘S’ and with five characters.\n",
    "\n",
    "emp.filter(length(emp.ENAME) == 5).filter(substring(col('ENAME'),0,1) == 'S').show()"
   ]
  },
  {
   "cell_type": "code",
   "execution_count": 38,
   "metadata": {},
   "outputs": [
    {
     "name": "stdout",
     "output_type": "stream",
     "text": [
      "+-----+-----+--------+----+----------+------+------+------+\n",
      "|EMPNO|ENAME|     JOB| MGR|  HIREDATE|   SAL|  COMM|DEPTNO|\n",
      "+-----+-----+--------+----+----------+------+------+------+\n",
      "| 7521| WARD|SALESMAN|7698|1981-02-22|1250.0|500.00|    30|\n",
      "| 7902| FORD| ANALYST|7566|1981-12-03|3000.0|  null|    20|\n",
      "+-----+-----+--------+----+----------+------+------+------+\n",
      "\n"
     ]
    }
   ],
   "source": [
    "#22. List the emps those are having four chars and third character must be ‘r’.\n",
    "\n",
    "emp.filter(length('ENAME') == 4).filter(substring(col('ENAME'),3,1) == 'R').show()"
   ]
  },
  {
   "cell_type": "code",
   "execution_count": 39,
   "metadata": {},
   "outputs": [
    {
     "name": "stdout",
     "output_type": "stream",
     "text": [
      "+-----+-----+-----+----+----------+-----+----+------+\n",
      "|EMPNO|ENAME|  JOB| MGR|  HIREDATE|  SAL|COMM|DEPTNO|\n",
      "+-----+-----+-----+----+----------+-----+----+------+\n",
      "| 7369|SMITH|CLERK|7902|1980-12-17|800.0|null|    20|\n",
      "+-----+-----+-----+----+----------+-----+----+------+\n",
      "\n"
     ]
    }
   ],
   "source": [
    "# 28. List the emps those who joined in 80’s.\n",
    "\n",
    "emp.filter(year(\"HIREDATE\") == 1980).show()"
   ]
  },
  {
   "cell_type": "code",
   "execution_count": 40,
   "metadata": {},
   "outputs": [
    {
     "name": "stdout",
     "output_type": "stream",
     "text": [
      "+-----+------+---------+----+----------+------+-------+------+\n",
      "|EMPNO| ENAME|      JOB| MGR|  HIREDATE|   SAL|   COMM|DEPTNO|\n",
      "+-----+------+---------+----+----------+------+-------+------+\n",
      "| 7499| ALLEN| SALESMAN|7698|1981-02-20|1600.0| 300.00|    30|\n",
      "| 7521|  WARD| SALESMAN|7698|1981-02-22|1250.0| 500.00|    30|\n",
      "| 7654|MARTIN| SALESMAN|7698|1981-09-28|1250.0|1400.00|    30|\n",
      "| 7698| BLAKE|  MANAGER|7839|1981-05-01|2850.0|   null|    30|\n",
      "| 7782| CLARK|  MANAGER|7839|1981-06-09|2450.0|   null|    10|\n",
      "| 7839|  KING|PRESIDENT|null|1981-11-17|5000.0|   null|    10|\n",
      "| 7844|TURNER| SALESMAN|7698|1981-09-08|1500.0|   0.00|    30|\n",
      "| 7900| JAMES|    CLERK|7698|1981-12-03| 950.0|   null|    30|\n",
      "| 7934|MILLER|    CLERK|7782|1982-01-23|1300.0|   null|    10|\n",
      "+-----+------+---------+----+----------+------+-------+------+\n",
      "\n"
     ]
    }
   ],
   "source": [
    "# 29. List the emps who does not belong to Deptno 20.\n",
    "\n",
    "emp.filter(\"DEPTNO != 20\").show()"
   ]
  },
  {
   "cell_type": "code",
   "execution_count": 41,
   "metadata": {},
   "outputs": [
    {
     "name": "stdout",
     "output_type": "stream",
     "text": [
      "+-----+------+--------+----+----------+------+-------+------+\n",
      "|EMPNO| ENAME|     JOB| MGR|  HIREDATE|   SAL|   COMM|DEPTNO|\n",
      "+-----+------+--------+----+----------+------+-------+------+\n",
      "| 7369| SMITH|   CLERK|7902|1980-12-17| 800.0|   null|    20|\n",
      "| 7499| ALLEN|SALESMAN|7698|1981-02-20|1600.0| 300.00|    30|\n",
      "| 7521|  WARD|SALESMAN|7698|1981-02-22|1250.0| 500.00|    30|\n",
      "| 7566| JONES| MANAGER|7839|1981-04-02|2975.0|   null|    20|\n",
      "| 7654|MARTIN|SALESMAN|7698|1981-09-28|1250.0|1400.00|    30|\n",
      "| 7698| BLAKE| MANAGER|7839|1981-05-01|2850.0|   null|    30|\n",
      "| 7782| CLARK| MANAGER|7839|1981-06-09|2450.0|   null|    10|\n",
      "| 7788| SCOTT| ANALYST|7566|1982-12-09|3000.0|   null|    20|\n",
      "| 7844|TURNER|SALESMAN|7698|1981-09-08|1500.0|   0.00|    30|\n",
      "| 7876| ADAMS|   CLERK|7788|1983-01-12|1100.0|   null|    20|\n",
      "| 7900| JAMES|   CLERK|7698|1981-12-03| 950.0|   null|    30|\n",
      "| 7902|  FORD| ANALYST|7566|1981-12-03|3000.0|   null|    20|\n",
      "| 7934|MILLER|   CLERK|7782|1982-01-23|1300.0|   null|    10|\n",
      "+-----+------+--------+----+----------+------+-------+------+\n",
      "\n"
     ]
    }
   ],
   "source": [
    "# 30. List all the emps except ‘PRESIDENT’ & ‘MGR” in asc order of Salaries.\n",
    "\n",
    "emp.filter(~emp.JOB.isin('PRESIDENT', 'MGR')).show()"
   ]
  },
  {
   "cell_type": "code",
   "execution_count": 42,
   "metadata": {},
   "outputs": [
    {
     "name": "stdout",
     "output_type": "stream",
     "text": [
      "+-----+------+-------+----+----------+------+----+------+\n",
      "|EMPNO| ENAME|    JOB| MGR|  HIREDATE|   SAL|COMM|DEPTNO|\n",
      "+-----+------+-------+----+----------+------+----+------+\n",
      "| 7369| SMITH|  CLERK|7902|1980-12-17| 800.0|null|    20|\n",
      "| 7788| SCOTT|ANALYST|7566|1982-12-09|3000.0|null|    20|\n",
      "| 7876| ADAMS|  CLERK|7788|1983-01-12|1100.0|null|    20|\n",
      "| 7934|MILLER|  CLERK|7782|1982-01-23|1300.0|null|    10|\n",
      "+-----+------+-------+----+----------+------+----+------+\n",
      "\n"
     ]
    }
   ],
   "source": [
    "# 31. List all the emps who joined before or after 1981.\n",
    "\n",
    "emp.filter(year(\"HIREDATE\") != 1981).show()"
   ]
  },
  {
   "cell_type": "code",
   "execution_count": 43,
   "metadata": {},
   "outputs": [
    {
     "name": "stdout",
     "output_type": "stream",
     "text": [
      "+-----+------+--------+----+----------+------+-------+------+\n",
      "|EMPNO| ENAME|     JOB| MGR|  HIREDATE|   SAL|   COMM|DEPTNO|\n",
      "+-----+------+--------+----+----------+------+-------+------+\n",
      "| 7369| SMITH|   CLERK|7902|1980-12-17| 800.0|   null|    20|\n",
      "| 7499| ALLEN|SALESMAN|7698|1981-02-20|1600.0| 300.00|    30|\n",
      "| 7521|  WARD|SALESMAN|7698|1981-02-22|1250.0| 500.00|    30|\n",
      "| 7566| JONES| MANAGER|7839|1981-04-02|2975.0|   null|    20|\n",
      "| 7654|MARTIN|SALESMAN|7698|1981-09-28|1250.0|1400.00|    30|\n",
      "| 7698| BLAKE| MANAGER|7839|1981-05-01|2850.0|   null|    30|\n",
      "| 7782| CLARK| MANAGER|7839|1981-06-09|2450.0|   null|    10|\n",
      "| 7788| SCOTT| ANALYST|7566|1982-12-09|3000.0|   null|    20|\n",
      "| 7900| JAMES|   CLERK|7698|1981-12-03| 950.0|   null|    30|\n",
      "| 7902|  FORD| ANALYST|7566|1981-12-03|3000.0|   null|    20|\n",
      "| 7934|MILLER|   CLERK|7782|1982-01-23|1300.0|   null|    10|\n",
      "+-----+------+--------+----+----------+------+-------+------+\n",
      "\n"
     ]
    }
   ],
   "source": [
    "# 32. List the emps whose Empno not starting with digit78.\n",
    "\n",
    "emp.filter(~emp.EMPNO.like('78%')).show()"
   ]
  },
  {
   "cell_type": "code",
   "execution_count": 44,
   "metadata": {},
   "outputs": [
    {
     "data": {
      "text/plain": [
       "DataFrame[EMPNO: int, ENAME: string, JOB: string, MGR: int, HIREDATE: date, SAL: double, COMM: string, DEPTNO: int, EMPNO: int, ENAME: string, JOB: string, MGR: int, HIREDATE: date, SAL: double, COMM: string, DEPTNO: int]"
      ]
     },
     "execution_count": 44,
     "metadata": {},
     "output_type": "execute_result"
    }
   ],
   "source": [
    "# 33. List the emps who are working under ‘MGR’.\n",
    "\n",
    "# select e.ename || ‘ works for ‘ || m.ename from emp e ,emp m where e.mgr =\n",
    "# m.empno ;\n",
    "\n",
    "empE = emp\n",
    "empM = emp\n",
    "\n",
    "empE.join(empM, empE.EMPNO == empM.MGR) #.select('*').show()\n",
    "\n",
    "#emp.alias(\"a\").join(b.alias(\"b\"), joinExprs)\n",
    "\n",
    "#e.mgr = m.empno\n",
    "\n"
   ]
  },
  {
   "cell_type": "code",
   "execution_count": 45,
   "metadata": {},
   "outputs": [
    {
     "name": "stdout",
     "output_type": "stream",
     "text": [
      "+-----+------+---------+----+----------+------+-------+------+\n",
      "|EMPNO| ENAME|      JOB| MGR|  HIREDATE|   SAL|   COMM|DEPTNO|\n",
      "+-----+------+---------+----+----------+------+-------+------+\n",
      "| 7369| SMITH|    CLERK|7902|1980-12-17| 800.0|   null|    20|\n",
      "| 7499| ALLEN| SALESMAN|7698|1981-02-20|1600.0| 300.00|    30|\n",
      "| 7521|  WARD| SALESMAN|7698|1981-02-22|1250.0| 500.00|    30|\n",
      "| 7566| JONES|  MANAGER|7839|1981-04-02|2975.0|   null|    20|\n",
      "| 7654|MARTIN| SALESMAN|7698|1981-09-28|1250.0|1400.00|    30|\n",
      "| 7698| BLAKE|  MANAGER|7839|1981-05-01|2850.0|   null|    30|\n",
      "| 7782| CLARK|  MANAGER|7839|1981-06-09|2450.0|   null|    10|\n",
      "| 7788| SCOTT|  ANALYST|7566|1982-12-09|3000.0|   null|    20|\n",
      "| 7839|  KING|PRESIDENT|null|1981-11-17|5000.0|   null|    10|\n",
      "| 7844|TURNER| SALESMAN|7698|1981-09-08|1500.0|   0.00|    30|\n",
      "| 7876| ADAMS|    CLERK|7788|1983-01-12|1100.0|   null|    20|\n",
      "| 7900| JAMES|    CLERK|7698|1981-12-03| 950.0|   null|    30|\n",
      "| 7902|  FORD|  ANALYST|7566|1981-12-03|3000.0|   null|    20|\n",
      "| 7934|MILLER|    CLERK|7782|1982-01-23|1300.0|   null|    10|\n",
      "+-----+------+---------+----+----------+------+-------+------+\n",
      "\n"
     ]
    }
   ],
   "source": [
    "# 34. List the emps who joined in any year but not belongs to the month of March.\n",
    "\n",
    "emp.filter(month(emp.HIREDATE) != 03).show()\n"
   ]
  },
  {
   "cell_type": "code",
   "execution_count": 46,
   "metadata": {},
   "outputs": [
    {
     "name": "stdout",
     "output_type": "stream",
     "text": [
      "+-----+-----+-----+----+----------+------+----+------+\n",
      "|EMPNO|ENAME|  JOB| MGR|  HIREDATE|   SAL|COMM|DEPTNO|\n",
      "+-----+-----+-----+----+----------+------+----+------+\n",
      "| 7369|SMITH|CLERK|7902|1980-12-17| 800.0|null|    20|\n",
      "| 7876|ADAMS|CLERK|7788|1983-01-12|1100.0|null|    20|\n",
      "+-----+-----+-----+----+----------+------+----+------+\n",
      "\n"
     ]
    }
   ],
   "source": [
    "# 35. List all the Clerks of Deptno 20\n",
    "\n",
    "emp.filter(\"JOB = 'CLERK'\").filter(col(\"DEPTNO\") == 20).show()\n"
   ]
  },
  {
   "cell_type": "code",
   "execution_count": 47,
   "metadata": {},
   "outputs": [
    {
     "name": "stdout",
     "output_type": "stream",
     "text": [
      "1\n",
      "5\n"
     ]
    }
   ],
   "source": [
    "# find A,B groups 2nd key value\n",
    "\n",
    "sam = sc.parallelize((['A',1,1],['B',1,2],['C',1,5],['D',2,3],['A',2,1],['B',2,5],['C',2,3],['D',2,1]))\n",
    "\n",
    "df_sample = sqlContext.createDataFrame(sam, ['C1','C2','C3'])\n",
    "\n",
    "sa = df_sample.rdd\n",
    "\n",
    "\n",
    "def abc(sa, r, k):\n",
    "    i = 0\n",
    "    s = []\n",
    "    while i < len(r):\n",
    "        at = r[i]\n",
    "        a = sa.filter(lambda x: at in x[0]).map(lambda x: ((x[1]), (x[2])))\n",
    "        i = i+1\n",
    "        print(a.collectAsMap()[k])\n",
    "        \n",
    "\n",
    "h = abc(sa, ['A', 'B'], 2)"
   ]
  },
  {
   "cell_type": "code",
   "execution_count": 48,
   "metadata": {},
   "outputs": [
    {
     "name": "stdout",
     "output_type": "stream",
     "text": [
      "+---+------+\n",
      "| C1|  C2C3|\n",
      "+---+------+\n",
      "|  D|[2, 3]|\n",
      "|  A|[2, 1]|\n",
      "|  B|[2, 5]|\n",
      "|  C|[2, 3]|\n",
      "|  D|[2, 1]|\n",
      "+---+------+\n",
      "\n"
     ]
    }
   ],
   "source": [
    "# UDF example\n",
    "sam = sc.parallelize((['A',1,1],['B',1,2],['C',1,5],['D',2,3],['A',2,1],['B',2,5],['C',2,3],['D',2,1]))\n",
    "\n",
    "df_sample = sqlContext.createDataFrame(sam, ['C1','C2','C3'])\n",
    "\n",
    "def grp(c2, c3):\n",
    "    return [c2, c3]\n",
    "\n",
    "array_schema = StructType([\n",
    "    StructField('c2', IntegerType(), nullable=False),\n",
    "    StructField('c3', StringType(), nullable=False)\n",
    "])\n",
    "\n",
    "grp_udf = udf(lambda x,z: grp(x,z), array_schema)\n",
    "\n",
    "grp_df = df_sample.select('C1', grp_udf(\"c2\", \"c3\").alias('C2C3')).filter(\"C2C3.c2 == 2\")\n",
    "\n",
    "# groupBy(\"C1\").agg(collect_list(\"C2C3\"))\n",
    "\n",
    "grp_df.show()"
   ]
  },
  {
   "cell_type": "code",
   "execution_count": 49,
   "metadata": {},
   "outputs": [
    {
     "name": "stdout",
     "output_type": "stream",
     "text": [
      "+-----+------+---------+----+----------+------+-------+------+\n",
      "|EMPNO| ENAME|      JOB| MGR|  HIREDATE|   SAL|   COMM|DEPTNO|\n",
      "+-----+------+---------+----+----------+------+-------+------+\n",
      "| 7499| ALLEN| SALESMAN|7698|1981-02-20|1600.0| 300.00|    30|\n",
      "| 7521|  WARD| SALESMAN|7698|1981-02-22|1250.0| 500.00|    30|\n",
      "| 7654|MARTIN| SALESMAN|7698|1981-09-28|1250.0|1400.00|    30|\n",
      "| 7698| BLAKE|  MANAGER|7839|1981-05-01|2850.0|   null|    30|\n",
      "| 7782| CLARK|  MANAGER|7839|1981-06-09|2450.0|   null|    10|\n",
      "| 7839|  KING|PRESIDENT|null|1981-11-17|5000.0|   null|    10|\n",
      "| 7844|TURNER| SALESMAN|7698|1981-09-08|1500.0|   0.00|    30|\n",
      "| 7900| JAMES|    CLERK|7698|1981-12-03| 950.0|   null|    30|\n",
      "+-----+------+---------+----+----------+------+-------+------+\n",
      "\n"
     ]
    }
   ],
   "source": [
    "# 36. List the emps of Deptno 30 or 10 joined in the year 1981.\n",
    "\n",
    "emp.filter((year(\"HIREDATE\") == 1981) & (col(\"DEPTNO\").isin([10,30]))).show()"
   ]
  },
  {
   "cell_type": "code",
   "execution_count": 50,
   "metadata": {},
   "outputs": [
    {
     "name": "stdout",
     "output_type": "stream",
     "text": [
      "+-----+-----+-----+----+----------+-----+----+------+\n",
      "|EMPNO|ENAME|  JOB| MGR|  HIREDATE|  SAL|COMM|DEPTNO|\n",
      "+-----+-----+-----+----+----------+-----+----+------+\n",
      "| 7369|SMITH|CLERK|7902|1980-12-17|800.0|null|    20|\n",
      "+-----+-----+-----+----+----------+-----+----+------+\n",
      "\n"
     ]
    }
   ],
   "source": [
    "# 37. Display the details of SMITH.\n",
    "\n",
    "emp.filter(col(\"ENAME\") == 'SMITH').show()"
   ]
  },
  {
   "cell_type": "code",
   "execution_count": 51,
   "metadata": {},
   "outputs": [
    {
     "name": "stdout",
     "output_type": "stream",
     "text": [
      "+------+\n",
      "|  DLOC|\n",
      "+------+\n",
      "|DALLAS|\n",
      "+------+\n",
      "\n"
     ]
    }
   ],
   "source": [
    "# 38. Display the location of SMITH.\n",
    "\n",
    "emp.alias(\"e\").join(dept.alias(\"d\"), [col(\"e.DEPTNO\") == col(\"d.DEPTNO\"), col(\"e.ENAME\") == \"SMITH\"]).select(\"DLOC\").show()"
   ]
  },
  {
   "cell_type": "code",
   "execution_count": 52,
   "metadata": {},
   "outputs": [
    {
     "name": "stdout",
     "output_type": "stream",
     "text": [
      "+-----+------+---------+----+----------+------+----+------+------+----------+--------+\n",
      "|EMPNO| ENAME|      JOB| MGR|  HIREDATE|   SAL|COMM|DEPTNO|DEPTNO|     DNAME|    DLOC|\n",
      "+-----+------+---------+----+----------+------+----+------+------+----------+--------+\n",
      "| 7782| CLARK|  MANAGER|7839|1981-06-09|2450.0|null|    10|    10|ACCOUNTING|NEW YORK|\n",
      "| 7839|  KING|PRESIDENT|null|1981-11-17|5000.0|null|    10|    10|ACCOUNTING|NEW YORK|\n",
      "| 7934|MILLER|    CLERK|7782|1982-01-23|1300.0|null|    10|    10|ACCOUNTING|NEW YORK|\n",
      "| 7369| SMITH|    CLERK|7902|1980-12-17| 800.0|null|    20|    20|  RESEARCH|  DALLAS|\n",
      "| 7566| JONES|  MANAGER|7839|1981-04-02|2975.0|null|    20|    20|  RESEARCH|  DALLAS|\n",
      "| 7788| SCOTT|  ANALYST|7566|1982-12-09|3000.0|null|    20|    20|  RESEARCH|  DALLAS|\n",
      "| 7876| ADAMS|    CLERK|7788|1983-01-12|1100.0|null|    20|    20|  RESEARCH|  DALLAS|\n",
      "| 7902|  FORD|  ANALYST|7566|1981-12-03|3000.0|null|    20|    20|  RESEARCH|  DALLAS|\n",
      "+-----+------+---------+----+----------+------+----+------+------+----------+--------+\n",
      "\n"
     ]
    }
   ],
   "source": [
    "# 39. List the total information of EMP table along with DNAME and Loc of all the\n",
    "# emps Working Under ‘ACCOUNTING’ & ‘RESEARCH’ in the asc Deptno.\n",
    "\n",
    "emp.alias(\"e\").join(dept.alias(\"d\"), [col(\"e.DEPTNO\") == col(\"d.DEPTNO\"), col(\"d.DNAME\").isin(\"ACCOUNTING\", \"RESEARCH\")]).sort(asc(\"e.DEPTNO\")).show()"
   ]
  },
  {
   "cell_type": "code",
   "execution_count": 53,
   "metadata": {},
   "outputs": [
    {
     "name": "stdout",
     "output_type": "stream",
     "text": [
      "+------+-----+-----+---------+----+----------+------+----+----------+--------+\n",
      "|DEPTNO|EMPNO|ENAME|      JOB| MGR|  HIREDATE|   SAL|COMM|     DNAME|    DLOC|\n",
      "+------+-----+-----+---------+----+----------+------+----+----------+--------+\n",
      "|    20| 7788|SCOTT|  ANALYST|7566|1982-12-09|3000.0|null|  RESEARCH|  DALLAS|\n",
      "|    20| 7902| FORD|  ANALYST|7566|1981-12-03|3000.0|null|  RESEARCH|  DALLAS|\n",
      "|    20| 7566|JONES|  MANAGER|7839|1981-04-02|2975.0|null|  RESEARCH|  DALLAS|\n",
      "|    10| 7839| KING|PRESIDENT|null|1981-11-17|5000.0|null|ACCOUNTING|NEW YORK|\n",
      "|    10| 7782|CLARK|  MANAGER|7839|1981-06-09|2450.0|null|ACCOUNTING|NEW YORK|\n",
      "+------+-----+-----+---------+----+----------+------+----+----------+--------+\n",
      "\n"
     ]
    }
   ],
   "source": [
    "# 40. List the Empno, Ename, Sal, Dname of all the ‘MGRS’ and ‘ANALYST’\n",
    "# working in New York, Dallas with an exp more than 7 years without receiving the\n",
    "# Comm asc order of Loc.\n",
    "\n",
    "emp.alias(\"e\").join(emp.alias(\"m\"), [col(\"e.MGR\") == col(\"m.EMPNO\")]).select(\"m.*\").distinct().join(dept, \"DEPTNO\")\\\n",
    ".filter((col(\"DLOC\").isin([\"NEW YORK\", \"DALLAS\"])) & (year(\"HIREDATE\") > 7)).show()"
   ]
  },
  {
   "cell_type": "code",
   "execution_count": 54,
   "metadata": {},
   "outputs": [],
   "source": [
    "# 41. Display the Empno, Ename, Sal, Dname, Loc, Deptno, Job of all emps working at\n",
    "# CJICAGO or working for ACCOUNTING dept with Ann Sal>28000, but the Sal\n",
    "# should not be=3000 or 2800 who doesn’t belongs to the Mgr and whose no is\n",
    "# having a digit ‘7’ or ‘8’ in 3 rd position in the asc order of Deptno and desc order\n",
    "# of job."
   ]
  },
  {
   "cell_type": "code",
   "execution_count": 55,
   "metadata": {},
   "outputs": [
    {
     "name": "stdout",
     "output_type": "stream",
     "text": [
      "+-----+------+---------+----+----------+------+-------+------+-----+------+------+\n",
      "|EMPNO| ENAME|      JOB| MGR|  HIREDATE|   SAL|   COMM|DEPTNO|GRADE| LOSAL| HISAL|\n",
      "+-----+------+---------+----+----------+------+-------+------+-----+------+------+\n",
      "| 7369| SMITH|    CLERK|7902|1980-12-17| 800.0|   null|    20|    1| 700.0|1200.0|\n",
      "| 7900| JAMES|    CLERK|7698|1981-12-03| 950.0|   null|    30|    1| 700.0|1200.0|\n",
      "| 7876| ADAMS|    CLERK|7788|1983-01-12|1100.0|   null|    20|    1| 700.0|1200.0|\n",
      "| 7934|MILLER|    CLERK|7782|1982-01-23|1300.0|   null|    10|    2|1201.0|1400.0|\n",
      "| 7521|  WARD| SALESMAN|7698|1981-02-22|1250.0| 500.00|    30|    2|1201.0|1400.0|\n",
      "| 7654|MARTIN| SALESMAN|7698|1981-09-28|1250.0|1400.00|    30|    2|1201.0|1400.0|\n",
      "| 7499| ALLEN| SALESMAN|7698|1981-02-20|1600.0| 300.00|    30|    3|1401.0|2000.0|\n",
      "| 7844|TURNER| SALESMAN|7698|1981-09-08|1500.0|   0.00|    30|    3|1401.0|2000.0|\n",
      "| 7566| JONES|  MANAGER|7839|1981-04-02|2975.0|   null|    20|    4|2001.0|3000.0|\n",
      "| 7698| BLAKE|  MANAGER|7839|1981-05-01|2850.0|   null|    30|    4|2001.0|3000.0|\n",
      "| 7782| CLARK|  MANAGER|7839|1981-06-09|2450.0|   null|    10|    4|2001.0|3000.0|\n",
      "| 7788| SCOTT|  ANALYST|7566|1982-12-09|3000.0|   null|    20|    4|2001.0|3000.0|\n",
      "| 7902|  FORD|  ANALYST|7566|1981-12-03|3000.0|   null|    20|    4|2001.0|3000.0|\n",
      "| 7839|  KING|PRESIDENT|null|1981-11-17|5000.0|   null|    10|    5|3001.0|9999.0|\n",
      "+-----+------+---------+----+----------+------+-------+------+-----+------+------+\n",
      "\n"
     ]
    }
   ],
   "source": [
    "# 42. Display the total information of the emps along with Grades in the asc order.\n",
    "\n",
    "# emp.join(sal, emp.SAL.between(sal.LOSAL, sal.HISAL)).sort(asc(\"GRADE\")).show() or\n",
    "\n",
    "e = emp.alias(\"e\")\n",
    "s = sal.alias(\"s\")\n",
    "\n",
    "e.join(s, [col(\"e.SAL\").between(col(\"s.LOSAL\"), col(\"s.HISAL\"))]).sort(asc(\"GRADE\")).show()"
   ]
  },
  {
   "cell_type": "code",
   "execution_count": 56,
   "metadata": {},
   "outputs": [
    {
     "name": "stdout",
     "output_type": "stream",
     "text": [
      "+-----+------+--------+----+----------+------+-------+------+-----+------+------+\n",
      "|EMPNO| ENAME|     JOB| MGR|  HIREDATE|   SAL|   COMM|DEPTNO|GRADE| LOSAL| HISAL|\n",
      "+-----+------+--------+----+----------+------+-------+------+-----+------+------+\n",
      "| 7521|  WARD|SALESMAN|7698|1981-02-22|1250.0| 500.00|    30|    2|1201.0|1400.0|\n",
      "| 7654|MARTIN|SALESMAN|7698|1981-09-28|1250.0|1400.00|    30|    2|1201.0|1400.0|\n",
      "| 7499| ALLEN|SALESMAN|7698|1981-02-20|1600.0| 300.00|    30|    3|1401.0|2000.0|\n",
      "| 7934|MILLER|   CLERK|7782|1982-01-23|1300.0|   null|    10|    2|1201.0|1400.0|\n",
      "| 7844|TURNER|SALESMAN|7698|1981-09-08|1500.0|   0.00|    30|    3|1401.0|2000.0|\n",
      "+-----+------+--------+----+----------+------+-------+------+-----+------+------+\n",
      "\n"
     ]
    }
   ],
   "source": [
    "# 43. List all the Grade2 and Grade 3 emps.\n",
    "\n",
    "e.join(s, [e.SAL.between(s.LOSAL, s.HISAL), s.GRADE.isin(2,3)]).show()"
   ]
  },
  {
   "cell_type": "code",
   "execution_count": 57,
   "metadata": {},
   "outputs": [
    {
     "name": "stdout",
     "output_type": "stream",
     "text": [
      "+-----+-----+---------+----+----------+------+----+------+-----+------+------+\n",
      "|EMPNO|ENAME|      JOB| MGR|  HIREDATE|   SAL|COMM|DEPTNO|GRADE| LOSAL| HISAL|\n",
      "+-----+-----+---------+----+----------+------+----+------+-----+------+------+\n",
      "| 7566|JONES|  MANAGER|7839|1981-04-02|2975.0|null|    20|    4|2001.0|3000.0|\n",
      "| 7698|BLAKE|  MANAGER|7839|1981-05-01|2850.0|null|    30|    4|2001.0|3000.0|\n",
      "| 7782|CLARK|  MANAGER|7839|1981-06-09|2450.0|null|    10|    4|2001.0|3000.0|\n",
      "| 7788|SCOTT|  ANALYST|7566|1982-12-09|3000.0|null|    20|    4|2001.0|3000.0|\n",
      "| 7839| KING|PRESIDENT|null|1981-11-17|5000.0|null|    10|    5|3001.0|9999.0|\n",
      "| 7902| FORD|  ANALYST|7566|1981-12-03|3000.0|null|    20|    4|2001.0|3000.0|\n",
      "+-----+-----+---------+----+----------+------+----+------+-----+------+------+\n",
      "\n"
     ]
    }
   ],
   "source": [
    "# 44. Display all Grade 4,5 Analyst and Mgr.\n",
    "\n",
    "e.join(s, [e.SAL.between(s.LOSAL, s.HISAL), s.GRADE.isin(4,5)]).show()"
   ]
  },
  {
   "cell_type": "code",
   "execution_count": 58,
   "metadata": {},
   "outputs": [
    {
     "name": "stdout",
     "output_type": "stream",
     "text": [
      "+-----+-----+---------+----+----------+------+----+------+-----+------+------+\n",
      "|EMPNO|ENAME|      JOB| MGR|  HIREDATE|   SAL|COMM|DEPTNO|GRADE| LOSAL| HISAL|\n",
      "+-----+-----+---------+----+----------+------+----+------+-----+------+------+\n",
      "| 7566|JONES|  MANAGER|7839|1981-04-02|2975.0|null|    20|    4|2001.0|3000.0|\n",
      "| 7782|CLARK|  MANAGER|7839|1981-06-09|2450.0|null|    10|    4|2001.0|3000.0|\n",
      "| 7788|SCOTT|  ANALYST|7566|1982-12-09|3000.0|null|    20|    4|2001.0|3000.0|\n",
      "| 7839| KING|PRESIDENT|null|1981-11-17|5000.0|null|    10|    5|3001.0|9999.0|\n",
      "| 7902| FORD|  ANALYST|7566|1981-12-03|3000.0|null|    20|    4|2001.0|3000.0|\n",
      "+-----+-----+---------+----+----------+------+----+------+-----+------+------+\n",
      "\n"
     ]
    }
   ],
   "source": [
    "# 45. List the Empno, Ename, Sal, Dname, Grade, Exp, and Ann Sal of emps working\n",
    "# for Dept10 or20.\n",
    "\n",
    "e.join(s, [e.SAL.between(s.LOSAL, s.HISAL), s.GRADE.isin(4,5), e.DEPTNO.isin([10,20])]).show()"
   ]
  },
  {
   "cell_type": "code",
   "execution_count": 59,
   "metadata": {},
   "outputs": [
    {
     "name": "stdout",
     "output_type": "stream",
     "text": [
      "+-----+------+---------+----+----------+------+-------+------+-------+\n",
      "|EMPNO| ENAME|      JOB| MGR|  HIREDATE|   SAL|   COMM|DEPTNO|DoubSal|\n",
      "+-----+------+---------+----+----------+------+-------+------+-------+\n",
      "| 7369| SMITH|    CLERK|7902|1980-12-17| 800.0|   null|    20|   1600|\n",
      "| 7499| ALLEN| SALESMAN|7698|1981-02-20|1600.0| 300.00|    30|   3200|\n",
      "| 7521|  WARD| SALESMAN|7698|1981-02-22|1250.0| 500.00|    30|   2500|\n",
      "| 7566| JONES|  MANAGER|7839|1981-04-02|2975.0|   null|    20|   5950|\n",
      "| 7654|MARTIN| SALESMAN|7698|1981-09-28|1250.0|1400.00|    30|   2500|\n",
      "| 7698| BLAKE|  MANAGER|7839|1981-05-01|2850.0|   null|    30|   5700|\n",
      "| 7782| CLARK|  MANAGER|7839|1981-06-09|2450.0|   null|    10|   4900|\n",
      "| 7788| SCOTT|  ANALYST|7566|1982-12-09|3000.0|   null|    20|   6000|\n",
      "| 7839|  KING|PRESIDENT|null|1981-11-17|5000.0|   null|    10|  10000|\n",
      "| 7844|TURNER| SALESMAN|7698|1981-09-08|1500.0|   0.00|    30|   3000|\n",
      "| 7876| ADAMS|    CLERK|7788|1983-01-12|1100.0|   null|    20|   2200|\n",
      "| 7900| JAMES|    CLERK|7698|1981-12-03| 950.0|   null|    30|   1900|\n",
      "| 7902|  FORD|  ANALYST|7566|1981-12-03|3000.0|   null|    20|   6000|\n",
      "| 7934|MILLER|    CLERK|7782|1982-01-23|1300.0|   null|    10|   2600|\n",
      "+-----+------+---------+----+----------+------+-------+------+-------+\n",
      "\n"
     ]
    }
   ],
   "source": [
    "#UDF with Lambda\n",
    "\n",
    "def doubleSal(x):\n",
    "    return int(x*2) #forcing here to convert type to integer otherwise it will return null\n",
    "\n",
    "# Integer type output\n",
    "from pyspark.sql.types import IntegerType\n",
    "doubleSalUdf = udf(lambda z: doubleSal(z), IntegerType())\n",
    "\n",
    "emp.withColumn(\"DoubSal\", doubleSalUdf(col(\"SAL\"))).show()"
   ]
  },
  {
   "cell_type": "code",
   "execution_count": 60,
   "metadata": {},
   "outputs": [
    {
     "name": "stdout",
     "output_type": "stream",
     "text": [
      "+------+\n",
      "|   sal|\n",
      "+------+\n",
      "| 805.0|\n",
      "|1605.0|\n",
      "|1255.0|\n",
      "|2980.0|\n",
      "|1255.0|\n",
      "|2855.0|\n",
      "|2455.0|\n",
      "|3005.0|\n",
      "|5005.0|\n",
      "|1505.0|\n",
      "|1105.0|\n",
      "| 955.0|\n",
      "|3005.0|\n",
      "|1305.0|\n",
      "+------+\n",
      "\n"
     ]
    }
   ],
   "source": [
    "# udf with structType\n",
    "\n",
    "schemaStruct = StructType([\n",
    "    StructField(\"Sal\", DoubleType()),\n",
    "    StructField(\"Comm\", DoubleType())\n",
    "])\n",
    "\n",
    "\n",
    "def salComm(sal, comm):\n",
    "    return (sal+5, comm)\n",
    "\n",
    "\n",
    "salCommUdf = udf(salComm, schemaStruct)\n",
    "\n",
    "emp.withColumn(\"newCol\", salCommUdf(emp.SAL, emp.COMM)).select(\"newCol.sal\").show(truncate=True)"
   ]
  },
  {
   "cell_type": "code",
   "execution_count": 61,
   "metadata": {},
   "outputs": [
    {
     "name": "stdout",
     "output_type": "stream",
     "text": [
      "+-----+------+---------+----+----------+------+-------+------+------+\n",
      "|EMPNO| ENAME|      JOB| MGR|  HIREDATE|   SAL|   COMM|DEPTNO|netSal|\n",
      "+-----+------+---------+----+----------+------+-------+------+------+\n",
      "| 7369| SMITH|    CLERK|7902|1980-12-17| 800.0|   null|    20| 800.0|\n",
      "| 7499| ALLEN| SALESMAN|7698|1981-02-20|1600.0| 300.00|    30|1900.0|\n",
      "| 7521|  WARD| SALESMAN|7698|1981-02-22|1250.0| 500.00|    30|1750.0|\n",
      "| 7566| JONES|  MANAGER|7839|1981-04-02|2975.0|   null|    20|2975.0|\n",
      "| 7654|MARTIN| SALESMAN|7698|1981-09-28|1250.0|1400.00|    30|2650.0|\n",
      "| 7698| BLAKE|  MANAGER|7839|1981-05-01|2850.0|   null|    30|2850.0|\n",
      "| 7782| CLARK|  MANAGER|7839|1981-06-09|2450.0|   null|    10|2450.0|\n",
      "| 7788| SCOTT|  ANALYST|7566|1982-12-09|3000.0|   null|    20|3000.0|\n",
      "| 7839|  KING|PRESIDENT|null|1981-11-17|5000.0|   null|    10|5000.0|\n",
      "| 7844|TURNER| SALESMAN|7698|1981-09-08|1500.0|   0.00|    30|1500.0|\n",
      "| 7876| ADAMS|    CLERK|7788|1983-01-12|1100.0|   null|    20|1100.0|\n",
      "| 7900| JAMES|    CLERK|7698|1981-12-03| 950.0|   null|    30| 950.0|\n",
      "| 7902|  FORD|  ANALYST|7566|1981-12-03|3000.0|   null|    20|3000.0|\n",
      "| 7934|MILLER|    CLERK|7782|1982-01-23|1300.0|   null|    10|1300.0|\n",
      "+-----+------+---------+----+----------+------+-------+------+------+\n",
      "\n"
     ]
    }
   ],
   "source": [
    "emp.withColumn(\"netSal\", when(col(\"COMM\").isNull(), col(\"SAL\")).otherwise(col(\"COMM\") + col(\"SAL\"))).show()"
   ]
  },
  {
   "cell_type": "code",
   "execution_count": null,
   "metadata": {},
   "outputs": [],
   "source": []
  }
 ],
 "metadata": {
  "kernelspec": {
   "display_name": "Python 3",
   "language": "python",
   "name": "python3"
  },
  "language_info": {
   "codemirror_mode": {
    "name": "ipython",
    "version": 2
   },
   "file_extension": ".py",
   "mimetype": "text/x-python",
   "name": "python",
   "nbconvert_exporter": "python",
   "pygments_lexer": "ipython2",
   "version": "2.7.15rc1"
  }
 },
 "nbformat": 4,
 "nbformat_minor": 2
}
