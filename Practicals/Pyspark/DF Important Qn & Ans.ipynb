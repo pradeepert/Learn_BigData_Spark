{
 "cells": [
  {
   "cell_type": "code",
   "execution_count": 1,
   "metadata": {},
   "outputs": [],
   "source": [
    "from pyspark import SparkContext, SparkConf\n",
    "from pyspark import sql\n",
    "from pyspark.sql import Row                       # To use Row method for column\n",
    "#from pyspark.sql import functions as F\n",
    "from pyspark.sql.functions import *\n",
    "from pyspark.sql.types import *\n",
    "from pyspark.sql import Window"
   ]
  },
  {
   "cell_type": "code",
   "execution_count": 2,
   "metadata": {},
   "outputs": [],
   "source": [
    "conf = SparkConf().set(\"spark.executor.memory\", \"4g\")\n",
    "sc = SparkContext(conf=conf)\n",
    "sqlContext = sql.SQLContext(sc)"
   ]
  },
  {
   "cell_type": "code",
   "execution_count": 3,
   "metadata": {},
   "outputs": [],
   "source": [
    "empRDD = sc.textFile(\"emp.txt\")\n",
    "depRDD = sc.textFile(\"dept.txt\")\n",
    "salRDD = sc.textFile(\"salgrade.txt\")"
   ]
  },
  {
   "cell_type": "code",
   "execution_count": 4,
   "metadata": {},
   "outputs": [],
   "source": [
    "emp_col = Row('EMPNO', 'ENAME', 'JOB', 'MGR', 'HIREDATE', 'SAL', 'COMM', 'DEPTNO')\n",
    "dep_col = Row('DEPTNO', 'DNAME', 'DLOC')\n",
    "sal_col = Row('GRADE', 'LOSAL', 'HISAL')"
   ]
  },
  {
   "cell_type": "code",
   "execution_count": 5,
   "metadata": {},
   "outputs": [],
   "source": [
    "empROW = empRDD.map(lambda x: x.split(',')).map(lambda r: emp_col(*r))\n",
    "depRow = depRDD.map(lambda x: x.split(',')).map(lambda r: dep_col(*r))\n",
    "salROW = salRDD.map(lambda x: x.split(',')).map(lambda r: sal_col(*r))"
   ]
  },
  {
   "cell_type": "code",
   "execution_count": 6,
   "metadata": {},
   "outputs": [],
   "source": [
    "empDF = sqlContext.createDataFrame(empROW)\n",
    "depDF = sqlContext.createDataFrame(depRow)\n",
    "salDF = sqlContext.createDataFrame(salROW)"
   ]
  },
  {
   "cell_type": "code",
   "execution_count": 7,
   "metadata": {},
   "outputs": [],
   "source": [
    "# Converting Dataframe values to it types\n",
    "\n",
    "def toInt(i):\n",
    "    return i.cast(\"integer\")\n",
    "\n",
    "def toDouble(d):\n",
    "    return d.cast(\"double\")\n",
    "\n",
    "emp = empDF.withColumn(\"EMPNO\", toInt(empDF.EMPNO)).withColumn(\"MGR\", toInt(empDF.MGR)).withColumn(\"HIREDATE\",to_date('HIREDATE')).withColumn(\"SAL\", toDouble(empDF.SAL)).withColumn('COMM', when(empDF.COMM == 'NULL', lit(None)).otherwise(empDF.COMM)).withColumn(\"DEPTNO\", toInt(empDF.DEPTNO)).filter('ENAME != \"ENAME\"')\n",
    "dept = depDF.withColumn(\"DEPTNO\", toInt(depDF.DEPTNO)).na.drop()\n",
    "sal = salDF.withColumn(\"GRADE\", toInt(salDF.GRADE)).withColumn(\"LOSAL\", toDouble(salDF.LOSAL)).withColumn(\"HISAL\", toDouble(salDF.HISAL)).na.drop()\n",
    "\n",
    "sqlContext.registerDataFrameAsTable(emp, \"emptab\")\n",
    "sqlContext.registerDataFrameAsTable(dept, \"depttab\")\n",
    "sqlContext.registerDataFrameAsTable(sal, \"saltab\")\n"
   ]
  },
  {
   "cell_type": "code",
   "execution_count": 8,
   "metadata": {},
   "outputs": [
    {
     "name": "stdout",
     "output_type": "stream",
     "text": [
      "+-----+------+---------+----+----------+------+-------+------+\n",
      "|EMPNO| ENAME|      JOB| MGR|  HIREDATE|   SAL|   COMM|DEPTNO|\n",
      "+-----+------+---------+----+----------+------+-------+------+\n",
      "| 7369| SMITH|    CLERK|7902|1980-12-17| 800.0|   null|    20|\n",
      "| 7499| ALLEN| SALESMAN|7698|1981-02-20|1600.0| 300.00|    30|\n",
      "| 7521|  WARD| SALESMAN|7698|1981-02-22|1250.0| 500.00|    30|\n",
      "| 7566| JONES|  MANAGER|7839|1981-04-02|2975.0|   null|    20|\n",
      "| 7654|MARTIN| SALESMAN|7698|1981-09-28|1250.0|1400.00|    30|\n",
      "| 7698| BLAKE|  MANAGER|7839|1981-05-01|2850.0|   null|    30|\n",
      "| 7782| CLARK|  MANAGER|7839|1981-06-09|2450.0|   null|    10|\n",
      "| 7788| SCOTT|  ANALYST|7566|1982-12-09|3000.0|   null|    20|\n",
      "| 7839|  KING|PRESIDENT|null|1981-11-17|5000.0|   null|    10|\n",
      "| 7844|TURNER| SALESMAN|7698|1981-09-08|1500.0|   0.00|    30|\n",
      "| 7876| ADAMS|    CLERK|7788|1983-01-12|1100.0|   null|    20|\n",
      "| 7900| JAMES|    CLERK|7698|1981-12-03| 950.0|   null|    30|\n",
      "| 7902|  FORD|  ANALYST|7566|1981-12-03|3000.0|   null|    20|\n",
      "| 7934|MILLER|    CLERK|7782|1982-01-23|1300.0|   null|    10|\n",
      "+-----+------+---------+----+----------+------+-------+------+\n",
      "\n",
      "+------+----------+--------+\n",
      "|DEPTNO|     DNAME|    DLOC|\n",
      "+------+----------+--------+\n",
      "|    10|ACCOUNTING|NEW YORK|\n",
      "|    20|  RESEARCH|  DALLAS|\n",
      "|    30|     SALES| CHICAGO|\n",
      "|    40|OPERATIONS|  BOSTON|\n",
      "+------+----------+--------+\n",
      "\n",
      "+-----+------+------+\n",
      "|GRADE| LOSAL| HISAL|\n",
      "+-----+------+------+\n",
      "|    1| 700.0|1200.0|\n",
      "|    2|1201.0|1400.0|\n",
      "|    3|1401.0|2000.0|\n",
      "|    4|2001.0|3000.0|\n",
      "|    5|3001.0|9999.0|\n",
      "+-----+------+------+\n",
      "\n"
     ]
    }
   ],
   "source": [
    "# 1) Display all the information of the emp,dept,sal table?\n",
    "\n",
    "emp.select('*').show()\n",
    "dept.select('*').show()\n",
    "sal.select('*').show()"
   ]
  },
  {
   "cell_type": "code",
   "execution_count": 10,
   "metadata": {},
   "outputs": [
    {
     "name": "stdout",
     "output_type": "stream",
     "text": [
      "+-----+-----+---------+----+----------+------+----+------+\n",
      "|EMPNO|ENAME|      JOB| MGR|  HIREDATE|   SAL|COMM|DEPTNO|\n",
      "+-----+-----+---------+----+----------+------+----+------+\n",
      "| 7566|JONES|  MANAGER|7839|1981-04-02|2975.0|null|    20|\n",
      "| 7698|BLAKE|  MANAGER|7839|1981-05-01|2850.0|null|    30|\n",
      "| 7782|CLARK|  MANAGER|7839|1981-06-09|2450.0|null|    10|\n",
      "| 7788|SCOTT|  ANALYST|7566|1982-12-09|3000.0|null|    20|\n",
      "| 7839| KING|PRESIDENT|null|1981-11-17|5000.0|null|    10|\n",
      "| 7902| FORD|  ANALYST|7566|1981-12-03|3000.0|null|    20|\n",
      "+-----+-----+---------+----+----------+------+----+------+\n",
      "\n"
     ]
    }
   ],
   "source": [
    "#Who is earning more than 2000 rs\n",
    "\n",
    "emp.filter(col(\"SAL\") > 2000).show()"
   ]
  },
  {
   "cell_type": "code",
   "execution_count": 11,
   "metadata": {},
   "outputs": [
    {
     "name": "stdout",
     "output_type": "stream",
     "text": [
      "+-----+-----+---------+----+----------+------+------+------+\n",
      "|EMPNO|ENAME|      JOB| MGR|  HIREDATE|   SAL|  COMM|DEPTNO|\n",
      "+-----+-----+---------+----+----------+------+------+------+\n",
      "| 7788|SCOTT|  ANALYST|7566|1982-12-09|3000.0|  null|    20|\n",
      "| 7499|ALLEN| SALESMAN|7698|1981-02-20|1600.0|300.00|    30|\n",
      "| 7369|SMITH|    CLERK|7902|1980-12-17| 800.0|  null|    20|\n",
      "| 7566|JONES|  MANAGER|7839|1981-04-02|2975.0|  null|    20|\n",
      "| 7839| KING|PRESIDENT|null|1981-11-17|5000.0|  null|    10|\n",
      "+-----+-----+---------+----+----------+------+------+------+\n",
      "\n"
     ]
    }
   ],
   "source": [
    "#wants to remove the duplicates based on one column\n",
    "\n",
    "emp.dropDuplicates(['JOB']).show()"
   ]
  },
  {
   "cell_type": "code",
   "execution_count": 12,
   "metadata": {},
   "outputs": [
    {
     "name": "stdout",
     "output_type": "stream",
     "text": [
      "+---------+-----+\n",
      "|      JOB|count|\n",
      "+---------+-----+\n",
      "|  ANALYST|    2|\n",
      "| SALESMAN|    4|\n",
      "|    CLERK|    4|\n",
      "|  MANAGER|    3|\n",
      "|PRESIDENT|    1|\n",
      "+---------+-----+\n",
      "\n"
     ]
    }
   ],
   "source": [
    "# How to Find the number of duplicate rows in spark\n",
    "\n",
    "emp.groupBy(\"JOB\").count().show()"
   ]
  },
  {
   "cell_type": "code",
   "execution_count": 14,
   "metadata": {},
   "outputs": [
    {
     "name": "stdout",
     "output_type": "stream",
     "text": [
      "+-----+------+--------+----+----------+------+-------+------+\n",
      "|EMPNO| ENAME|     JOB| MGR|  HIREDATE|   SAL|   COMM|DEPTNO|\n",
      "+-----+------+--------+----+----------+------+-------+------+\n",
      "| 7499| ALLEN|SALESMAN|7698|1981-02-20|1600.0| 300.00|    30|\n",
      "| 7521|  WARD|SALESMAN|7698|1981-02-22|1250.0| 500.00|    30|\n",
      "| 7654|MARTIN|SALESMAN|7698|1981-09-28|1250.0|1400.00|    30|\n",
      "| 7844|TURNER|SALESMAN|7698|1981-09-08|1500.0|   0.00|    30|\n",
      "+-----+------+--------+----+----------+------+-------+------+\n",
      "\n",
      "+-----+------+--------+----+----------+------+-------+------+\n",
      "|EMPNO| ENAME|     JOB| MGR|  HIREDATE|   SAL|   COMM|DEPTNO|\n",
      "+-----+------+--------+----+----------+------+-------+------+\n",
      "| 7499| ALLEN|SALESMAN|7698|1981-02-20|1600.0| 300.00|    30|\n",
      "| 7521|  WARD|SALESMAN|7698|1981-02-22|1250.0| 500.00|    30|\n",
      "| 7654|MARTIN|SALESMAN|7698|1981-09-28|1250.0|1400.00|    30|\n",
      "| 7844|TURNER|SALESMAN|7698|1981-09-08|1500.0|   0.00|    30|\n",
      "+-----+------+--------+----+----------+------+-------+------+\n",
      "\n"
     ]
    }
   ],
   "source": [
    "#remove the null values based on column\n",
    "\n",
    "emp.filter(col(\"COMM\").isNotNull()).show()\n",
    "\n",
    "#if any column haves 'null' other than comm also will get droped(but in this dataset we dont have like that values)\n",
    "emp.na.drop(how = 'any').show() \n",
    "\n",
    "#instead of \"any\" if I give \"all\" when all the row values are null then only it will get drop"
   ]
  },
  {
   "cell_type": "code",
   "execution_count": 15,
   "metadata": {},
   "outputs": [
    {
     "name": "stdout",
     "output_type": "stream",
     "text": [
      "+-----+------+---------+----+----------+------+-------+------+\n",
      "|EMPNO| ENAME|      JOB| MGR|  HIREDATE|   SAL|   COMM|DEPTNO|\n",
      "+-----+------+---------+----+----------+------+-------+------+\n",
      "| 7369| SMITH|    CLERK|7902|1980-12-17| 800.0|     50|    20|\n",
      "| 7499| ALLEN| SALESMAN|7698|1981-02-20|1600.0| 300.00|    30|\n",
      "| 7521|  WARD| SALESMAN|7698|1981-02-22|1250.0| 500.00|    30|\n",
      "| 7566| JONES|  MANAGER|7839|1981-04-02|2975.0|     50|    20|\n",
      "| 7654|MARTIN| SALESMAN|7698|1981-09-28|1250.0|1400.00|    30|\n",
      "| 7698| BLAKE|  MANAGER|7839|1981-05-01|2850.0|     50|    30|\n",
      "| 7782| CLARK|  MANAGER|7839|1981-06-09|2450.0|     50|    10|\n",
      "| 7788| SCOTT|  ANALYST|7566|1982-12-09|3000.0|     50|    20|\n",
      "| 7839|  KING|PRESIDENT|null|1981-11-17|5000.0|     50|    10|\n",
      "| 7844|TURNER| SALESMAN|7698|1981-09-08|1500.0|   0.00|    30|\n",
      "| 7876| ADAMS|    CLERK|7788|1983-01-12|1100.0|     50|    20|\n",
      "| 7900| JAMES|    CLERK|7698|1981-12-03| 950.0|     50|    30|\n",
      "| 7902|  FORD|  ANALYST|7566|1981-12-03|3000.0|     50|    20|\n",
      "| 7934|MILLER|    CLERK|7782|1982-01-23|1300.0|     50|    10|\n",
      "+-----+------+---------+----+----------+------+-------+------+\n",
      "\n"
     ]
    }
   ],
   "source": [
    "#Fill the null values\n",
    "emp.na.fill({'COMM':50}).show()"
   ]
  },
  {
   "cell_type": "code",
   "execution_count": 16,
   "metadata": {},
   "outputs": [
    {
     "name": "stdout",
     "output_type": "stream",
     "text": [
      "+-----+------+---------+----+----------+------+-------+------+\n",
      "|EMPNO| ENAME|      JOB| MGR|  HIREDATE|   SAL|   COMM|DEPTNO|\n",
      "+-----+------+---------+----+----------+------+-------+------+\n",
      "| 7369| SMITH|      CLK|7902|1980-12-17| 800.0|   null|    20|\n",
      "| 7499| ALLEN| SALESMAN|7698|1981-02-20|1600.0| 300.00|    30|\n",
      "| 7521|  WARD| SALESMAN|7698|1981-02-22|1250.0| 500.00|    30|\n",
      "| 7566| JONES|  MANAGER|7839|1981-04-02|2975.0|   null|    20|\n",
      "| 7654|MARTIN| SALESMAN|7698|1981-09-28|1250.0|1400.00|    30|\n",
      "| 7698| BLAKE|  MANAGER|7839|1981-05-01|2850.0|   null|    30|\n",
      "| 7782| CLARK|  MANAGER|7839|1981-06-09|2450.0|   null|    10|\n",
      "| 7788| SCOTT|  ANALYST|7566|1982-12-09|3000.0|   null|    20|\n",
      "| 7839|  KING|PRESIDENT|null|1981-11-17|5000.0|   null|    10|\n",
      "| 7844|TURNER| SALESMAN|7698|1981-09-08|1500.0|   0.00|    30|\n",
      "| 7876| ADAMS|      CLK|7788|1983-01-12|1100.0|   null|    20|\n",
      "| 7900| JAMES|      CLK|7698|1981-12-03| 950.0|   null|    30|\n",
      "| 7902|  FORD|  ANALYST|7566|1981-12-03|3000.0|   null|    20|\n",
      "| 7934|MILLER|      CLK|7782|1982-01-23|1300.0|   null|    10|\n",
      "+-----+------+---------+----+----------+------+-------+------+\n",
      "\n",
      "+-----+------+---------+----+----------+------+-------+------+\n",
      "|EMPNO| ENAME|      JOB| MGR|  HIREDATE|   SAL|   COMM|DEPTNO|\n",
      "+-----+------+---------+----+----------+------+-------+------+\n",
      "| 7369| SMITH|    CLERK|1234|1980-12-17| 800.0|   null|    20|\n",
      "| 7499| ALLEN| SALESMAN|7698|1981-02-20|1600.0| 300.00|    30|\n",
      "| 7521|  WARD| SALESMAN|7698|1981-02-22|1250.0| 500.00|    30|\n",
      "| 7566| JONES|  MANAGER|7839|1981-04-02|2975.0|   null|    20|\n",
      "| 7654|MARTIN| SALESMAN|7698|1981-09-28|1250.0|1400.00|    30|\n",
      "| 7698| BLAKE|  MANAGER|7839|1981-05-01|2850.0|   null|    30|\n",
      "| 7782| CLARK|  MANAGER|7839|1981-06-09|2450.0|   null|    10|\n",
      "| 7788| SCOTT|  ANALYST|7566|1982-12-09|3000.0|   null|    20|\n",
      "| 7839|  KING|PRESIDENT|null|1981-11-17|5000.0|   null|    10|\n",
      "| 7844|TURNER| SALESMAN|7698|1981-09-08|1500.0|   0.00|    30|\n",
      "| 7876| ADAMS|    CLERK|7788|1983-01-12|1100.0|   null|    20|\n",
      "| 7900| JAMES|    CLERK|7698|1981-12-03| 950.0|   null|    30|\n",
      "| 1234|  FORD|  ANALYST|7566|1981-12-03|3000.0|   null|    20|\n",
      "| 7934|MILLER|    CLERK|7782|1982-01-23|1300.0|   null|    10|\n",
      "+-----+------+---------+----+----------+------+-------+------+\n",
      "\n"
     ]
    }
   ],
   "source": [
    "#Replace JOB value is CLERK by CLK\n",
    "emp.na.replace(['CLERK'],['CLK'], 'JOB').show()\n",
    "\n",
    "#Replace wherever value value is 7902 with 1234\n",
    "emp.na.replace([7902],[1234]).show()"
   ]
  },
  {
   "cell_type": "code",
   "execution_count": 17,
   "metadata": {},
   "outputs": [
    {
     "data": {
      "text/plain": [
       "u'KING'"
      ]
     },
     "execution_count": 17,
     "metadata": {},
     "output_type": "execute_result"
    }
   ],
   "source": [
    "# Give name of the higehest salary getter\n",
    "\n",
    "emp.withColumn(\"RANK\", dense_rank().over(Window.orderBy(desc(\"SAL\")))).filter(col(\"RANK\") == 1).select(\"ENAME\").head()[0]"
   ]
  },
  {
   "cell_type": "code",
   "execution_count": 18,
   "metadata": {},
   "outputs": [
    {
     "name": "stdout",
     "output_type": "stream",
     "text": [
      "+-----+-----+-------+----+----------+------+----+------+\n",
      "|EMPNO|ENAME|    JOB| MGR|  HIREDATE|   SAL|COMM|DEPTNO|\n",
      "+-----+-----+-------+----+----------+------+----+------+\n",
      "| 7788|SCOTT|ANALYST|7566|1982-12-09|3000.0|null|    20|\n",
      "| 7902| FORD|ANALYST|7566|1981-12-03|3000.0|null|    20|\n",
      "+-----+-----+-------+----+----------+------+----+------+\n",
      "\n"
     ]
    }
   ],
   "source": [
    "#Finding second highest salary without ranking analytical function\n",
    "\n",
    "emp.filter(col(\"SAL\") == emp.filter(col(\"SAL\") < emp.select(max(\"SAL\")).head()[0]).select(max(\"SAL\")).head()[0]).show()"
   ]
  },
  {
   "cell_type": "code",
   "execution_count": 19,
   "metadata": {},
   "outputs": [
    {
     "name": "stdout",
     "output_type": "stream",
     "text": [
      "+------+\n",
      "|  DLOC|\n",
      "+------+\n",
      "|DALLAS|\n",
      "+------+\n",
      "\n"
     ]
    }
   ],
   "source": [
    "#Passing multiple condition at a time in join\n",
    "\n",
    "# 38. Display the location of SMITH.\n",
    "\n",
    "emp.alias(\"e\").join(dept.alias(\"d\"), [col(\"e.DEPTNO\") == col(\"d.DEPTNO\"), col(\"e.ENAME\") == \"SMITH\"]).select(\"DLOC\").show()"
   ]
  },
  {
   "cell_type": "code",
   "execution_count": 21,
   "metadata": {},
   "outputs": [
    {
     "name": "stdout",
     "output_type": "stream",
     "text": [
      "+-----+-----+-------+----+----------+------+----+------+\n",
      "|EMPNO|ENAME|    JOB| MGR|  HIREDATE|   SAL|COMM|DEPTNO|\n",
      "+-----+-----+-------+----+----------+------+----+------+\n",
      "| 7788|SCOTT|ANALYST|7566|1982-12-09|3000.0|null|    20|\n",
      "| 7902| FORD|ANALYST|7566|1981-12-03|3000.0|null|    20|\n",
      "+-----+-----+-------+----+----------+------+----+------+\n",
      "\n"
     ]
    }
   ],
   "source": [
    "#Self_Join & multiple condition passing\n",
    "\n",
    "#find the person who is earning more than the manager\n",
    "e = emp.alias(\"e\")\n",
    "m = emp.alias(\"m\")\n",
    "\n",
    "cond = [col(\"e.MGR\") == col(\"m.EMPNO\"), col(\"e.SAL\") > col(\"m.SAL\")]\n",
    "\n",
    "e.join(m, cond).select(\"e.*\").show()"
   ]
  },
  {
   "cell_type": "markdown",
   "metadata": {},
   "source": [
    "# UDF Practice "
   ]
  },
  {
   "cell_type": "code",
   "execution_count": 23,
   "metadata": {},
   "outputs": [],
   "source": [
    "sal_inc = sc.parallelize([(100,10),(200,20)]).toDF(['SAL', 'INC'])"
   ]
  },
  {
   "cell_type": "code",
   "execution_count": 24,
   "metadata": {},
   "outputs": [
    {
     "name": "stdout",
     "output_type": "stream",
     "text": [
      "+---+---+\n",
      "|SAL|INC|\n",
      "+---+---+\n",
      "|100| 10|\n",
      "|200| 20|\n",
      "+---+---+\n",
      "\n"
     ]
    }
   ],
   "source": [
    "sal_inc.show()"
   ]
  },
  {
   "cell_type": "markdown",
   "metadata": {},
   "source": [
    "Qn: create a new column return as tuple if sal is greater than 100 then return loan as Personal and loan amt as inc * 12 * 5"
   ]
  },
  {
   "cell_type": "code",
   "execution_count": 26,
   "metadata": {},
   "outputs": [],
   "source": [
    "schema = StructType([\n",
    "    StructField(\"loan\", StringType()),\n",
    "    StructField(\"loanAmt\", IntegerType())\n",
    "])"
   ]
  },
  {
   "cell_type": "code",
   "execution_count": 28,
   "metadata": {},
   "outputs": [],
   "source": [
    "def prodAndLoan(a, b): \n",
    "    if (a > 100): \n",
    "        return (\"Personal loan\", b * 12 * 5) \n",
    "    else: \n",
    "        return (\"No loan\", 0)"
   ]
  },
  {
   "cell_type": "code",
   "execution_count": 29,
   "metadata": {},
   "outputs": [],
   "source": [
    "prod_prop = udf(prodAndLoan, schema)"
   ]
  },
  {
   "cell_type": "code",
   "execution_count": 30,
   "metadata": {},
   "outputs": [],
   "source": [
    "loan_sanctioned = sal_inc.withColumn(\"newCol\", prod_prop(sal_inc.SAL, sal_inc.INC))"
   ]
  },
  {
   "cell_type": "code",
   "execution_count": 31,
   "metadata": {},
   "outputs": [
    {
     "name": "stdout",
     "output_type": "stream",
     "text": [
      "+---+---+---------------------+\n",
      "|SAL|INC|newCol               |\n",
      "+---+---+---------------------+\n",
      "|100|10 |[No loan, 0]         |\n",
      "|200|20 |[Personal loan, 1200]|\n",
      "+---+---+---------------------+\n",
      "\n"
     ]
    }
   ],
   "source": [
    "loan_sanctioned.show(truncate = 0 )"
   ]
  },
  {
   "cell_type": "code",
   "execution_count": 32,
   "metadata": {},
   "outputs": [
    {
     "name": "stdout",
     "output_type": "stream",
     "text": [
      "+---+---+-------+\n",
      "|SAL|INC|loanAmt|\n",
      "+---+---+-------+\n",
      "|100| 10|      0|\n",
      "|200| 20|   1200|\n",
      "+---+---+-------+\n",
      "\n"
     ]
    }
   ],
   "source": [
    "loan_sanctioned.select(\"SAL\", \"INC\", col(\"newCol.loanAmt\")).show()"
   ]
  },
  {
   "cell_type": "code",
   "execution_count": 33,
   "metadata": {},
   "outputs": [],
   "source": [
    "#incase if it is not follows struct type standard use col(\"INC\")[1] to get second value in the list(loanAmt)\n",
    "\n",
    "test = sc.parallelize([(100,[10,40]),(200,[20,30])]).toDF(['SAL', 'INC'])"
   ]
  },
  {
   "cell_type": "code",
   "execution_count": 34,
   "metadata": {},
   "outputs": [
    {
     "name": "stdout",
     "output_type": "stream",
     "text": [
      "+------+\n",
      "|INC[1]|\n",
      "+------+\n",
      "|    40|\n",
      "|    30|\n",
      "+------+\n",
      "\n"
     ]
    }
   ],
   "source": [
    "test.select(col(\"INC\")[1]).show()"
   ]
  },
  {
   "cell_type": "code",
   "execution_count": null,
   "metadata": {},
   "outputs": [],
   "source": []
  }
 ],
 "metadata": {
  "kernelspec": {
   "display_name": "Python 3",
   "language": "python",
   "name": "python3"
  },
  "language_info": {
   "codemirror_mode": {
    "name": "ipython",
    "version": 2
   },
   "file_extension": ".py",
   "mimetype": "text/x-python",
   "name": "python",
   "nbconvert_exporter": "python",
   "pygments_lexer": "ipython2",
   "version": "2.7.15rc1"
  }
 },
 "nbformat": 4,
 "nbformat_minor": 2
}
