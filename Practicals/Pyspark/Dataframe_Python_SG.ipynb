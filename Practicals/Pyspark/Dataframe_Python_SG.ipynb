{
 "cells": [
  {
   "cell_type": "code",
   "execution_count": 1,
   "metadata": {},
   "outputs": [],
   "source": [
    "from pyspark.sql import SparkSession\n",
    "from pyspark.sql.functions import *\n",
    "from pyspark.sql.types import *"
   ]
  },
  {
   "cell_type": "code",
   "execution_count": 2,
   "metadata": {},
   "outputs": [],
   "source": [
    "spark = SparkSession.builder \\\n",
    ".master(\"local\") \\\n",
    ".appName(\"Bank SG\") \\\n",
    ".config(\"spark.some.config.option\", \"some-value\") \\\n",
    ".getOrCreate()"
   ]
  },
  {
   "cell_type": "code",
   "execution_count": 3,
   "metadata": {},
   "outputs": [],
   "source": [
    "# Customer\n",
    "cus = spark.read.format(\"csv\").option(\"sep\", \";\").option(\"inferSchema\", \"true\").option(\"header\", \"true\").load(\"customer\")\n",
    "# Account    \n",
    "acc = spark.read.format(\"csv\").option(\"sep\", \";\").option(\"inferSchema\", \"true\").option(\"header\", \"true\").load(\"Account\")\n",
    "# Product Rule\n",
    "prodRule = spark.read.format(\"csv\").option(\"sep\", \";\").option(\"inferSchema\", \"true\").option(\"header\", \"true\").load(\"Product Rules\")\n",
    "# Statement\n",
    "stat = spark.read.format(\"csv\").option(\"sep\", \";\").option(\"inferSchema\", \"true\").option(\"header\", \"true\").load(\"Statement\")   "
   ]
  },
  {
   "cell_type": "code",
   "execution_count": 4,
   "metadata": {},
   "outputs": [
    {
     "name": "stdout",
     "output_type": "stream",
     "text": [
      "+---+------+-----------+--------------+----------+----+\n",
      "| id| accNo|phoneNumber|       address|       PAN|Name|\n",
      "+---+------+-----------+--------------+----------+----+\n",
      "|  1|ac0001| 9999999999|Taj Mahal,Agra|ARSPP****7| Ram|\n",
      "+---+------+-----------+--------------+----------+----+\n",
      "\n",
      "+------+--------------------+------+----------+------+\n",
      "|  acNo|              branch|  type|    openOn|status|\n",
      "+------+--------------------+------+----------+------+\n",
      "|ac0001|Pritech 11 Block,...|saving|10-01-2001|active|\n",
      "+------+--------------------+------+----------+------+\n",
      "\n",
      "+-------------+-------+------------+\n",
      "|      Product|   rule|      amount|\n",
      "+-------------+-------+------------+\n",
      "|     car loan|dti<0.5| salary*12*3|\n",
      "|personal loan|dti<0.7| salary*12*5|\n",
      "|    home loan|dti<0.3|salary*12*10|\n",
      "+-------------+-------+------------+\n",
      "\n",
      "+------+--------+-------+-------------+\n",
      "| accNo|credited|debited|       source|\n",
      "+------+--------+-------+-------------+\n",
      "|ac0001|    1000|   null|       salary|\n",
      "|ac0001|    null|    100|    home loan|\n",
      "|ac0001|    null|     20|      grosary|\n",
      "|ac0001|    null|     30|     car loan|\n",
      "|ac0001|    null|    200|cash withdraw|\n",
      "+------+--------+-------+-------------+\n",
      "\n"
     ]
    }
   ],
   "source": [
    "cus.show()\n",
    "acc.show()\n",
    "prodRule.show()\n",
    "stat.show()"
   ]
  },
  {
   "cell_type": "code",
   "execution_count": 5,
   "metadata": {},
   "outputs": [
    {
     "data": {
      "text/plain": [
       "DataFrame[id: int, accNo: string, phoneNumber: bigint, address: string, PAN: string, Name: string]"
      ]
     },
     "execution_count": 5,
     "metadata": {},
     "output_type": "execute_result"
    }
   ],
   "source": [
    "cus.persist()"
   ]
  },
  {
   "cell_type": "code",
   "execution_count": null,
   "metadata": {},
   "outputs": [],
   "source": [
    "# Finding DTI:\n",
    "\n"
   ]
  },
  {
   "cell_type": "code",
   "execution_count": 5,
   "metadata": {},
   "outputs": [],
   "source": [
    "#Finding DTI:\n",
    "\n",
    "stat1 = stat.withColumn(\"credited\", when(stat.credited.isNull(), 0).otherwise(stat.credited)) #diff of scala\n",
    "statSumDeb = stat1.groupBy(\"accNo\").agg(sum(\"debited\").alias(\"totDebited\"))\n",
    "statSumCre = stat1.filter(stat1.source == \"salary\").groupBy(\"accNo\").agg(sum(\"credited\").alias(\"totCredited\"))\n",
    "statDebCre = statSumCre.join(statSumDeb, \"accNo\")\n",
    "DTI_DF = statDebCre.withColumn(\"DTI\", col(\"totDebited\") / col(\"totCredited\"))"
   ]
  },
  {
   "cell_type": "code",
   "execution_count": 6,
   "metadata": {},
   "outputs": [
    {
     "name": "stdout",
     "output_type": "stream",
     "text": [
      "+------+-----------+\n",
      "| accNo|totCredited|\n",
      "+------+-----------+\n",
      "|ac0001|       1000|\n",
      "+------+-----------+\n",
      "\n",
      "+------+-----------+----------+----+\n",
      "| accNo|totCredited|totDebited| DTI|\n",
      "+------+-----------+----------+----+\n",
      "|ac0001|       1000|       350|0.35|\n",
      "+------+-----------+----------+----+\n",
      "\n"
     ]
    }
   ],
   "source": [
    "statSumCre.show()\n",
    "DTI_DF.show()"
   ]
  },
  {
   "cell_type": "code",
   "execution_count": 7,
   "metadata": {},
   "outputs": [
    {
     "name": "stdout",
     "output_type": "stream",
     "text": [
      "+------+----+-----------+----+----------------------+\n",
      "|accNo |Name|totCredited|DTI |newCol                |\n",
      "+------+----+-----------+----+----------------------+\n",
      "|ac0001|Ram |1000       |0.35|[Personal loan, 60000]|\n",
      "+------+----+-----------+----+----------------------+\n",
      "\n"
     ]
    }
   ],
   "source": [
    "#Final output\n",
    "\n",
    "schema = StructType([\n",
    "    StructField(\"loan\", StringType()),\n",
    "    StructField(\"loanAmt\", IntegerType())\n",
    "])\n",
    "\n",
    "def prodAndLoan(a, b): \n",
    "    if (a > 0.30): \n",
    "        return (\"Personal loan\", b * 12 * 5) \n",
    "    else: \n",
    "        return (\"No loan\", 0)\n",
    "    \n",
    "prod_prop = udf(prodAndLoan, schema)\n",
    "\n",
    "a = cus.join(DTI_DF, \"accNo\").select(\"accNo\", \"Name\", \"totCredited\", \"DTI\")\n",
    "b = a.withColumn(\"newCol\", prod_prop(a.DTI, a.totCredited))\n",
    "\n",
    "b.show(truncate=0)\n",
    "    "
   ]
  },
  {
   "cell_type": "code",
   "execution_count": 8,
   "metadata": {},
   "outputs": [
    {
     "name": "stdout",
     "output_type": "stream",
     "text": [
      "+------------+----+----+--------------------------+-------------+-------+\n",
      "|customer ACC|Name| DTI|month(current_timestamp())|         loan|loanAmt|\n",
      "+------------+----+----+--------------------------+-------------+-------+\n",
      "|      ac0001| Ram|0.35|                        10|Personal loan|  60000|\n",
      "+------------+----+----+--------------------------+-------------+-------+\n",
      "\n"
     ]
    }
   ],
   "source": [
    "b.select(b.accNo.alias(\"customer ACC\"), \"Name\", \"DTI\", month(current_timestamp()), \"newCol.loan\", \"newcol.loanAmt\").show()"
   ]
  },
  {
   "cell_type": "code",
   "execution_count": 9,
   "metadata": {},
   "outputs": [
    {
     "name": "stdout",
     "output_type": "stream",
     "text": [
      "+------+----+-----------+----+\n",
      "| accNo|Name|totCredited| DTI|\n",
      "+------+----+-----------+----+\n",
      "|ac0001| Ram|       1000|0.35|\n",
      "+------+----+-----------+----+\n",
      "\n"
     ]
    }
   ],
   "source": [
    "a.show()"
   ]
  },
  {
   "cell_type": "code",
   "execution_count": 10,
   "metadata": {},
   "outputs": [
    {
     "data": {
      "text/plain": [
       "['id', 'accNo', 'phoneNumber', 'address', 'PAN', 'Name']"
      ]
     },
     "execution_count": 10,
     "metadata": {},
     "output_type": "execute_result"
    }
   ],
   "source": [
    "cus.schema.fieldNames()"
   ]
  },
  {
   "cell_type": "code",
   "execution_count": null,
   "metadata": {},
   "outputs": [],
   "source": []
  }
 ],
 "metadata": {
  "kernelspec": {
   "display_name": "Python 3",
   "language": "python",
   "name": "python3"
  },
  "language_info": {
   "codemirror_mode": {
    "name": "ipython",
    "version": 2
   },
   "file_extension": ".py",
   "mimetype": "text/x-python",
   "name": "python",
   "nbconvert_exporter": "python",
   "pygments_lexer": "ipython2",
   "version": "2.7.15rc1"
  }
 },
 "nbformat": 4,
 "nbformat_minor": 2
}
